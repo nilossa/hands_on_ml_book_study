{
 "cells": [
  {
   "cell_type": "code",
   "execution_count": 1,
   "id": "f6caa55c",
   "metadata": {},
   "outputs": [],
   "source": [
    "import numpy as np\n",
    "import pandas as pd\n",
    "import matplotlib as mpl\n",
    "import matplotlib.pyplot as plt\n",
    "from sklearn.preprocessing import StandardScaler\n",
    "from sklearn.model_selection import GridSearchCV"
   ]
  },
  {
   "cell_type": "code",
   "execution_count": 2,
   "id": "d7ab3e44",
   "metadata": {},
   "outputs": [],
   "source": [
    "train_set = pd.read_csv('datasets/titanic/train.csv')\n",
    "test_set = pd.read_csv('datasets/titanic/test.csv')"
   ]
  },
  {
   "cell_type": "code",
   "execution_count": 3,
   "id": "f90dffc5",
   "metadata": {},
   "outputs": [
    {
     "data": {
      "text/html": [
       "<div>\n",
       "<style scoped>\n",
       "    .dataframe tbody tr th:only-of-type {\n",
       "        vertical-align: middle;\n",
       "    }\n",
       "\n",
       "    .dataframe tbody tr th {\n",
       "        vertical-align: top;\n",
       "    }\n",
       "\n",
       "    .dataframe thead th {\n",
       "        text-align: right;\n",
       "    }\n",
       "</style>\n",
       "<table border=\"1\" class=\"dataframe\">\n",
       "  <thead>\n",
       "    <tr style=\"text-align: right;\">\n",
       "      <th></th>\n",
       "      <th>PassengerId</th>\n",
       "      <th>Survived</th>\n",
       "      <th>Pclass</th>\n",
       "      <th>Name</th>\n",
       "      <th>Sex</th>\n",
       "      <th>Age</th>\n",
       "      <th>SibSp</th>\n",
       "      <th>Parch</th>\n",
       "      <th>Ticket</th>\n",
       "      <th>Fare</th>\n",
       "      <th>Cabin</th>\n",
       "      <th>Embarked</th>\n",
       "    </tr>\n",
       "  </thead>\n",
       "  <tbody>\n",
       "    <tr>\n",
       "      <th>0</th>\n",
       "      <td>1</td>\n",
       "      <td>0</td>\n",
       "      <td>3</td>\n",
       "      <td>Braund, Mr. Owen Harris</td>\n",
       "      <td>male</td>\n",
       "      <td>22.0</td>\n",
       "      <td>1</td>\n",
       "      <td>0</td>\n",
       "      <td>A/5 21171</td>\n",
       "      <td>7.2500</td>\n",
       "      <td>NaN</td>\n",
       "      <td>S</td>\n",
       "    </tr>\n",
       "    <tr>\n",
       "      <th>1</th>\n",
       "      <td>2</td>\n",
       "      <td>1</td>\n",
       "      <td>1</td>\n",
       "      <td>Cumings, Mrs. John Bradley (Florence Briggs Th...</td>\n",
       "      <td>female</td>\n",
       "      <td>38.0</td>\n",
       "      <td>1</td>\n",
       "      <td>0</td>\n",
       "      <td>PC 17599</td>\n",
       "      <td>71.2833</td>\n",
       "      <td>C85</td>\n",
       "      <td>C</td>\n",
       "    </tr>\n",
       "    <tr>\n",
       "      <th>2</th>\n",
       "      <td>3</td>\n",
       "      <td>1</td>\n",
       "      <td>3</td>\n",
       "      <td>Heikkinen, Miss. Laina</td>\n",
       "      <td>female</td>\n",
       "      <td>26.0</td>\n",
       "      <td>0</td>\n",
       "      <td>0</td>\n",
       "      <td>STON/O2. 3101282</td>\n",
       "      <td>7.9250</td>\n",
       "      <td>NaN</td>\n",
       "      <td>S</td>\n",
       "    </tr>\n",
       "    <tr>\n",
       "      <th>3</th>\n",
       "      <td>4</td>\n",
       "      <td>1</td>\n",
       "      <td>1</td>\n",
       "      <td>Futrelle, Mrs. Jacques Heath (Lily May Peel)</td>\n",
       "      <td>female</td>\n",
       "      <td>35.0</td>\n",
       "      <td>1</td>\n",
       "      <td>0</td>\n",
       "      <td>113803</td>\n",
       "      <td>53.1000</td>\n",
       "      <td>C123</td>\n",
       "      <td>S</td>\n",
       "    </tr>\n",
       "    <tr>\n",
       "      <th>4</th>\n",
       "      <td>5</td>\n",
       "      <td>0</td>\n",
       "      <td>3</td>\n",
       "      <td>Allen, Mr. William Henry</td>\n",
       "      <td>male</td>\n",
       "      <td>35.0</td>\n",
       "      <td>0</td>\n",
       "      <td>0</td>\n",
       "      <td>373450</td>\n",
       "      <td>8.0500</td>\n",
       "      <td>NaN</td>\n",
       "      <td>S</td>\n",
       "    </tr>\n",
       "  </tbody>\n",
       "</table>\n",
       "</div>"
      ],
      "text/plain": [
       "   PassengerId  Survived  Pclass  \\\n",
       "0            1         0       3   \n",
       "1            2         1       1   \n",
       "2            3         1       3   \n",
       "3            4         1       1   \n",
       "4            5         0       3   \n",
       "\n",
       "                                                Name     Sex   Age  SibSp  \\\n",
       "0                            Braund, Mr. Owen Harris    male  22.0      1   \n",
       "1  Cumings, Mrs. John Bradley (Florence Briggs Th...  female  38.0      1   \n",
       "2                             Heikkinen, Miss. Laina  female  26.0      0   \n",
       "3       Futrelle, Mrs. Jacques Heath (Lily May Peel)  female  35.0      1   \n",
       "4                           Allen, Mr. William Henry    male  35.0      0   \n",
       "\n",
       "   Parch            Ticket     Fare Cabin Embarked  \n",
       "0      0         A/5 21171   7.2500   NaN        S  \n",
       "1      0          PC 17599  71.2833   C85        C  \n",
       "2      0  STON/O2. 3101282   7.9250   NaN        S  \n",
       "3      0            113803  53.1000  C123        S  \n",
       "4      0            373450   8.0500   NaN        S  "
      ]
     },
     "execution_count": 3,
     "metadata": {},
     "output_type": "execute_result"
    }
   ],
   "source": [
    "train_set.head()"
   ]
  },
  {
   "cell_type": "code",
   "execution_count": 4,
   "id": "62fd38e0",
   "metadata": {},
   "outputs": [
    {
     "data": {
      "text/html": [
       "<div>\n",
       "<style scoped>\n",
       "    .dataframe tbody tr th:only-of-type {\n",
       "        vertical-align: middle;\n",
       "    }\n",
       "\n",
       "    .dataframe tbody tr th {\n",
       "        vertical-align: top;\n",
       "    }\n",
       "\n",
       "    .dataframe thead th {\n",
       "        text-align: right;\n",
       "    }\n",
       "</style>\n",
       "<table border=\"1\" class=\"dataframe\">\n",
       "  <thead>\n",
       "    <tr style=\"text-align: right;\">\n",
       "      <th></th>\n",
       "      <th>PassengerId</th>\n",
       "      <th>Survived</th>\n",
       "      <th>Pclass</th>\n",
       "      <th>Name</th>\n",
       "      <th>Sex</th>\n",
       "      <th>Age</th>\n",
       "      <th>SibSp</th>\n",
       "      <th>Parch</th>\n",
       "      <th>Ticket</th>\n",
       "      <th>Fare</th>\n",
       "      <th>Cabin</th>\n",
       "      <th>Embarked</th>\n",
       "    </tr>\n",
       "  </thead>\n",
       "  <tbody>\n",
       "    <tr>\n",
       "      <th>0</th>\n",
       "      <td>1</td>\n",
       "      <td>0</td>\n",
       "      <td>3</td>\n",
       "      <td>Braund, Mr. Owen Harris</td>\n",
       "      <td>male</td>\n",
       "      <td>22.0</td>\n",
       "      <td>1</td>\n",
       "      <td>0</td>\n",
       "      <td>A/5 21171</td>\n",
       "      <td>7.2500</td>\n",
       "      <td>NaN</td>\n",
       "      <td>S</td>\n",
       "    </tr>\n",
       "    <tr>\n",
       "      <th>1</th>\n",
       "      <td>2</td>\n",
       "      <td>1</td>\n",
       "      <td>1</td>\n",
       "      <td>Cumings, Mrs. John Bradley (Florence Briggs Th...</td>\n",
       "      <td>female</td>\n",
       "      <td>38.0</td>\n",
       "      <td>1</td>\n",
       "      <td>0</td>\n",
       "      <td>PC 17599</td>\n",
       "      <td>71.2833</td>\n",
       "      <td>C85</td>\n",
       "      <td>C</td>\n",
       "    </tr>\n",
       "    <tr>\n",
       "      <th>2</th>\n",
       "      <td>3</td>\n",
       "      <td>1</td>\n",
       "      <td>3</td>\n",
       "      <td>Heikkinen, Miss. Laina</td>\n",
       "      <td>female</td>\n",
       "      <td>26.0</td>\n",
       "      <td>0</td>\n",
       "      <td>0</td>\n",
       "      <td>STON/O2. 3101282</td>\n",
       "      <td>7.9250</td>\n",
       "      <td>NaN</td>\n",
       "      <td>S</td>\n",
       "    </tr>\n",
       "    <tr>\n",
       "      <th>3</th>\n",
       "      <td>4</td>\n",
       "      <td>1</td>\n",
       "      <td>1</td>\n",
       "      <td>Futrelle, Mrs. Jacques Heath (Lily May Peel)</td>\n",
       "      <td>female</td>\n",
       "      <td>35.0</td>\n",
       "      <td>1</td>\n",
       "      <td>0</td>\n",
       "      <td>113803</td>\n",
       "      <td>53.1000</td>\n",
       "      <td>C123</td>\n",
       "      <td>S</td>\n",
       "    </tr>\n",
       "    <tr>\n",
       "      <th>4</th>\n",
       "      <td>5</td>\n",
       "      <td>0</td>\n",
       "      <td>3</td>\n",
       "      <td>Allen, Mr. William Henry</td>\n",
       "      <td>male</td>\n",
       "      <td>35.0</td>\n",
       "      <td>0</td>\n",
       "      <td>0</td>\n",
       "      <td>373450</td>\n",
       "      <td>8.0500</td>\n",
       "      <td>NaN</td>\n",
       "      <td>S</td>\n",
       "    </tr>\n",
       "    <tr>\n",
       "      <th>...</th>\n",
       "      <td>...</td>\n",
       "      <td>...</td>\n",
       "      <td>...</td>\n",
       "      <td>...</td>\n",
       "      <td>...</td>\n",
       "      <td>...</td>\n",
       "      <td>...</td>\n",
       "      <td>...</td>\n",
       "      <td>...</td>\n",
       "      <td>...</td>\n",
       "      <td>...</td>\n",
       "      <td>...</td>\n",
       "    </tr>\n",
       "    <tr>\n",
       "      <th>886</th>\n",
       "      <td>887</td>\n",
       "      <td>0</td>\n",
       "      <td>2</td>\n",
       "      <td>Montvila, Rev. Juozas</td>\n",
       "      <td>male</td>\n",
       "      <td>27.0</td>\n",
       "      <td>0</td>\n",
       "      <td>0</td>\n",
       "      <td>211536</td>\n",
       "      <td>13.0000</td>\n",
       "      <td>NaN</td>\n",
       "      <td>S</td>\n",
       "    </tr>\n",
       "    <tr>\n",
       "      <th>887</th>\n",
       "      <td>888</td>\n",
       "      <td>1</td>\n",
       "      <td>1</td>\n",
       "      <td>Graham, Miss. Margaret Edith</td>\n",
       "      <td>female</td>\n",
       "      <td>19.0</td>\n",
       "      <td>0</td>\n",
       "      <td>0</td>\n",
       "      <td>112053</td>\n",
       "      <td>30.0000</td>\n",
       "      <td>B42</td>\n",
       "      <td>S</td>\n",
       "    </tr>\n",
       "    <tr>\n",
       "      <th>888</th>\n",
       "      <td>889</td>\n",
       "      <td>0</td>\n",
       "      <td>3</td>\n",
       "      <td>Johnston, Miss. Catherine Helen \"Carrie\"</td>\n",
       "      <td>female</td>\n",
       "      <td>NaN</td>\n",
       "      <td>1</td>\n",
       "      <td>2</td>\n",
       "      <td>W./C. 6607</td>\n",
       "      <td>23.4500</td>\n",
       "      <td>NaN</td>\n",
       "      <td>S</td>\n",
       "    </tr>\n",
       "    <tr>\n",
       "      <th>889</th>\n",
       "      <td>890</td>\n",
       "      <td>1</td>\n",
       "      <td>1</td>\n",
       "      <td>Behr, Mr. Karl Howell</td>\n",
       "      <td>male</td>\n",
       "      <td>26.0</td>\n",
       "      <td>0</td>\n",
       "      <td>0</td>\n",
       "      <td>111369</td>\n",
       "      <td>30.0000</td>\n",
       "      <td>C148</td>\n",
       "      <td>C</td>\n",
       "    </tr>\n",
       "    <tr>\n",
       "      <th>890</th>\n",
       "      <td>891</td>\n",
       "      <td>0</td>\n",
       "      <td>3</td>\n",
       "      <td>Dooley, Mr. Patrick</td>\n",
       "      <td>male</td>\n",
       "      <td>32.0</td>\n",
       "      <td>0</td>\n",
       "      <td>0</td>\n",
       "      <td>370376</td>\n",
       "      <td>7.7500</td>\n",
       "      <td>NaN</td>\n",
       "      <td>Q</td>\n",
       "    </tr>\n",
       "  </tbody>\n",
       "</table>\n",
       "<p>891 rows × 12 columns</p>\n",
       "</div>"
      ],
      "text/plain": [
       "     PassengerId  Survived  Pclass  \\\n",
       "0              1         0       3   \n",
       "1              2         1       1   \n",
       "2              3         1       3   \n",
       "3              4         1       1   \n",
       "4              5         0       3   \n",
       "..           ...       ...     ...   \n",
       "886          887         0       2   \n",
       "887          888         1       1   \n",
       "888          889         0       3   \n",
       "889          890         1       1   \n",
       "890          891         0       3   \n",
       "\n",
       "                                                  Name     Sex   Age  SibSp  \\\n",
       "0                              Braund, Mr. Owen Harris    male  22.0      1   \n",
       "1    Cumings, Mrs. John Bradley (Florence Briggs Th...  female  38.0      1   \n",
       "2                               Heikkinen, Miss. Laina  female  26.0      0   \n",
       "3         Futrelle, Mrs. Jacques Heath (Lily May Peel)  female  35.0      1   \n",
       "4                             Allen, Mr. William Henry    male  35.0      0   \n",
       "..                                                 ...     ...   ...    ...   \n",
       "886                              Montvila, Rev. Juozas    male  27.0      0   \n",
       "887                       Graham, Miss. Margaret Edith  female  19.0      0   \n",
       "888           Johnston, Miss. Catherine Helen \"Carrie\"  female   NaN      1   \n",
       "889                              Behr, Mr. Karl Howell    male  26.0      0   \n",
       "890                                Dooley, Mr. Patrick    male  32.0      0   \n",
       "\n",
       "     Parch            Ticket     Fare Cabin Embarked  \n",
       "0        0         A/5 21171   7.2500   NaN        S  \n",
       "1        0          PC 17599  71.2833   C85        C  \n",
       "2        0  STON/O2. 3101282   7.9250   NaN        S  \n",
       "3        0            113803  53.1000  C123        S  \n",
       "4        0            373450   8.0500   NaN        S  \n",
       "..     ...               ...      ...   ...      ...  \n",
       "886      0            211536  13.0000   NaN        S  \n",
       "887      0            112053  30.0000   B42        S  \n",
       "888      2        W./C. 6607  23.4500   NaN        S  \n",
       "889      0            111369  30.0000  C148        C  \n",
       "890      0            370376   7.7500   NaN        Q  \n",
       "\n",
       "[891 rows x 12 columns]"
      ]
     },
     "execution_count": 4,
     "metadata": {},
     "output_type": "execute_result"
    }
   ],
   "source": [
    "train_set"
   ]
  },
  {
   "cell_type": "markdown",
   "id": "b9a0ce1b",
   "metadata": {},
   "source": [
    "\n",
    "\n",
    "The attributes have the following meaning:\n",
    "\n",
    "   * PassengerId: a unique identifier for each passenger\n",
    "   * Survived: that's the target, 0 means the passenger did not survive, while 1 means he/she survived.\n",
    "   * Pclass: passenger class.\n",
    "   * Name, Sex, Age: self-explanatory\n",
    "   * SibSp: how many siblings & spouses of the passenger aboard the Titanic.\n",
    "   * Parch: how many children & parents of the passenger aboard the Titanic.\n",
    "   * Ticket: ticket id\n",
    "   * Fare: price paid (in pounds)\n",
    "   * Cabin: passenger's cabin number\n",
    "   * Embarked: where the passenger embarked the Titanic\n",
    "\n"
   ]
  },
  {
   "cell_type": "code",
   "execution_count": 5,
   "id": "9cd16321",
   "metadata": {},
   "outputs": [],
   "source": [
    "#Setting the Passenger ID as the dataframe index\n",
    "train_set = train_set.set_index(\"PassengerId\")\n",
    "test_set = test_set.set_index(\"PassengerId\")"
   ]
  },
  {
   "cell_type": "code",
   "execution_count": 6,
   "id": "3ff52698",
   "metadata": {},
   "outputs": [],
   "source": [
    "X_train = train_set.copy()"
   ]
  },
  {
   "cell_type": "code",
   "execution_count": 7,
   "id": "953871af",
   "metadata": {},
   "outputs": [],
   "source": [
    "y_train = X_train['Survived']"
   ]
  },
  {
   "cell_type": "code",
   "execution_count": 8,
   "id": "c0336f4f",
   "metadata": {},
   "outputs": [
    {
     "data": {
      "text/plain": [
       "PassengerId\n",
       "1      0\n",
       "2      1\n",
       "3      1\n",
       "4      1\n",
       "5      0\n",
       "      ..\n",
       "887    0\n",
       "888    1\n",
       "889    0\n",
       "890    1\n",
       "891    0\n",
       "Name: Survived, Length: 891, dtype: int64"
      ]
     },
     "execution_count": 8,
     "metadata": {},
     "output_type": "execute_result"
    }
   ],
   "source": [
    "y_train"
   ]
  },
  {
   "cell_type": "code",
   "execution_count": 9,
   "id": "5e6d32f5",
   "metadata": {},
   "outputs": [],
   "source": [
    "X_train = X_train.drop(columns='Survived')"
   ]
  },
  {
   "cell_type": "code",
   "execution_count": 10,
   "id": "69ecb092",
   "metadata": {},
   "outputs": [
    {
     "data": {
      "text/html": [
       "<div>\n",
       "<style scoped>\n",
       "    .dataframe tbody tr th:only-of-type {\n",
       "        vertical-align: middle;\n",
       "    }\n",
       "\n",
       "    .dataframe tbody tr th {\n",
       "        vertical-align: top;\n",
       "    }\n",
       "\n",
       "    .dataframe thead th {\n",
       "        text-align: right;\n",
       "    }\n",
       "</style>\n",
       "<table border=\"1\" class=\"dataframe\">\n",
       "  <thead>\n",
       "    <tr style=\"text-align: right;\">\n",
       "      <th></th>\n",
       "      <th>Pclass</th>\n",
       "      <th>Name</th>\n",
       "      <th>Sex</th>\n",
       "      <th>Age</th>\n",
       "      <th>SibSp</th>\n",
       "      <th>Parch</th>\n",
       "      <th>Ticket</th>\n",
       "      <th>Fare</th>\n",
       "      <th>Cabin</th>\n",
       "      <th>Embarked</th>\n",
       "    </tr>\n",
       "    <tr>\n",
       "      <th>PassengerId</th>\n",
       "      <th></th>\n",
       "      <th></th>\n",
       "      <th></th>\n",
       "      <th></th>\n",
       "      <th></th>\n",
       "      <th></th>\n",
       "      <th></th>\n",
       "      <th></th>\n",
       "      <th></th>\n",
       "      <th></th>\n",
       "    </tr>\n",
       "  </thead>\n",
       "  <tbody>\n",
       "    <tr>\n",
       "      <th>1</th>\n",
       "      <td>3</td>\n",
       "      <td>Braund, Mr. Owen Harris</td>\n",
       "      <td>male</td>\n",
       "      <td>22.0</td>\n",
       "      <td>1</td>\n",
       "      <td>0</td>\n",
       "      <td>A/5 21171</td>\n",
       "      <td>7.2500</td>\n",
       "      <td>NaN</td>\n",
       "      <td>S</td>\n",
       "    </tr>\n",
       "    <tr>\n",
       "      <th>2</th>\n",
       "      <td>1</td>\n",
       "      <td>Cumings, Mrs. John Bradley (Florence Briggs Th...</td>\n",
       "      <td>female</td>\n",
       "      <td>38.0</td>\n",
       "      <td>1</td>\n",
       "      <td>0</td>\n",
       "      <td>PC 17599</td>\n",
       "      <td>71.2833</td>\n",
       "      <td>C85</td>\n",
       "      <td>C</td>\n",
       "    </tr>\n",
       "    <tr>\n",
       "      <th>3</th>\n",
       "      <td>3</td>\n",
       "      <td>Heikkinen, Miss. Laina</td>\n",
       "      <td>female</td>\n",
       "      <td>26.0</td>\n",
       "      <td>0</td>\n",
       "      <td>0</td>\n",
       "      <td>STON/O2. 3101282</td>\n",
       "      <td>7.9250</td>\n",
       "      <td>NaN</td>\n",
       "      <td>S</td>\n",
       "    </tr>\n",
       "    <tr>\n",
       "      <th>4</th>\n",
       "      <td>1</td>\n",
       "      <td>Futrelle, Mrs. Jacques Heath (Lily May Peel)</td>\n",
       "      <td>female</td>\n",
       "      <td>35.0</td>\n",
       "      <td>1</td>\n",
       "      <td>0</td>\n",
       "      <td>113803</td>\n",
       "      <td>53.1000</td>\n",
       "      <td>C123</td>\n",
       "      <td>S</td>\n",
       "    </tr>\n",
       "    <tr>\n",
       "      <th>5</th>\n",
       "      <td>3</td>\n",
       "      <td>Allen, Mr. William Henry</td>\n",
       "      <td>male</td>\n",
       "      <td>35.0</td>\n",
       "      <td>0</td>\n",
       "      <td>0</td>\n",
       "      <td>373450</td>\n",
       "      <td>8.0500</td>\n",
       "      <td>NaN</td>\n",
       "      <td>S</td>\n",
       "    </tr>\n",
       "  </tbody>\n",
       "</table>\n",
       "</div>"
      ],
      "text/plain": [
       "             Pclass                                               Name  \\\n",
       "PassengerId                                                              \n",
       "1                 3                            Braund, Mr. Owen Harris   \n",
       "2                 1  Cumings, Mrs. John Bradley (Florence Briggs Th...   \n",
       "3                 3                             Heikkinen, Miss. Laina   \n",
       "4                 1       Futrelle, Mrs. Jacques Heath (Lily May Peel)   \n",
       "5                 3                           Allen, Mr. William Henry   \n",
       "\n",
       "                Sex   Age  SibSp  Parch            Ticket     Fare Cabin  \\\n",
       "PassengerId                                                                \n",
       "1              male  22.0      1      0         A/5 21171   7.2500   NaN   \n",
       "2            female  38.0      1      0          PC 17599  71.2833   C85   \n",
       "3            female  26.0      0      0  STON/O2. 3101282   7.9250   NaN   \n",
       "4            female  35.0      1      0            113803  53.1000  C123   \n",
       "5              male  35.0      0      0            373450   8.0500   NaN   \n",
       "\n",
       "            Embarked  \n",
       "PassengerId           \n",
       "1                  S  \n",
       "2                  C  \n",
       "3                  S  \n",
       "4                  S  \n",
       "5                  S  "
      ]
     },
     "execution_count": 10,
     "metadata": {},
     "output_type": "execute_result"
    }
   ],
   "source": [
    "X_train.head()"
   ]
  },
  {
   "cell_type": "code",
   "execution_count": 11,
   "id": "e21fa883",
   "metadata": {},
   "outputs": [
    {
     "data": {
      "text/plain": [
       "PassengerId\n",
       "1                                Braund, Mr. Owen Harris\n",
       "2      Cumings, Mrs. John Bradley (Florence Briggs Th...\n",
       "3                                 Heikkinen, Miss. Laina\n",
       "4           Futrelle, Mrs. Jacques Heath (Lily May Peel)\n",
       "5                               Allen, Mr. William Henry\n",
       "                             ...                        \n",
       "887                                Montvila, Rev. Juozas\n",
       "888                         Graham, Miss. Margaret Edith\n",
       "889             Johnston, Miss. Catherine Helen \"Carrie\"\n",
       "890                                Behr, Mr. Karl Howell\n",
       "891                                  Dooley, Mr. Patrick\n",
       "Name: Name, Length: 891, dtype: object"
      ]
     },
     "execution_count": 11,
     "metadata": {},
     "output_type": "execute_result"
    }
   ],
   "source": [
    "X_train['Name']"
   ]
  },
  {
   "cell_type": "code",
   "execution_count": 12,
   "id": "6a45f15f",
   "metadata": {},
   "outputs": [
    {
     "data": {
      "text/plain": [
       "G6             4\n",
       "C23 C25 C27    4\n",
       "B96 B98        4\n",
       "D              3\n",
       "C22 C26        3\n",
       "              ..\n",
       "C99            1\n",
       "C111           1\n",
       "A23            1\n",
       "C82            1\n",
       "E36            1\n",
       "Name: Cabin, Length: 147, dtype: int64"
      ]
     },
     "execution_count": 12,
     "metadata": {},
     "output_type": "execute_result"
    }
   ],
   "source": [
    "X_train['Cabin'].value_counts()"
   ]
  },
  {
   "cell_type": "code",
   "execution_count": 13,
   "id": "4f316324",
   "metadata": {},
   "outputs": [
    {
     "data": {
      "text/plain": [
       "S    644\n",
       "C    168\n",
       "Q     77\n",
       "Name: Embarked, dtype: int64"
      ]
     },
     "execution_count": 13,
     "metadata": {},
     "output_type": "execute_result"
    }
   ],
   "source": [
    "X_train['Embarked'].value_counts()"
   ]
  },
  {
   "cell_type": "code",
   "execution_count": 14,
   "id": "c0d1cef6",
   "metadata": {},
   "outputs": [
    {
     "name": "stdout",
     "output_type": "stream",
     "text": [
      "<class 'pandas.core.frame.DataFrame'>\n",
      "Int64Index: 891 entries, 1 to 891\n",
      "Data columns (total 10 columns):\n",
      " #   Column    Non-Null Count  Dtype  \n",
      "---  ------    --------------  -----  \n",
      " 0   Pclass    891 non-null    int64  \n",
      " 1   Name      891 non-null    object \n",
      " 2   Sex       891 non-null    object \n",
      " 3   Age       714 non-null    float64\n",
      " 4   SibSp     891 non-null    int64  \n",
      " 5   Parch     891 non-null    int64  \n",
      " 6   Ticket    891 non-null    object \n",
      " 7   Fare      891 non-null    float64\n",
      " 8   Cabin     204 non-null    object \n",
      " 9   Embarked  889 non-null    object \n",
      "dtypes: float64(2), int64(3), object(5)\n",
      "memory usage: 76.6+ KB\n"
     ]
    }
   ],
   "source": [
    "X_train.info()"
   ]
  },
  {
   "cell_type": "markdown",
   "id": "2b0304ef",
   "metadata": {},
   "source": [
    "* Features with null values: Age, Cabin and Embarked "
   ]
  },
  {
   "cell_type": "code",
   "execution_count": 15,
   "id": "a1197ca0",
   "metadata": {},
   "outputs": [
    {
     "data": {
      "text/plain": [
       "<AxesSubplot:>"
      ]
     },
     "execution_count": 15,
     "metadata": {},
     "output_type": "execute_result"
    },
    {
     "data": {
      "image/png": "[encoded data removed]",
      "text/plain": [
       "<Figure size 432x288 with 1 Axes>"
      ]
     },
     "metadata": {
      "needs_background": "light"
     },
     "output_type": "display_data"
    }
   ],
   "source": [
    "X_train['Fare'].hist()"
   ]
  },
  {
   "cell_type": "code",
   "execution_count": 16,
   "id": "422c8af4",
   "metadata": {},
   "outputs": [
    {
     "data": {
      "text/plain": [
       "<AxesSubplot:>"
      ]
     },
     "execution_count": 16,
     "metadata": {},
     "output_type": "execute_result"
    },
    {
     "data": {
      "image/png": "[encoded data removed]",
      "text/plain": [
       "<Figure size 432x288 with 1 Axes>"
      ]
     },
     "metadata": {
      "needs_background": "light"
     },
     "output_type": "display_data"
    }
   ],
   "source": [
    "X_train['Age'].hist()"
   ]
  },
  {
   "cell_type": "code",
   "execution_count": 17,
   "id": "7819df18",
   "metadata": {},
   "outputs": [
    {
     "data": {
      "text/plain": [
       "<AxesSubplot:>"
      ]
     },
     "execution_count": 17,
     "metadata": {},
     "output_type": "execute_result"
    },
    {
     "data": {
      "image/png": "[encoded data removed]",
      "text/plain": [
       "<Figure size 432x288 with 1 Axes>"
      ]
     },
     "metadata": {
      "needs_background": "light"
     },
     "output_type": "display_data"
    }
   ],
   "source": [
    "X_train['Sex'].hist()"
   ]
  },
  {
   "cell_type": "code",
   "execution_count": 18,
   "id": "e189ac72",
   "metadata": {},
   "outputs": [
    {
     "data": {
      "text/plain": [
       "<AxesSubplot:>"
      ]
     },
     "execution_count": 18,
     "metadata": {},
     "output_type": "execute_result"
    },
    {
     "data": {
      "image/png": "[encoded data removed]",
      "text/plain": [
       "<Figure size 432x288 with 1 Axes>"
      ]
     },
     "metadata": {
      "needs_background": "light"
     },
     "output_type": "display_data"
    }
   ],
   "source": [
    "X_train['Pclass'].hist()"
   ]
  },
  {
   "cell_type": "code",
   "execution_count": 19,
   "id": "a86ac3c3",
   "metadata": {},
   "outputs": [],
   "source": [
    "X_train['namelength']= X_train['Name'].str.len()"
   ]
  },
  {
   "cell_type": "code",
   "execution_count": 20,
   "id": "55a78256",
   "metadata": {},
   "outputs": [
    {
     "data": {
      "text/html": [
       "<div>\n",
       "<style scoped>\n",
       "    .dataframe tbody tr th:only-of-type {\n",
       "        vertical-align: middle;\n",
       "    }\n",
       "\n",
       "    .dataframe tbody tr th {\n",
       "        vertical-align: top;\n",
       "    }\n",
       "\n",
       "    .dataframe thead th {\n",
       "        text-align: right;\n",
       "    }\n",
       "</style>\n",
       "<table border=\"1\" class=\"dataframe\">\n",
       "  <thead>\n",
       "    <tr style=\"text-align: right;\">\n",
       "      <th></th>\n",
       "      <th>Pclass</th>\n",
       "      <th>Name</th>\n",
       "      <th>Sex</th>\n",
       "      <th>Age</th>\n",
       "      <th>SibSp</th>\n",
       "      <th>Parch</th>\n",
       "      <th>Ticket</th>\n",
       "      <th>Fare</th>\n",
       "      <th>Cabin</th>\n",
       "      <th>Embarked</th>\n",
       "      <th>namelength</th>\n",
       "    </tr>\n",
       "    <tr>\n",
       "      <th>PassengerId</th>\n",
       "      <th></th>\n",
       "      <th></th>\n",
       "      <th></th>\n",
       "      <th></th>\n",
       "      <th></th>\n",
       "      <th></th>\n",
       "      <th></th>\n",
       "      <th></th>\n",
       "      <th></th>\n",
       "      <th></th>\n",
       "      <th></th>\n",
       "    </tr>\n",
       "  </thead>\n",
       "  <tbody>\n",
       "    <tr>\n",
       "      <th>1</th>\n",
       "      <td>3</td>\n",
       "      <td>Braund, Mr. Owen Harris</td>\n",
       "      <td>male</td>\n",
       "      <td>22.0</td>\n",
       "      <td>1</td>\n",
       "      <td>0</td>\n",
       "      <td>A/5 21171</td>\n",
       "      <td>7.2500</td>\n",
       "      <td>NaN</td>\n",
       "      <td>S</td>\n",
       "      <td>23</td>\n",
       "    </tr>\n",
       "    <tr>\n",
       "      <th>2</th>\n",
       "      <td>1</td>\n",
       "      <td>Cumings, Mrs. John Bradley (Florence Briggs Th...</td>\n",
       "      <td>female</td>\n",
       "      <td>38.0</td>\n",
       "      <td>1</td>\n",
       "      <td>0</td>\n",
       "      <td>PC 17599</td>\n",
       "      <td>71.2833</td>\n",
       "      <td>C85</td>\n",
       "      <td>C</td>\n",
       "      <td>51</td>\n",
       "    </tr>\n",
       "    <tr>\n",
       "      <th>3</th>\n",
       "      <td>3</td>\n",
       "      <td>Heikkinen, Miss. Laina</td>\n",
       "      <td>female</td>\n",
       "      <td>26.0</td>\n",
       "      <td>0</td>\n",
       "      <td>0</td>\n",
       "      <td>STON/O2. 3101282</td>\n",
       "      <td>7.9250</td>\n",
       "      <td>NaN</td>\n",
       "      <td>S</td>\n",
       "      <td>22</td>\n",
       "    </tr>\n",
       "    <tr>\n",
       "      <th>4</th>\n",
       "      <td>1</td>\n",
       "      <td>Futrelle, Mrs. Jacques Heath (Lily May Peel)</td>\n",
       "      <td>female</td>\n",
       "      <td>35.0</td>\n",
       "      <td>1</td>\n",
       "      <td>0</td>\n",
       "      <td>113803</td>\n",
       "      <td>53.1000</td>\n",
       "      <td>C123</td>\n",
       "      <td>S</td>\n",
       "      <td>44</td>\n",
       "    </tr>\n",
       "    <tr>\n",
       "      <th>5</th>\n",
       "      <td>3</td>\n",
       "      <td>Allen, Mr. William Henry</td>\n",
       "      <td>male</td>\n",
       "      <td>35.0</td>\n",
       "      <td>0</td>\n",
       "      <td>0</td>\n",
       "      <td>373450</td>\n",
       "      <td>8.0500</td>\n",
       "      <td>NaN</td>\n",
       "      <td>S</td>\n",
       "      <td>24</td>\n",
       "    </tr>\n",
       "    <tr>\n",
       "      <th>...</th>\n",
       "      <td>...</td>\n",
       "      <td>...</td>\n",
       "      <td>...</td>\n",
       "      <td>...</td>\n",
       "      <td>...</td>\n",
       "      <td>...</td>\n",
       "      <td>...</td>\n",
       "      <td>...</td>\n",
       "      <td>...</td>\n",
       "      <td>...</td>\n",
       "      <td>...</td>\n",
       "    </tr>\n",
       "    <tr>\n",
       "      <th>887</th>\n",
       "      <td>2</td>\n",
       "      <td>Montvila, Rev. Juozas</td>\n",
       "      <td>male</td>\n",
       "      <td>27.0</td>\n",
       "      <td>0</td>\n",
       "      <td>0</td>\n",
       "      <td>211536</td>\n",
       "      <td>13.0000</td>\n",
       "      <td>NaN</td>\n",
       "      <td>S</td>\n",
       "      <td>21</td>\n",
       "    </tr>\n",
       "    <tr>\n",
       "      <th>888</th>\n",
       "      <td>1</td>\n",
       "      <td>Graham, Miss. Margaret Edith</td>\n",
       "      <td>female</td>\n",
       "      <td>19.0</td>\n",
       "      <td>0</td>\n",
       "      <td>0</td>\n",
       "      <td>112053</td>\n",
       "      <td>30.0000</td>\n",
       "      <td>B42</td>\n",
       "      <td>S</td>\n",
       "      <td>28</td>\n",
       "    </tr>\n",
       "    <tr>\n",
       "      <th>889</th>\n",
       "      <td>3</td>\n",
       "      <td>Johnston, Miss. Catherine Helen \"Carrie\"</td>\n",
       "      <td>female</td>\n",
       "      <td>NaN</td>\n",
       "      <td>1</td>\n",
       "      <td>2</td>\n",
       "      <td>W./C. 6607</td>\n",
       "      <td>23.4500</td>\n",
       "      <td>NaN</td>\n",
       "      <td>S</td>\n",
       "      <td>40</td>\n",
       "    </tr>\n",
       "    <tr>\n",
       "      <th>890</th>\n",
       "      <td>1</td>\n",
       "      <td>Behr, Mr. Karl Howell</td>\n",
       "      <td>male</td>\n",
       "      <td>26.0</td>\n",
       "      <td>0</td>\n",
       "      <td>0</td>\n",
       "      <td>111369</td>\n",
       "      <td>30.0000</td>\n",
       "      <td>C148</td>\n",
       "      <td>C</td>\n",
       "      <td>21</td>\n",
       "    </tr>\n",
       "    <tr>\n",
       "      <th>891</th>\n",
       "      <td>3</td>\n",
       "      <td>Dooley, Mr. Patrick</td>\n",
       "      <td>male</td>\n",
       "      <td>32.0</td>\n",
       "      <td>0</td>\n",
       "      <td>0</td>\n",
       "      <td>370376</td>\n",
       "      <td>7.7500</td>\n",
       "      <td>NaN</td>\n",
       "      <td>Q</td>\n",
       "      <td>19</td>\n",
       "    </tr>\n",
       "  </tbody>\n",
       "</table>\n",
       "<p>891 rows × 11 columns</p>\n",
       "</div>"
      ],
      "text/plain": [
       "             Pclass                                               Name  \\\n",
       "PassengerId                                                              \n",
       "1                 3                            Braund, Mr. Owen Harris   \n",
       "2                 1  Cumings, Mrs. John Bradley (Florence Briggs Th...   \n",
       "3                 3                             Heikkinen, Miss. Laina   \n",
       "4                 1       Futrelle, Mrs. Jacques Heath (Lily May Peel)   \n",
       "5                 3                           Allen, Mr. William Henry   \n",
       "...             ...                                                ...   \n",
       "887               2                              Montvila, Rev. Juozas   \n",
       "888               1                       Graham, Miss. Margaret Edith   \n",
       "889               3           Johnston, Miss. Catherine Helen \"Carrie\"   \n",
       "890               1                              Behr, Mr. Karl Howell   \n",
       "891               3                                Dooley, Mr. Patrick   \n",
       "\n",
       "                Sex   Age  SibSp  Parch            Ticket     Fare Cabin  \\\n",
       "PassengerId                                                                \n",
       "1              male  22.0      1      0         A/5 21171   7.2500   NaN   \n",
       "2            female  38.0      1      0          PC 17599  71.2833   C85   \n",
       "3            female  26.0      0      0  STON/O2. 3101282   7.9250   NaN   \n",
       "4            female  35.0      1      0            113803  53.1000  C123   \n",
       "5              male  35.0      0      0            373450   8.0500   NaN   \n",
       "...             ...   ...    ...    ...               ...      ...   ...   \n",
       "887            male  27.0      0      0            211536  13.0000   NaN   \n",
       "888          female  19.0      0      0            112053  30.0000   B42   \n",
       "889          female   NaN      1      2        W./C. 6607  23.4500   NaN   \n",
       "890            male  26.0      0      0            111369  30.0000  C148   \n",
       "891            male  32.0      0      0            370376   7.7500   NaN   \n",
       "\n",
       "            Embarked  namelength  \n",
       "PassengerId                       \n",
       "1                  S          23  \n",
       "2                  C          51  \n",
       "3                  S          22  \n",
       "4                  S          44  \n",
       "5                  S          24  \n",
       "...              ...         ...  \n",
       "887                S          21  \n",
       "888                S          28  \n",
       "889                S          40  \n",
       "890                C          21  \n",
       "891                Q          19  \n",
       "\n",
       "[891 rows x 11 columns]"
      ]
     },
     "execution_count": 20,
     "metadata": {},
     "output_type": "execute_result"
    }
   ],
   "source": [
    "X_train"
   ]
  },
  {
   "cell_type": "code",
   "execution_count": 21,
   "id": "6b7246db",
   "metadata": {},
   "outputs": [
    {
     "data": {
      "text/plain": [
       "<matplotlib.collections.PathCollection at 0x7fb5bef16278>"
      ]
     },
     "execution_count": 21,
     "metadata": {},
     "output_type": "execute_result"
    },
    {
     "data": {
      "image/png": "[encoded data removed]",
      "text/plain": [
       "<Figure size 432x288 with 1 Axes>"
      ]
     },
     "metadata": {
      "needs_background": "light"
     },
     "output_type": "display_data"
    }
   ],
   "source": [
    "plt.scatter(X_train['namelength'], X_train['Fare'])"
   ]
  },
  {
   "cell_type": "code",
   "execution_count": 22,
   "id": "499790d9",
   "metadata": {},
   "outputs": [
    {
     "data": {
      "text/plain": [
       "<AxesSubplot:>"
      ]
     },
     "execution_count": 22,
     "metadata": {},
     "output_type": "execute_result"
    },
    {
     "data": {
      "image/png": "[encoded data removed]",
      "text/plain": [
       "<Figure size 432x288 with 1 Axes>"
      ]
     },
     "metadata": {
      "needs_background": "light"
     },
     "output_type": "display_data"
    }
   ],
   "source": [
    "X_train['Parch'].hist()"
   ]
  },
  {
   "cell_type": "code",
   "execution_count": 23,
   "id": "2d7a3db5",
   "metadata": {},
   "outputs": [],
   "source": [
    "X_train = X_train.drop(columns='Name')"
   ]
  },
  {
   "cell_type": "code",
   "execution_count": 24,
   "id": "17747ede",
   "metadata": {},
   "outputs": [],
   "source": [
    "X_train = X_train.drop(columns='Ticket')"
   ]
  },
  {
   "cell_type": "code",
   "execution_count": 25,
   "id": "0bc95cc8",
   "metadata": {},
   "outputs": [],
   "source": [
    "X_train['sexbin'] = (X_train['Sex'] == 'male')"
   ]
  },
  {
   "cell_type": "code",
   "execution_count": 26,
   "id": "7804b2e0",
   "metadata": {},
   "outputs": [],
   "source": [
    "X_train = X_train.drop(columns='Sex')"
   ]
  },
  {
   "cell_type": "code",
   "execution_count": 27,
   "id": "e603420f",
   "metadata": {},
   "outputs": [
    {
     "data": {
      "text/html": [
       "<div>\n",
       "<style scoped>\n",
       "    .dataframe tbody tr th:only-of-type {\n",
       "        vertical-align: middle;\n",
       "    }\n",
       "\n",
       "    .dataframe tbody tr th {\n",
       "        vertical-align: top;\n",
       "    }\n",
       "\n",
       "    .dataframe thead th {\n",
       "        text-align: right;\n",
       "    }\n",
       "</style>\n",
       "<table border=\"1\" class=\"dataframe\">\n",
       "  <thead>\n",
       "    <tr style=\"text-align: right;\">\n",
       "      <th></th>\n",
       "      <th>Pclass</th>\n",
       "      <th>Age</th>\n",
       "      <th>SibSp</th>\n",
       "      <th>Parch</th>\n",
       "      <th>Fare</th>\n",
       "      <th>Cabin</th>\n",
       "      <th>Embarked</th>\n",
       "      <th>namelength</th>\n",
       "      <th>sexbin</th>\n",
       "    </tr>\n",
       "    <tr>\n",
       "      <th>PassengerId</th>\n",
       "      <th></th>\n",
       "      <th></th>\n",
       "      <th></th>\n",
       "      <th></th>\n",
       "      <th></th>\n",
       "      <th></th>\n",
       "      <th></th>\n",
       "      <th></th>\n",
       "      <th></th>\n",
       "    </tr>\n",
       "  </thead>\n",
       "  <tbody>\n",
       "    <tr>\n",
       "      <th>1</th>\n",
       "      <td>3</td>\n",
       "      <td>22.0</td>\n",
       "      <td>1</td>\n",
       "      <td>0</td>\n",
       "      <td>7.2500</td>\n",
       "      <td>NaN</td>\n",
       "      <td>S</td>\n",
       "      <td>23</td>\n",
       "      <td>True</td>\n",
       "    </tr>\n",
       "    <tr>\n",
       "      <th>2</th>\n",
       "      <td>1</td>\n",
       "      <td>38.0</td>\n",
       "      <td>1</td>\n",
       "      <td>0</td>\n",
       "      <td>71.2833</td>\n",
       "      <td>C85</td>\n",
       "      <td>C</td>\n",
       "      <td>51</td>\n",
       "      <td>False</td>\n",
       "    </tr>\n",
       "    <tr>\n",
       "      <th>3</th>\n",
       "      <td>3</td>\n",
       "      <td>26.0</td>\n",
       "      <td>0</td>\n",
       "      <td>0</td>\n",
       "      <td>7.9250</td>\n",
       "      <td>NaN</td>\n",
       "      <td>S</td>\n",
       "      <td>22</td>\n",
       "      <td>False</td>\n",
       "    </tr>\n",
       "    <tr>\n",
       "      <th>4</th>\n",
       "      <td>1</td>\n",
       "      <td>35.0</td>\n",
       "      <td>1</td>\n",
       "      <td>0</td>\n",
       "      <td>53.1000</td>\n",
       "      <td>C123</td>\n",
       "      <td>S</td>\n",
       "      <td>44</td>\n",
       "      <td>False</td>\n",
       "    </tr>\n",
       "    <tr>\n",
       "      <th>5</th>\n",
       "      <td>3</td>\n",
       "      <td>35.0</td>\n",
       "      <td>0</td>\n",
       "      <td>0</td>\n",
       "      <td>8.0500</td>\n",
       "      <td>NaN</td>\n",
       "      <td>S</td>\n",
       "      <td>24</td>\n",
       "      <td>True</td>\n",
       "    </tr>\n",
       "    <tr>\n",
       "      <th>6</th>\n",
       "      <td>3</td>\n",
       "      <td>NaN</td>\n",
       "      <td>0</td>\n",
       "      <td>0</td>\n",
       "      <td>8.4583</td>\n",
       "      <td>NaN</td>\n",
       "      <td>Q</td>\n",
       "      <td>16</td>\n",
       "      <td>True</td>\n",
       "    </tr>\n",
       "    <tr>\n",
       "      <th>7</th>\n",
       "      <td>1</td>\n",
       "      <td>54.0</td>\n",
       "      <td>0</td>\n",
       "      <td>0</td>\n",
       "      <td>51.8625</td>\n",
       "      <td>E46</td>\n",
       "      <td>S</td>\n",
       "      <td>23</td>\n",
       "      <td>True</td>\n",
       "    </tr>\n",
       "    <tr>\n",
       "      <th>8</th>\n",
       "      <td>3</td>\n",
       "      <td>2.0</td>\n",
       "      <td>3</td>\n",
       "      <td>1</td>\n",
       "      <td>21.0750</td>\n",
       "      <td>NaN</td>\n",
       "      <td>S</td>\n",
       "      <td>30</td>\n",
       "      <td>True</td>\n",
       "    </tr>\n",
       "    <tr>\n",
       "      <th>9</th>\n",
       "      <td>3</td>\n",
       "      <td>27.0</td>\n",
       "      <td>0</td>\n",
       "      <td>2</td>\n",
       "      <td>11.1333</td>\n",
       "      <td>NaN</td>\n",
       "      <td>S</td>\n",
       "      <td>49</td>\n",
       "      <td>False</td>\n",
       "    </tr>\n",
       "    <tr>\n",
       "      <th>10</th>\n",
       "      <td>2</td>\n",
       "      <td>14.0</td>\n",
       "      <td>1</td>\n",
       "      <td>0</td>\n",
       "      <td>30.0708</td>\n",
       "      <td>NaN</td>\n",
       "      <td>C</td>\n",
       "      <td>35</td>\n",
       "      <td>False</td>\n",
       "    </tr>\n",
       "  </tbody>\n",
       "</table>\n",
       "</div>"
      ],
      "text/plain": [
       "             Pclass   Age  SibSp  Parch     Fare Cabin Embarked  namelength  \\\n",
       "PassengerId                                                                   \n",
       "1                 3  22.0      1      0   7.2500   NaN        S          23   \n",
       "2                 1  38.0      1      0  71.2833   C85        C          51   \n",
       "3                 3  26.0      0      0   7.9250   NaN        S          22   \n",
       "4                 1  35.0      1      0  53.1000  C123        S          44   \n",
       "5                 3  35.0      0      0   8.0500   NaN        S          24   \n",
       "6                 3   NaN      0      0   8.4583   NaN        Q          16   \n",
       "7                 1  54.0      0      0  51.8625   E46        S          23   \n",
       "8                 3   2.0      3      1  21.0750   NaN        S          30   \n",
       "9                 3  27.0      0      2  11.1333   NaN        S          49   \n",
       "10                2  14.0      1      0  30.0708   NaN        C          35   \n",
       "\n",
       "             sexbin  \n",
       "PassengerId          \n",
       "1              True  \n",
       "2             False  \n",
       "3             False  \n",
       "4             False  \n",
       "5              True  \n",
       "6              True  \n",
       "7              True  \n",
       "8              True  \n",
       "9             False  \n",
       "10            False  "
      ]
     },
     "execution_count": 27,
     "metadata": {},
     "output_type": "execute_result"
    }
   ],
   "source": [
    "X_train.head(10)"
   ]
  },
  {
   "cell_type": "code",
   "execution_count": 28,
   "id": "81c45f6b",
   "metadata": {},
   "outputs": [],
   "source": [
    "median = X_train['Age'].median()"
   ]
  },
  {
   "cell_type": "code",
   "execution_count": 29,
   "id": "51085aec",
   "metadata": {},
   "outputs": [],
   "source": [
    "X_train['Age'].fillna(median, inplace=True)"
   ]
  },
  {
   "cell_type": "code",
   "execution_count": 30,
   "id": "ecac926e",
   "metadata": {},
   "outputs": [
    {
     "data": {
      "text/html": [
       "<div>\n",
       "<style scoped>\n",
       "    .dataframe tbody tr th:only-of-type {\n",
       "        vertical-align: middle;\n",
       "    }\n",
       "\n",
       "    .dataframe tbody tr th {\n",
       "        vertical-align: top;\n",
       "    }\n",
       "\n",
       "    .dataframe thead th {\n",
       "        text-align: right;\n",
       "    }\n",
       "</style>\n",
       "<table border=\"1\" class=\"dataframe\">\n",
       "  <thead>\n",
       "    <tr style=\"text-align: right;\">\n",
       "      <th></th>\n",
       "      <th>Pclass</th>\n",
       "      <th>Age</th>\n",
       "      <th>SibSp</th>\n",
       "      <th>Parch</th>\n",
       "      <th>Fare</th>\n",
       "      <th>Cabin</th>\n",
       "      <th>Embarked</th>\n",
       "      <th>namelength</th>\n",
       "      <th>sexbin</th>\n",
       "    </tr>\n",
       "    <tr>\n",
       "      <th>PassengerId</th>\n",
       "      <th></th>\n",
       "      <th></th>\n",
       "      <th></th>\n",
       "      <th></th>\n",
       "      <th></th>\n",
       "      <th></th>\n",
       "      <th></th>\n",
       "      <th></th>\n",
       "      <th></th>\n",
       "    </tr>\n",
       "  </thead>\n",
       "  <tbody>\n",
       "    <tr>\n",
       "      <th>1</th>\n",
       "      <td>3</td>\n",
       "      <td>22.0</td>\n",
       "      <td>1</td>\n",
       "      <td>0</td>\n",
       "      <td>7.2500</td>\n",
       "      <td>NaN</td>\n",
       "      <td>S</td>\n",
       "      <td>23</td>\n",
       "      <td>True</td>\n",
       "    </tr>\n",
       "    <tr>\n",
       "      <th>2</th>\n",
       "      <td>1</td>\n",
       "      <td>38.0</td>\n",
       "      <td>1</td>\n",
       "      <td>0</td>\n",
       "      <td>71.2833</td>\n",
       "      <td>C85</td>\n",
       "      <td>C</td>\n",
       "      <td>51</td>\n",
       "      <td>False</td>\n",
       "    </tr>\n",
       "    <tr>\n",
       "      <th>3</th>\n",
       "      <td>3</td>\n",
       "      <td>26.0</td>\n",
       "      <td>0</td>\n",
       "      <td>0</td>\n",
       "      <td>7.9250</td>\n",
       "      <td>NaN</td>\n",
       "      <td>S</td>\n",
       "      <td>22</td>\n",
       "      <td>False</td>\n",
       "    </tr>\n",
       "    <tr>\n",
       "      <th>4</th>\n",
       "      <td>1</td>\n",
       "      <td>35.0</td>\n",
       "      <td>1</td>\n",
       "      <td>0</td>\n",
       "      <td>53.1000</td>\n",
       "      <td>C123</td>\n",
       "      <td>S</td>\n",
       "      <td>44</td>\n",
       "      <td>False</td>\n",
       "    </tr>\n",
       "    <tr>\n",
       "      <th>5</th>\n",
       "      <td>3</td>\n",
       "      <td>35.0</td>\n",
       "      <td>0</td>\n",
       "      <td>0</td>\n",
       "      <td>8.0500</td>\n",
       "      <td>NaN</td>\n",
       "      <td>S</td>\n",
       "      <td>24</td>\n",
       "      <td>True</td>\n",
       "    </tr>\n",
       "    <tr>\n",
       "      <th>6</th>\n",
       "      <td>3</td>\n",
       "      <td>28.0</td>\n",
       "      <td>0</td>\n",
       "      <td>0</td>\n",
       "      <td>8.4583</td>\n",
       "      <td>NaN</td>\n",
       "      <td>Q</td>\n",
       "      <td>16</td>\n",
       "      <td>True</td>\n",
       "    </tr>\n",
       "    <tr>\n",
       "      <th>7</th>\n",
       "      <td>1</td>\n",
       "      <td>54.0</td>\n",
       "      <td>0</td>\n",
       "      <td>0</td>\n",
       "      <td>51.8625</td>\n",
       "      <td>E46</td>\n",
       "      <td>S</td>\n",
       "      <td>23</td>\n",
       "      <td>True</td>\n",
       "    </tr>\n",
       "    <tr>\n",
       "      <th>8</th>\n",
       "      <td>3</td>\n",
       "      <td>2.0</td>\n",
       "      <td>3</td>\n",
       "      <td>1</td>\n",
       "      <td>21.0750</td>\n",
       "      <td>NaN</td>\n",
       "      <td>S</td>\n",
       "      <td>30</td>\n",
       "      <td>True</td>\n",
       "    </tr>\n",
       "    <tr>\n",
       "      <th>9</th>\n",
       "      <td>3</td>\n",
       "      <td>27.0</td>\n",
       "      <td>0</td>\n",
       "      <td>2</td>\n",
       "      <td>11.1333</td>\n",
       "      <td>NaN</td>\n",
       "      <td>S</td>\n",
       "      <td>49</td>\n",
       "      <td>False</td>\n",
       "    </tr>\n",
       "    <tr>\n",
       "      <th>10</th>\n",
       "      <td>2</td>\n",
       "      <td>14.0</td>\n",
       "      <td>1</td>\n",
       "      <td>0</td>\n",
       "      <td>30.0708</td>\n",
       "      <td>NaN</td>\n",
       "      <td>C</td>\n",
       "      <td>35</td>\n",
       "      <td>False</td>\n",
       "    </tr>\n",
       "  </tbody>\n",
       "</table>\n",
       "</div>"
      ],
      "text/plain": [
       "             Pclass   Age  SibSp  Parch     Fare Cabin Embarked  namelength  \\\n",
       "PassengerId                                                                   \n",
       "1                 3  22.0      1      0   7.2500   NaN        S          23   \n",
       "2                 1  38.0      1      0  71.2833   C85        C          51   \n",
       "3                 3  26.0      0      0   7.9250   NaN        S          22   \n",
       "4                 1  35.0      1      0  53.1000  C123        S          44   \n",
       "5                 3  35.0      0      0   8.0500   NaN        S          24   \n",
       "6                 3  28.0      0      0   8.4583   NaN        Q          16   \n",
       "7                 1  54.0      0      0  51.8625   E46        S          23   \n",
       "8                 3   2.0      3      1  21.0750   NaN        S          30   \n",
       "9                 3  27.0      0      2  11.1333   NaN        S          49   \n",
       "10                2  14.0      1      0  30.0708   NaN        C          35   \n",
       "\n",
       "             sexbin  \n",
       "PassengerId          \n",
       "1              True  \n",
       "2             False  \n",
       "3             False  \n",
       "4             False  \n",
       "5              True  \n",
       "6              True  \n",
       "7              True  \n",
       "8              True  \n",
       "9             False  \n",
       "10            False  "
      ]
     },
     "execution_count": 30,
     "metadata": {},
     "output_type": "execute_result"
    }
   ],
   "source": [
    "X_train.head(10)"
   ]
  },
  {
   "cell_type": "code",
   "execution_count": 31,
   "id": "0fb77594",
   "metadata": {},
   "outputs": [
    {
     "data": {
      "text/plain": [
       "28.0"
      ]
     },
     "execution_count": 31,
     "metadata": {},
     "output_type": "execute_result"
    }
   ],
   "source": [
    "median"
   ]
  },
  {
   "cell_type": "code",
   "execution_count": 32,
   "id": "9cc9c236",
   "metadata": {},
   "outputs": [
    {
     "name": "stdout",
     "output_type": "stream",
     "text": [
      "<class 'pandas.core.frame.DataFrame'>\n",
      "Int64Index: 891 entries, 1 to 891\n",
      "Data columns (total 9 columns):\n",
      " #   Column      Non-Null Count  Dtype  \n",
      "---  ------      --------------  -----  \n",
      " 0   Pclass      891 non-null    int64  \n",
      " 1   Age         891 non-null    float64\n",
      " 2   SibSp       891 non-null    int64  \n",
      " 3   Parch       891 non-null    int64  \n",
      " 4   Fare        891 non-null    float64\n",
      " 5   Cabin       204 non-null    object \n",
      " 6   Embarked    889 non-null    object \n",
      " 7   namelength  891 non-null    int64  \n",
      " 8   sexbin      891 non-null    bool   \n",
      "dtypes: bool(1), float64(2), int64(4), object(2)\n",
      "memory usage: 63.5+ KB\n"
     ]
    }
   ],
   "source": [
    "X_train.info()"
   ]
  },
  {
   "cell_type": "code",
   "execution_count": 33,
   "id": "1ff8e295",
   "metadata": {},
   "outputs": [],
   "source": [
    "from sklearn.preprocessing import OrdinalEncoder\n",
    "\n",
    "X_train_cat = X_train[['Cabin', 'Embarked']]"
   ]
  },
  {
   "cell_type": "code",
   "execution_count": 34,
   "id": "de3ed27e",
   "metadata": {},
   "outputs": [
    {
     "data": {
      "text/html": [
       "<div>\n",
       "<style scoped>\n",
       "    .dataframe tbody tr th:only-of-type {\n",
       "        vertical-align: middle;\n",
       "    }\n",
       "\n",
       "    .dataframe tbody tr th {\n",
       "        vertical-align: top;\n",
       "    }\n",
       "\n",
       "    .dataframe thead th {\n",
       "        text-align: right;\n",
       "    }\n",
       "</style>\n",
       "<table border=\"1\" class=\"dataframe\">\n",
       "  <thead>\n",
       "    <tr style=\"text-align: right;\">\n",
       "      <th></th>\n",
       "      <th>Cabin</th>\n",
       "      <th>Embarked</th>\n",
       "    </tr>\n",
       "    <tr>\n",
       "      <th>PassengerId</th>\n",
       "      <th></th>\n",
       "      <th></th>\n",
       "    </tr>\n",
       "  </thead>\n",
       "  <tbody>\n",
       "    <tr>\n",
       "      <th>1</th>\n",
       "      <td>NaN</td>\n",
       "      <td>S</td>\n",
       "    </tr>\n",
       "    <tr>\n",
       "      <th>2</th>\n",
       "      <td>C85</td>\n",
       "      <td>C</td>\n",
       "    </tr>\n",
       "    <tr>\n",
       "      <th>3</th>\n",
       "      <td>NaN</td>\n",
       "      <td>S</td>\n",
       "    </tr>\n",
       "    <tr>\n",
       "      <th>4</th>\n",
       "      <td>C123</td>\n",
       "      <td>S</td>\n",
       "    </tr>\n",
       "    <tr>\n",
       "      <th>5</th>\n",
       "      <td>NaN</td>\n",
       "      <td>S</td>\n",
       "    </tr>\n",
       "    <tr>\n",
       "      <th>...</th>\n",
       "      <td>...</td>\n",
       "      <td>...</td>\n",
       "    </tr>\n",
       "    <tr>\n",
       "      <th>887</th>\n",
       "      <td>NaN</td>\n",
       "      <td>S</td>\n",
       "    </tr>\n",
       "    <tr>\n",
       "      <th>888</th>\n",
       "      <td>B42</td>\n",
       "      <td>S</td>\n",
       "    </tr>\n",
       "    <tr>\n",
       "      <th>889</th>\n",
       "      <td>NaN</td>\n",
       "      <td>S</td>\n",
       "    </tr>\n",
       "    <tr>\n",
       "      <th>890</th>\n",
       "      <td>C148</td>\n",
       "      <td>C</td>\n",
       "    </tr>\n",
       "    <tr>\n",
       "      <th>891</th>\n",
       "      <td>NaN</td>\n",
       "      <td>Q</td>\n",
       "    </tr>\n",
       "  </tbody>\n",
       "</table>\n",
       "<p>891 rows × 2 columns</p>\n",
       "</div>"
      ],
      "text/plain": [
       "            Cabin Embarked\n",
       "PassengerId               \n",
       "1             NaN        S\n",
       "2             C85        C\n",
       "3             NaN        S\n",
       "4            C123        S\n",
       "5             NaN        S\n",
       "...           ...      ...\n",
       "887           NaN        S\n",
       "888           B42        S\n",
       "889           NaN        S\n",
       "890          C148        C\n",
       "891           NaN        Q\n",
       "\n",
       "[891 rows x 2 columns]"
      ]
     },
     "execution_count": 34,
     "metadata": {},
     "output_type": "execute_result"
    }
   ],
   "source": [
    "X_train_cat"
   ]
  },
  {
   "cell_type": "code",
   "execution_count": 35,
   "id": "7c0a8530",
   "metadata": {},
   "outputs": [
    {
     "name": "stderr",
     "output_type": "stream",
     "text": [
      "/home/nilose/Documents/Data-Science/ml/my_env/lib/python3.6/site-packages/pandas/core/series.py:4536: SettingWithCopyWarning: \n",
      "A value is trying to be set on a copy of a slice from a DataFrame\n",
      "\n",
      "See the caveats in the documentation: https://pandas.pydata.org/pandas-docs/stable/user_guide/indexing.html#returning-a-view-versus-a-copy\n",
      "  downcast=downcast,\n"
     ]
    }
   ],
   "source": [
    "X_train_cat['Cabin'].fillna(value='0', inplace=True)"
   ]
  },
  {
   "cell_type": "code",
   "execution_count": 36,
   "id": "8919b473",
   "metadata": {},
   "outputs": [],
   "source": [
    "X_train_cat['Embarked'].fillna(value='0', inplace=True)"
   ]
  },
  {
   "cell_type": "code",
   "execution_count": 37,
   "id": "ac46696b",
   "metadata": {},
   "outputs": [
    {
     "data": {
      "text/html": [
       "<div>\n",
       "<style scoped>\n",
       "    .dataframe tbody tr th:only-of-type {\n",
       "        vertical-align: middle;\n",
       "    }\n",
       "\n",
       "    .dataframe tbody tr th {\n",
       "        vertical-align: top;\n",
       "    }\n",
       "\n",
       "    .dataframe thead th {\n",
       "        text-align: right;\n",
       "    }\n",
       "</style>\n",
       "<table border=\"1\" class=\"dataframe\">\n",
       "  <thead>\n",
       "    <tr style=\"text-align: right;\">\n",
       "      <th></th>\n",
       "      <th>Cabin</th>\n",
       "      <th>Embarked</th>\n",
       "    </tr>\n",
       "    <tr>\n",
       "      <th>PassengerId</th>\n",
       "      <th></th>\n",
       "      <th></th>\n",
       "    </tr>\n",
       "  </thead>\n",
       "  <tbody>\n",
       "    <tr>\n",
       "      <th>1</th>\n",
       "      <td>0</td>\n",
       "      <td>S</td>\n",
       "    </tr>\n",
       "    <tr>\n",
       "      <th>2</th>\n",
       "      <td>C85</td>\n",
       "      <td>C</td>\n",
       "    </tr>\n",
       "    <tr>\n",
       "      <th>3</th>\n",
       "      <td>0</td>\n",
       "      <td>S</td>\n",
       "    </tr>\n",
       "    <tr>\n",
       "      <th>4</th>\n",
       "      <td>C123</td>\n",
       "      <td>S</td>\n",
       "    </tr>\n",
       "    <tr>\n",
       "      <th>5</th>\n",
       "      <td>0</td>\n",
       "      <td>S</td>\n",
       "    </tr>\n",
       "    <tr>\n",
       "      <th>...</th>\n",
       "      <td>...</td>\n",
       "      <td>...</td>\n",
       "    </tr>\n",
       "    <tr>\n",
       "      <th>887</th>\n",
       "      <td>0</td>\n",
       "      <td>S</td>\n",
       "    </tr>\n",
       "    <tr>\n",
       "      <th>888</th>\n",
       "      <td>B42</td>\n",
       "      <td>S</td>\n",
       "    </tr>\n",
       "    <tr>\n",
       "      <th>889</th>\n",
       "      <td>0</td>\n",
       "      <td>S</td>\n",
       "    </tr>\n",
       "    <tr>\n",
       "      <th>890</th>\n",
       "      <td>C148</td>\n",
       "      <td>C</td>\n",
       "    </tr>\n",
       "    <tr>\n",
       "      <th>891</th>\n",
       "      <td>0</td>\n",
       "      <td>Q</td>\n",
       "    </tr>\n",
       "  </tbody>\n",
       "</table>\n",
       "<p>891 rows × 2 columns</p>\n",
       "</div>"
      ],
      "text/plain": [
       "            Cabin Embarked\n",
       "PassengerId               \n",
       "1               0        S\n",
       "2             C85        C\n",
       "3               0        S\n",
       "4            C123        S\n",
       "5               0        S\n",
       "...           ...      ...\n",
       "887             0        S\n",
       "888           B42        S\n",
       "889             0        S\n",
       "890          C148        C\n",
       "891             0        Q\n",
       "\n",
       "[891 rows x 2 columns]"
      ]
     },
     "execution_count": 37,
     "metadata": {},
     "output_type": "execute_result"
    }
   ],
   "source": [
    "X_train_cat"
   ]
  },
  {
   "cell_type": "code",
   "execution_count": 38,
   "id": "62f27ea5",
   "metadata": {},
   "outputs": [],
   "source": [
    "ordinal_encoder = OrdinalEncoder()"
   ]
  },
  {
   "cell_type": "code",
   "execution_count": 39,
   "id": "1c3cdcc8",
   "metadata": {},
   "outputs": [],
   "source": [
    "X_train_cat_encod = ordinal_encoder.fit_transform(X_train_cat)"
   ]
  },
  {
   "cell_type": "code",
   "execution_count": 40,
   "id": "9cbae839",
   "metadata": {},
   "outputs": [
    {
     "data": {
      "text/plain": [
       "array([[ 0.,  3.],\n",
       "       [82.,  1.],\n",
       "       [ 0.,  3.],\n",
       "       ...,\n",
       "       [ 0.,  3.],\n",
       "       [61.,  1.],\n",
       "       [ 0.,  2.]])"
      ]
     },
     "execution_count": 40,
     "metadata": {},
     "output_type": "execute_result"
    }
   ],
   "source": [
    "X_train_cat_encod"
   ]
  },
  {
   "cell_type": "code",
   "execution_count": 41,
   "id": "e9cdf000",
   "metadata": {},
   "outputs": [],
   "source": [
    "X_train_num = X_train[['Age', 'Fare', 'namelength']]"
   ]
  },
  {
   "cell_type": "code",
   "execution_count": 42,
   "id": "b27ed594",
   "metadata": {},
   "outputs": [
    {
     "data": {
      "text/html": [
       "<div>\n",
       "<style scoped>\n",
       "    .dataframe tbody tr th:only-of-type {\n",
       "        vertical-align: middle;\n",
       "    }\n",
       "\n",
       "    .dataframe tbody tr th {\n",
       "        vertical-align: top;\n",
       "    }\n",
       "\n",
       "    .dataframe thead th {\n",
       "        text-align: right;\n",
       "    }\n",
       "</style>\n",
       "<table border=\"1\" class=\"dataframe\">\n",
       "  <thead>\n",
       "    <tr style=\"text-align: right;\">\n",
       "      <th></th>\n",
       "      <th>Age</th>\n",
       "      <th>Fare</th>\n",
       "      <th>namelength</th>\n",
       "    </tr>\n",
       "    <tr>\n",
       "      <th>PassengerId</th>\n",
       "      <th></th>\n",
       "      <th></th>\n",
       "      <th></th>\n",
       "    </tr>\n",
       "  </thead>\n",
       "  <tbody>\n",
       "    <tr>\n",
       "      <th>1</th>\n",
       "      <td>22.0</td>\n",
       "      <td>7.2500</td>\n",
       "      <td>23</td>\n",
       "    </tr>\n",
       "    <tr>\n",
       "      <th>2</th>\n",
       "      <td>38.0</td>\n",
       "      <td>71.2833</td>\n",
       "      <td>51</td>\n",
       "    </tr>\n",
       "    <tr>\n",
       "      <th>3</th>\n",
       "      <td>26.0</td>\n",
       "      <td>7.9250</td>\n",
       "      <td>22</td>\n",
       "    </tr>\n",
       "    <tr>\n",
       "      <th>4</th>\n",
       "      <td>35.0</td>\n",
       "      <td>53.1000</td>\n",
       "      <td>44</td>\n",
       "    </tr>\n",
       "    <tr>\n",
       "      <th>5</th>\n",
       "      <td>35.0</td>\n",
       "      <td>8.0500</td>\n",
       "      <td>24</td>\n",
       "    </tr>\n",
       "    <tr>\n",
       "      <th>...</th>\n",
       "      <td>...</td>\n",
       "      <td>...</td>\n",
       "      <td>...</td>\n",
       "    </tr>\n",
       "    <tr>\n",
       "      <th>887</th>\n",
       "      <td>27.0</td>\n",
       "      <td>13.0000</td>\n",
       "      <td>21</td>\n",
       "    </tr>\n",
       "    <tr>\n",
       "      <th>888</th>\n",
       "      <td>19.0</td>\n",
       "      <td>30.0000</td>\n",
       "      <td>28</td>\n",
       "    </tr>\n",
       "    <tr>\n",
       "      <th>889</th>\n",
       "      <td>28.0</td>\n",
       "      <td>23.4500</td>\n",
       "      <td>40</td>\n",
       "    </tr>\n",
       "    <tr>\n",
       "      <th>890</th>\n",
       "      <td>26.0</td>\n",
       "      <td>30.0000</td>\n",
       "      <td>21</td>\n",
       "    </tr>\n",
       "    <tr>\n",
       "      <th>891</th>\n",
       "      <td>32.0</td>\n",
       "      <td>7.7500</td>\n",
       "      <td>19</td>\n",
       "    </tr>\n",
       "  </tbody>\n",
       "</table>\n",
       "<p>891 rows × 3 columns</p>\n",
       "</div>"
      ],
      "text/plain": [
       "              Age     Fare  namelength\n",
       "PassengerId                           \n",
       "1            22.0   7.2500          23\n",
       "2            38.0  71.2833          51\n",
       "3            26.0   7.9250          22\n",
       "4            35.0  53.1000          44\n",
       "5            35.0   8.0500          24\n",
       "...           ...      ...         ...\n",
       "887          27.0  13.0000          21\n",
       "888          19.0  30.0000          28\n",
       "889          28.0  23.4500          40\n",
       "890          26.0  30.0000          21\n",
       "891          32.0   7.7500          19\n",
       "\n",
       "[891 rows x 3 columns]"
      ]
     },
     "execution_count": 42,
     "metadata": {},
     "output_type": "execute_result"
    }
   ],
   "source": [
    "X_train_num"
   ]
  },
  {
   "cell_type": "code",
   "execution_count": 43,
   "id": "fcdc7bc1",
   "metadata": {},
   "outputs": [],
   "source": [
    "scaler = StandardScaler()"
   ]
  },
  {
   "cell_type": "code",
   "execution_count": 44,
   "id": "da575356",
   "metadata": {},
   "outputs": [],
   "source": [
    "X_train_num_scaled = scaler.fit_transform(X_train_num.astype(np.float64))"
   ]
  },
  {
   "cell_type": "code",
   "execution_count": 45,
   "id": "f410b8a1",
   "metadata": {},
   "outputs": [
    {
     "data": {
      "text/plain": [
       "array([[-0.56573646, -0.50244517, -0.42745127],\n",
       "       [ 0.66386103,  0.78684529,  2.59096206],\n",
       "       [-0.25833709, -0.48885426, -0.53525175],\n",
       "       ...,\n",
       "       [-0.1046374 , -0.17626324,  1.40515682],\n",
       "       [-0.25833709, -0.04438104, -0.64305222],\n",
       "       [ 0.20276197, -0.49237783, -0.85865317]])"
      ]
     },
     "execution_count": 45,
     "metadata": {},
     "output_type": "execute_result"
    }
   ],
   "source": [
    "X_train_num_scaled"
   ]
  },
  {
   "cell_type": "code",
   "execution_count": 46,
   "id": "8ec51303",
   "metadata": {},
   "outputs": [
    {
     "data": {
      "text/html": [
       "<div>\n",
       "<style scoped>\n",
       "    .dataframe tbody tr th:only-of-type {\n",
       "        vertical-align: middle;\n",
       "    }\n",
       "\n",
       "    .dataframe tbody tr th {\n",
       "        vertical-align: top;\n",
       "    }\n",
       "\n",
       "    .dataframe thead th {\n",
       "        text-align: right;\n",
       "    }\n",
       "</style>\n",
       "<table border=\"1\" class=\"dataframe\">\n",
       "  <thead>\n",
       "    <tr style=\"text-align: right;\">\n",
       "      <th></th>\n",
       "      <th>Pclass</th>\n",
       "      <th>Age</th>\n",
       "      <th>SibSp</th>\n",
       "      <th>Parch</th>\n",
       "      <th>Fare</th>\n",
       "      <th>Cabin</th>\n",
       "      <th>Embarked</th>\n",
       "      <th>namelength</th>\n",
       "      <th>sexbin</th>\n",
       "    </tr>\n",
       "    <tr>\n",
       "      <th>PassengerId</th>\n",
       "      <th></th>\n",
       "      <th></th>\n",
       "      <th></th>\n",
       "      <th></th>\n",
       "      <th></th>\n",
       "      <th></th>\n",
       "      <th></th>\n",
       "      <th></th>\n",
       "      <th></th>\n",
       "    </tr>\n",
       "  </thead>\n",
       "  <tbody>\n",
       "    <tr>\n",
       "      <th>1</th>\n",
       "      <td>3</td>\n",
       "      <td>22.0</td>\n",
       "      <td>1</td>\n",
       "      <td>0</td>\n",
       "      <td>7.2500</td>\n",
       "      <td>NaN</td>\n",
       "      <td>S</td>\n",
       "      <td>23</td>\n",
       "      <td>True</td>\n",
       "    </tr>\n",
       "    <tr>\n",
       "      <th>2</th>\n",
       "      <td>1</td>\n",
       "      <td>38.0</td>\n",
       "      <td>1</td>\n",
       "      <td>0</td>\n",
       "      <td>71.2833</td>\n",
       "      <td>C85</td>\n",
       "      <td>C</td>\n",
       "      <td>51</td>\n",
       "      <td>False</td>\n",
       "    </tr>\n",
       "    <tr>\n",
       "      <th>3</th>\n",
       "      <td>3</td>\n",
       "      <td>26.0</td>\n",
       "      <td>0</td>\n",
       "      <td>0</td>\n",
       "      <td>7.9250</td>\n",
       "      <td>NaN</td>\n",
       "      <td>S</td>\n",
       "      <td>22</td>\n",
       "      <td>False</td>\n",
       "    </tr>\n",
       "    <tr>\n",
       "      <th>4</th>\n",
       "      <td>1</td>\n",
       "      <td>35.0</td>\n",
       "      <td>1</td>\n",
       "      <td>0</td>\n",
       "      <td>53.1000</td>\n",
       "      <td>C123</td>\n",
       "      <td>S</td>\n",
       "      <td>44</td>\n",
       "      <td>False</td>\n",
       "    </tr>\n",
       "    <tr>\n",
       "      <th>5</th>\n",
       "      <td>3</td>\n",
       "      <td>35.0</td>\n",
       "      <td>0</td>\n",
       "      <td>0</td>\n",
       "      <td>8.0500</td>\n",
       "      <td>NaN</td>\n",
       "      <td>S</td>\n",
       "      <td>24</td>\n",
       "      <td>True</td>\n",
       "    </tr>\n",
       "  </tbody>\n",
       "</table>\n",
       "</div>"
      ],
      "text/plain": [
       "             Pclass   Age  SibSp  Parch     Fare Cabin Embarked  namelength  \\\n",
       "PassengerId                                                                   \n",
       "1                 3  22.0      1      0   7.2500   NaN        S          23   \n",
       "2                 1  38.0      1      0  71.2833   C85        C          51   \n",
       "3                 3  26.0      0      0   7.9250   NaN        S          22   \n",
       "4                 1  35.0      1      0  53.1000  C123        S          44   \n",
       "5                 3  35.0      0      0   8.0500   NaN        S          24   \n",
       "\n",
       "             sexbin  \n",
       "PassengerId          \n",
       "1              True  \n",
       "2             False  \n",
       "3             False  \n",
       "4             False  \n",
       "5              True  "
      ]
     },
     "execution_count": 46,
     "metadata": {},
     "output_type": "execute_result"
    }
   ],
   "source": [
    "X_train.head()"
   ]
  },
  {
   "cell_type": "code",
   "execution_count": 47,
   "id": "e63b400c",
   "metadata": {},
   "outputs": [],
   "source": [
    "X_train_untouched = X_train[['Pclass', 'SibSp', 'Parch', 'sexbin']]"
   ]
  },
  {
   "cell_type": "code",
   "execution_count": 48,
   "id": "e19bf8cc",
   "metadata": {},
   "outputs": [
    {
     "data": {
      "text/html": [
       "<div>\n",
       "<style scoped>\n",
       "    .dataframe tbody tr th:only-of-type {\n",
       "        vertical-align: middle;\n",
       "    }\n",
       "\n",
       "    .dataframe tbody tr th {\n",
       "        vertical-align: top;\n",
       "    }\n",
       "\n",
       "    .dataframe thead th {\n",
       "        text-align: right;\n",
       "    }\n",
       "</style>\n",
       "<table border=\"1\" class=\"dataframe\">\n",
       "  <thead>\n",
       "    <tr style=\"text-align: right;\">\n",
       "      <th></th>\n",
       "      <th>Pclass</th>\n",
       "      <th>SibSp</th>\n",
       "      <th>Parch</th>\n",
       "      <th>sexbin</th>\n",
       "    </tr>\n",
       "    <tr>\n",
       "      <th>PassengerId</th>\n",
       "      <th></th>\n",
       "      <th></th>\n",
       "      <th></th>\n",
       "      <th></th>\n",
       "    </tr>\n",
       "  </thead>\n",
       "  <tbody>\n",
       "    <tr>\n",
       "      <th>1</th>\n",
       "      <td>3</td>\n",
       "      <td>1</td>\n",
       "      <td>0</td>\n",
       "      <td>True</td>\n",
       "    </tr>\n",
       "    <tr>\n",
       "      <th>2</th>\n",
       "      <td>1</td>\n",
       "      <td>1</td>\n",
       "      <td>0</td>\n",
       "      <td>False</td>\n",
       "    </tr>\n",
       "    <tr>\n",
       "      <th>3</th>\n",
       "      <td>3</td>\n",
       "      <td>0</td>\n",
       "      <td>0</td>\n",
       "      <td>False</td>\n",
       "    </tr>\n",
       "    <tr>\n",
       "      <th>4</th>\n",
       "      <td>1</td>\n",
       "      <td>1</td>\n",
       "      <td>0</td>\n",
       "      <td>False</td>\n",
       "    </tr>\n",
       "    <tr>\n",
       "      <th>5</th>\n",
       "      <td>3</td>\n",
       "      <td>0</td>\n",
       "      <td>0</td>\n",
       "      <td>True</td>\n",
       "    </tr>\n",
       "    <tr>\n",
       "      <th>...</th>\n",
       "      <td>...</td>\n",
       "      <td>...</td>\n",
       "      <td>...</td>\n",
       "      <td>...</td>\n",
       "    </tr>\n",
       "    <tr>\n",
       "      <th>887</th>\n",
       "      <td>2</td>\n",
       "      <td>0</td>\n",
       "      <td>0</td>\n",
       "      <td>True</td>\n",
       "    </tr>\n",
       "    <tr>\n",
       "      <th>888</th>\n",
       "      <td>1</td>\n",
       "      <td>0</td>\n",
       "      <td>0</td>\n",
       "      <td>False</td>\n",
       "    </tr>\n",
       "    <tr>\n",
       "      <th>889</th>\n",
       "      <td>3</td>\n",
       "      <td>1</td>\n",
       "      <td>2</td>\n",
       "      <td>False</td>\n",
       "    </tr>\n",
       "    <tr>\n",
       "      <th>890</th>\n",
       "      <td>1</td>\n",
       "      <td>0</td>\n",
       "      <td>0</td>\n",
       "      <td>True</td>\n",
       "    </tr>\n",
       "    <tr>\n",
       "      <th>891</th>\n",
       "      <td>3</td>\n",
       "      <td>0</td>\n",
       "      <td>0</td>\n",
       "      <td>True</td>\n",
       "    </tr>\n",
       "  </tbody>\n",
       "</table>\n",
       "<p>891 rows × 4 columns</p>\n",
       "</div>"
      ],
      "text/plain": [
       "             Pclass  SibSp  Parch  sexbin\n",
       "PassengerId                              \n",
       "1                 3      1      0    True\n",
       "2                 1      1      0   False\n",
       "3                 3      0      0   False\n",
       "4                 1      1      0   False\n",
       "5                 3      0      0    True\n",
       "...             ...    ...    ...     ...\n",
       "887               2      0      0    True\n",
       "888               1      0      0   False\n",
       "889               3      1      2   False\n",
       "890               1      0      0    True\n",
       "891               3      0      0    True\n",
       "\n",
       "[891 rows x 4 columns]"
      ]
     },
     "execution_count": 48,
     "metadata": {},
     "output_type": "execute_result"
    }
   ],
   "source": [
    "X_train_untouched"
   ]
  },
  {
   "cell_type": "code",
   "execution_count": 49,
   "id": "40bcf402",
   "metadata": {},
   "outputs": [
    {
     "name": "stderr",
     "output_type": "stream",
     "text": [
      "/home/nilose/Documents/Data-Science/ml/my_env/lib/python3.6/site-packages/ipykernel_launcher.py:1: SettingWithCopyWarning: \n",
      "A value is trying to be set on a copy of a slice from a DataFrame.\n",
      "Try using .loc[row_indexer,col_indexer] = value instead\n",
      "\n",
      "See the caveats in the documentation: https://pandas.pydata.org/pandas-docs/stable/user_guide/indexing.html#returning-a-view-versus-a-copy\n",
      "  \"\"\"Entry point for launching an IPython kernel.\n"
     ]
    }
   ],
   "source": [
    "X_train_untouched['sexbin'] = X_train_untouched['sexbin'].replace({True: 1, False: 0})"
   ]
  },
  {
   "cell_type": "code",
   "execution_count": 50,
   "id": "1098d63a",
   "metadata": {},
   "outputs": [
    {
     "data": {
      "text/html": [
       "<div>\n",
       "<style scoped>\n",
       "    .dataframe tbody tr th:only-of-type {\n",
       "        vertical-align: middle;\n",
       "    }\n",
       "\n",
       "    .dataframe tbody tr th {\n",
       "        vertical-align: top;\n",
       "    }\n",
       "\n",
       "    .dataframe thead th {\n",
       "        text-align: right;\n",
       "    }\n",
       "</style>\n",
       "<table border=\"1\" class=\"dataframe\">\n",
       "  <thead>\n",
       "    <tr style=\"text-align: right;\">\n",
       "      <th></th>\n",
       "      <th>Pclass</th>\n",
       "      <th>SibSp</th>\n",
       "      <th>Parch</th>\n",
       "      <th>sexbin</th>\n",
       "    </tr>\n",
       "    <tr>\n",
       "      <th>PassengerId</th>\n",
       "      <th></th>\n",
       "      <th></th>\n",
       "      <th></th>\n",
       "      <th></th>\n",
       "    </tr>\n",
       "  </thead>\n",
       "  <tbody>\n",
       "    <tr>\n",
       "      <th>1</th>\n",
       "      <td>3</td>\n",
       "      <td>1</td>\n",
       "      <td>0</td>\n",
       "      <td>1</td>\n",
       "    </tr>\n",
       "    <tr>\n",
       "      <th>2</th>\n",
       "      <td>1</td>\n",
       "      <td>1</td>\n",
       "      <td>0</td>\n",
       "      <td>0</td>\n",
       "    </tr>\n",
       "    <tr>\n",
       "      <th>3</th>\n",
       "      <td>3</td>\n",
       "      <td>0</td>\n",
       "      <td>0</td>\n",
       "      <td>0</td>\n",
       "    </tr>\n",
       "    <tr>\n",
       "      <th>4</th>\n",
       "      <td>1</td>\n",
       "      <td>1</td>\n",
       "      <td>0</td>\n",
       "      <td>0</td>\n",
       "    </tr>\n",
       "    <tr>\n",
       "      <th>5</th>\n",
       "      <td>3</td>\n",
       "      <td>0</td>\n",
       "      <td>0</td>\n",
       "      <td>1</td>\n",
       "    </tr>\n",
       "    <tr>\n",
       "      <th>...</th>\n",
       "      <td>...</td>\n",
       "      <td>...</td>\n",
       "      <td>...</td>\n",
       "      <td>...</td>\n",
       "    </tr>\n",
       "    <tr>\n",
       "      <th>887</th>\n",
       "      <td>2</td>\n",
       "      <td>0</td>\n",
       "      <td>0</td>\n",
       "      <td>1</td>\n",
       "    </tr>\n",
       "    <tr>\n",
       "      <th>888</th>\n",
       "      <td>1</td>\n",
       "      <td>0</td>\n",
       "      <td>0</td>\n",
       "      <td>0</td>\n",
       "    </tr>\n",
       "    <tr>\n",
       "      <th>889</th>\n",
       "      <td>3</td>\n",
       "      <td>1</td>\n",
       "      <td>2</td>\n",
       "      <td>0</td>\n",
       "    </tr>\n",
       "    <tr>\n",
       "      <th>890</th>\n",
       "      <td>1</td>\n",
       "      <td>0</td>\n",
       "      <td>0</td>\n",
       "      <td>1</td>\n",
       "    </tr>\n",
       "    <tr>\n",
       "      <th>891</th>\n",
       "      <td>3</td>\n",
       "      <td>0</td>\n",
       "      <td>0</td>\n",
       "      <td>1</td>\n",
       "    </tr>\n",
       "  </tbody>\n",
       "</table>\n",
       "<p>891 rows × 4 columns</p>\n",
       "</div>"
      ],
      "text/plain": [
       "             Pclass  SibSp  Parch  sexbin\n",
       "PassengerId                              \n",
       "1                 3      1      0       1\n",
       "2                 1      1      0       0\n",
       "3                 3      0      0       0\n",
       "4                 1      1      0       0\n",
       "5                 3      0      0       1\n",
       "...             ...    ...    ...     ...\n",
       "887               2      0      0       1\n",
       "888               1      0      0       0\n",
       "889               3      1      2       0\n",
       "890               1      0      0       1\n",
       "891               3      0      0       1\n",
       "\n",
       "[891 rows x 4 columns]"
      ]
     },
     "execution_count": 50,
     "metadata": {},
     "output_type": "execute_result"
    }
   ],
   "source": [
    "X_train_untouched"
   ]
  },
  {
   "cell_type": "code",
   "execution_count": 51,
   "id": "7933aaaa",
   "metadata": {},
   "outputs": [],
   "source": [
    "X_train_untouched_arr = np.array(X_train_untouched)"
   ]
  },
  {
   "cell_type": "code",
   "execution_count": 52,
   "id": "f198d917",
   "metadata": {},
   "outputs": [
    {
     "data": {
      "text/plain": [
       "array([[3, 1, 0, 1],\n",
       "       [1, 1, 0, 0],\n",
       "       [3, 0, 0, 0],\n",
       "       ...,\n",
       "       [3, 1, 2, 0],\n",
       "       [1, 0, 0, 1],\n",
       "       [3, 0, 0, 1]])"
      ]
     },
     "execution_count": 52,
     "metadata": {},
     "output_type": "execute_result"
    }
   ],
   "source": [
    "X_train_untouched_arr"
   ]
  },
  {
   "cell_type": "markdown",
   "id": "3514ed22",
   "metadata": {},
   "source": [
    "I have 3 transformed arrays:\n",
    "* X_train_untouched_arr (Pclass, SibSp, Parch, sebin)\n",
    "* X_train_num_scaled (Age, Fare, namelength)\n",
    "* X_train_cat_encod (Cabin, Embarked)"
   ]
  },
  {
   "cell_type": "code",
   "execution_count": 53,
   "id": "43af0b02",
   "metadata": {},
   "outputs": [
    {
     "data": {
      "text/plain": [
       "891"
      ]
     },
     "execution_count": 53,
     "metadata": {},
     "output_type": "execute_result"
    }
   ],
   "source": [
    "len(X_train_cat_encod)"
   ]
  },
  {
   "cell_type": "code",
   "execution_count": 54,
   "id": "fd3e3b72",
   "metadata": {},
   "outputs": [],
   "source": [
    "X_train_ready = np.hstack((X_train_untouched_arr, X_train_num_scaled, X_train_cat_encod))"
   ]
  },
  {
   "cell_type": "code",
   "execution_count": 55,
   "id": "e0586563",
   "metadata": {},
   "outputs": [
    {
     "data": {
      "text/plain": [
       "891"
      ]
     },
     "execution_count": 55,
     "metadata": {},
     "output_type": "execute_result"
    }
   ],
   "source": [
    "len(X_train_ready)"
   ]
  },
  {
   "cell_type": "code",
   "execution_count": 56,
   "id": "058d44e4",
   "metadata": {},
   "outputs": [
    {
     "data": {
      "text/plain": [
       "PassengerId\n",
       "1      0\n",
       "2      1\n",
       "3      1\n",
       "4      1\n",
       "5      0\n",
       "      ..\n",
       "887    0\n",
       "888    1\n",
       "889    0\n",
       "890    1\n",
       "891    0\n",
       "Name: Survived, Length: 891, dtype: int64"
      ]
     },
     "execution_count": 56,
     "metadata": {},
     "output_type": "execute_result"
    }
   ],
   "source": [
    "y_train"
   ]
  },
  {
   "cell_type": "code",
   "execution_count": 96,
   "id": "1abd84a5",
   "metadata": {},
   "outputs": [
    {
     "data": {
      "text/plain": [
       "array([ 3.        ,  1.        ,  0.        ,  1.        , -0.56573646,\n",
       "       -0.50244517, -0.42745127,  0.        ,  3.        ])"
      ]
     },
     "execution_count": 96,
     "metadata": {},
     "output_type": "execute_result"
    }
   ],
   "source": [
    "X_train_ready[0]"
   ]
  },
  {
   "cell_type": "code",
   "execution_count": 97,
   "id": "7140c5dc",
   "metadata": {},
   "outputs": [],
   "source": [
    "from sklearn.neighbors import KNeighborsClassifier\n",
    "\n",
    "knn = KNeighborsClassifier()"
   ]
  },
  {
   "cell_type": "code",
   "execution_count": 99,
   "id": "0e5273de",
   "metadata": {},
   "outputs": [],
   "source": [
    "params = {'weights':['uniform', 'distance'], 'n_neighbors': [2,4,6,8,10]}\n",
    "\n",
    "gridsearch = GridSearchCV(knn, params, cv=3, verbose=3, scoring='accuracy')"
   ]
  },
  {
   "cell_type": "code",
   "execution_count": 100,
   "id": "225f5c75",
   "metadata": {},
   "outputs": [
    {
     "name": "stdout",
     "output_type": "stream",
     "text": [
      "Fitting 3 folds for each of 10 candidates, totalling 30 fits\n",
      "[CV 1/3] END ....n_neighbors=2, weights=uniform;, score=0.734 total time=   0.0s\n",
      "[CV 2/3] END ....n_neighbors=2, weights=uniform;, score=0.700 total time=   0.0s\n",
      "[CV 3/3] END ....n_neighbors=2, weights=uniform;, score=0.761 total time=   0.0s\n",
      "[CV 1/3] END ...n_neighbors=2, weights=distance;, score=0.734 total time=   0.0s\n",
      "[CV 2/3] END ...n_neighbors=2, weights=distance;, score=0.741 total time=   0.0s\n",
      "[CV 3/3] END ...n_neighbors=2, weights=distance;, score=0.758 total time=   0.0s\n",
      "[CV 1/3] END ....n_neighbors=4, weights=uniform;, score=0.741 total time=   0.0s\n",
      "[CV 2/3] END ....n_neighbors=4, weights=uniform;, score=0.721 total time=   0.0s\n",
      "[CV 3/3] END ....n_neighbors=4, weights=uniform;, score=0.801 total time=   0.0s\n",
      "[CV 1/3] END ...n_neighbors=4, weights=distance;, score=0.754 total time=   0.0s\n",
      "[CV 2/3] END ...n_neighbors=4, weights=distance;, score=0.764 total time=   0.0s\n",
      "[CV 3/3] END ...n_neighbors=4, weights=distance;, score=0.815 total time=   0.0s\n",
      "[CV 1/3] END ....n_neighbors=6, weights=uniform;, score=0.774 total time=   0.0s\n",
      "[CV 2/3] END ....n_neighbors=6, weights=uniform;, score=0.727 total time=   0.0s\n",
      "[CV 3/3] END ....n_neighbors=6, weights=uniform;, score=0.768 total time=   0.0s\n",
      "[CV 1/3] END ...n_neighbors=6, weights=distance;, score=0.774 total time=   0.0s\n",
      "[CV 2/3] END ...n_neighbors=6, weights=distance;, score=0.778 total time=   0.0s\n",
      "[CV 3/3] END ...n_neighbors=6, weights=distance;, score=0.805 total time=   0.0s\n",
      "[CV 1/3] END ....n_neighbors=8, weights=uniform;, score=0.761 total time=   0.0s\n",
      "[CV 2/3] END ....n_neighbors=8, weights=uniform;, score=0.747 total time=   0.0s\n",
      "[CV 3/3] END ....n_neighbors=8, weights=uniform;, score=0.788 total time=   0.0s\n",
      "[CV 1/3] END ...n_neighbors=8, weights=distance;, score=0.768 total time=   0.0s\n",
      "[CV 2/3] END ...n_neighbors=8, weights=distance;, score=0.764 total time=   0.0s\n",
      "[CV 3/3] END ...n_neighbors=8, weights=distance;, score=0.805 total time=   0.0s\n",
      "[CV 1/3] END ...n_neighbors=10, weights=uniform;, score=0.744 total time=   0.0s\n",
      "[CV 2/3] END ...n_neighbors=10, weights=uniform;, score=0.737 total time=   0.0s\n",
      "[CV 3/3] END ...n_neighbors=10, weights=uniform;, score=0.798 total time=   0.0s\n",
      "[CV 1/3] END ..n_neighbors=10, weights=distance;, score=0.758 total time=   0.0s\n",
      "[CV 2/3] END ..n_neighbors=10, weights=distance;, score=0.768 total time=   0.0s\n",
      "[CV 3/3] END ..n_neighbors=10, weights=distance;, score=0.795 total time=   0.0s\n"
     ]
    },
    {
     "data": {
      "text/plain": [
       "GridSearchCV(cv=3, estimator=KNeighborsClassifier(),\n",
       "             param_grid={'n_neighbors': [2, 4, 6, 8, 10],\n",
       "                         'weights': ['uniform', 'distance']},\n",
       "             scoring='accuracy', verbose=3)"
      ]
     },
     "execution_count": 100,
     "metadata": {},
     "output_type": "execute_result"
    }
   ],
   "source": [
    "gridsearch.fit(X_train_ready, y_train)"
   ]
  },
  {
   "cell_type": "code",
   "execution_count": 102,
   "id": "893e3b7d",
   "metadata": {},
   "outputs": [
    {
     "data": {
      "text/plain": [
       "{'n_neighbors': 6, 'weights': 'distance'}"
      ]
     },
     "execution_count": 102,
     "metadata": {},
     "output_type": "execute_result"
    }
   ],
   "source": [
    "gridsearch.best_params_"
   ]
  },
  {
   "cell_type": "code",
   "execution_count": 107,
   "id": "4bee066f",
   "metadata": {},
   "outputs": [],
   "source": [
    "params = {'weights':['uniform', 'distance'], 'n_neighbors': [2,4,6,8,10, 32, 64], 'p': [1,2,3]}\n",
    "\n",
    "gridsearch = GridSearchCV(knn, params, cv=5, verbose=3, scoring='accuracy')"
   ]
  },
  {
   "cell_type": "code",
   "execution_count": 108,
   "id": "5f7aa646",
   "metadata": {},
   "outputs": [
    {
     "name": "stdout",
     "output_type": "stream",
     "text": [
      "Fitting 5 folds for each of 42 candidates, totalling 210 fits\n",
      "[CV 1/5] END n_neighbors=2, p=1, weights=uniform;, score=0.715 total time=   0.0s\n",
      "[CV 2/5] END n_neighbors=2, p=1, weights=uniform;, score=0.736 total time=   0.0s\n",
      "[CV 3/5] END n_neighbors=2, p=1, weights=uniform;, score=0.758 total time=   0.0s\n",
      "[CV 4/5] END n_neighbors=2, p=1, weights=uniform;, score=0.730 total time=   0.0s\n",
      "[CV 5/5] END n_neighbors=2, p=1, weights=uniform;, score=0.798 total time=   0.0s\n",
      "[CV 1/5] END n_neighbors=2, p=1, weights=distance;, score=0.749 total time=   0.0s\n",
      "[CV 2/5] END n_neighbors=2, p=1, weights=distance;, score=0.775 total time=   0.0s\n",
      "[CV 3/5] END n_neighbors=2, p=1, weights=distance;, score=0.758 total time=   0.0s\n",
      "[CV 4/5] END n_neighbors=2, p=1, weights=distance;, score=0.725 total time=   0.0s\n",
      "[CV 5/5] END n_neighbors=2, p=1, weights=distance;, score=0.820 total time=   0.0s\n",
      "[CV 1/5] END n_neighbors=2, p=2, weights=uniform;, score=0.715 total time=   0.0s\n",
      "[CV 2/5] END n_neighbors=2, p=2, weights=uniform;, score=0.719 total time=   0.0s\n",
      "[CV 3/5] END n_neighbors=2, p=2, weights=uniform;, score=0.730 total time=   0.0s\n",
      "[CV 4/5] END n_neighbors=2, p=2, weights=uniform;, score=0.719 total time=   0.0s\n",
      "[CV 5/5] END n_neighbors=2, p=2, weights=uniform;, score=0.775 total time=   0.0s\n",
      "[CV 1/5] END n_neighbors=2, p=2, weights=distance;, score=0.732 total time=   0.0s\n",
      "[CV 2/5] END n_neighbors=2, p=2, weights=distance;, score=0.758 total time=   0.0s\n",
      "[CV 3/5] END n_neighbors=2, p=2, weights=distance;, score=0.753 total time=   0.0s\n",
      "[CV 4/5] END n_neighbors=2, p=2, weights=distance;, score=0.725 total time=   0.0s\n",
      "[CV 5/5] END n_neighbors=2, p=2, weights=distance;, score=0.781 total time=   0.0s\n",
      "[CV 1/5] END n_neighbors=2, p=3, weights=uniform;, score=0.726 total time=   0.0s\n",
      "[CV 2/5] END n_neighbors=2, p=3, weights=uniform;, score=0.725 total time=   0.0s\n",
      "[CV 3/5] END n_neighbors=2, p=3, weights=uniform;, score=0.725 total time=   0.0s\n",
      "[CV 4/5] END n_neighbors=2, p=3, weights=uniform;, score=0.730 total time=   0.0s\n",
      "[CV 5/5] END n_neighbors=2, p=3, weights=uniform;, score=0.781 total time=   0.0s\n",
      "[CV 1/5] END n_neighbors=2, p=3, weights=distance;, score=0.726 total time=   0.0s\n",
      "[CV 2/5] END n_neighbors=2, p=3, weights=distance;, score=0.758 total time=   0.0s\n",
      "[CV 3/5] END n_neighbors=2, p=3, weights=distance;, score=0.736 total time=   0.0s\n",
      "[CV 4/5] END n_neighbors=2, p=3, weights=distance;, score=0.719 total time=   0.0s\n",
      "[CV 5/5] END n_neighbors=2, p=3, weights=distance;, score=0.753 total time=   0.0s\n",
      "[CV 1/5] END n_neighbors=4, p=1, weights=uniform;, score=0.771 total time=   0.0s\n",
      "[CV 2/5] END n_neighbors=4, p=1, weights=uniform;, score=0.747 total time=   0.0s\n",
      "[CV 3/5] END n_neighbors=4, p=1, weights=uniform;, score=0.742 total time=   0.0s\n",
      "[CV 4/5] END n_neighbors=4, p=1, weights=uniform;, score=0.770 total time=   0.0s\n",
      "[CV 5/5] END n_neighbors=4, p=1, weights=uniform;, score=0.820 total time=   0.0s\n",
      "[CV 1/5] END n_neighbors=4, p=1, weights=distance;, score=0.777 total time=   0.0s\n",
      "[CV 2/5] END n_neighbors=4, p=1, weights=distance;, score=0.809 total time=   0.0s\n",
      "[CV 3/5] END n_neighbors=4, p=1, weights=distance;, score=0.787 total time=   0.0s\n",
      "[CV 4/5] END n_neighbors=4, p=1, weights=distance;, score=0.775 total time=   0.0s\n",
      "[CV 5/5] END n_neighbors=4, p=1, weights=distance;, score=0.848 total time=   0.0s\n",
      "[CV 1/5] END n_neighbors=4, p=2, weights=uniform;, score=0.743 total time=   0.0s\n",
      "[CV 2/5] END n_neighbors=4, p=2, weights=uniform;, score=0.730 total time=   0.0s\n",
      "[CV 3/5] END n_neighbors=4, p=2, weights=uniform;, score=0.736 total time=   0.0s\n",
      "[CV 4/5] END n_neighbors=4, p=2, weights=uniform;, score=0.747 total time=   0.0s\n",
      "[CV 5/5] END n_neighbors=4, p=2, weights=uniform;, score=0.820 total time=   0.0s\n",
      "[CV 1/5] END n_neighbors=4, p=2, weights=distance;, score=0.754 total time=   0.0s\n",
      "[CV 2/5] END n_neighbors=4, p=2, weights=distance;, score=0.775 total time=   0.0s\n",
      "[CV 3/5] END n_neighbors=4, p=2, weights=distance;, score=0.764 total time=   0.0s\n",
      "[CV 4/5] END n_neighbors=4, p=2, weights=distance;, score=0.764 total time=   0.0s\n",
      "[CV 5/5] END n_neighbors=4, p=2, weights=distance;, score=0.843 total time=   0.0s\n",
      "[CV 1/5] END n_neighbors=4, p=3, weights=uniform;, score=0.737 total time=   0.0s\n",
      "[CV 2/5] END n_neighbors=4, p=3, weights=uniform;, score=0.742 total time=   0.0s\n",
      "[CV 3/5] END n_neighbors=4, p=3, weights=uniform;, score=0.725 total time=   0.0s\n",
      "[CV 4/5] END n_neighbors=4, p=3, weights=uniform;, score=0.736 total time=   0.0s\n",
      "[CV 5/5] END n_neighbors=4, p=3, weights=uniform;, score=0.803 total time=   0.0s\n",
      "[CV 1/5] END n_neighbors=4, p=3, weights=distance;, score=0.749 total time=   0.0s\n",
      "[CV 2/5] END n_neighbors=4, p=3, weights=distance;, score=0.753 total time=   0.0s\n",
      "[CV 3/5] END n_neighbors=4, p=3, weights=distance;, score=0.753 total time=   0.0s\n",
      "[CV 4/5] END n_neighbors=4, p=3, weights=distance;, score=0.758 total time=   0.0s\n",
      "[CV 5/5] END n_neighbors=4, p=3, weights=distance;, score=0.831 total time=   0.0s\n",
      "[CV 1/5] END n_neighbors=6, p=1, weights=uniform;, score=0.765 total time=   0.0s\n",
      "[CV 2/5] END n_neighbors=6, p=1, weights=uniform;, score=0.770 total time=   0.0s\n",
      "[CV 3/5] END n_neighbors=6, p=1, weights=uniform;, score=0.787 total time=   0.0s\n",
      "[CV 4/5] END n_neighbors=6, p=1, weights=uniform;, score=0.747 total time=   0.0s\n",
      "[CV 5/5] END n_neighbors=6, p=1, weights=uniform;, score=0.843 total time=   0.0s\n",
      "[CV 1/5] END n_neighbors=6, p=1, weights=distance;, score=0.777 total time=   0.0s\n",
      "[CV 2/5] END n_neighbors=6, p=1, weights=distance;, score=0.792 total time=   0.0s\n",
      "[CV 3/5] END n_neighbors=6, p=1, weights=distance;, score=0.809 total time=   0.0s\n",
      "[CV 4/5] END n_neighbors=6, p=1, weights=distance;, score=0.781 total time=   0.0s\n",
      "[CV 5/5] END n_neighbors=6, p=1, weights=distance;, score=0.848 total time=   0.0s\n",
      "[CV 1/5] END n_neighbors=6, p=2, weights=uniform;, score=0.777 total time=   0.0s\n",
      "[CV 2/5] END n_neighbors=6, p=2, weights=uniform;, score=0.730 total time=   0.0s\n",
      "[CV 3/5] END n_neighbors=6, p=2, weights=uniform;, score=0.753 total time=   0.0s\n",
      "[CV 4/5] END n_neighbors=6, p=2, weights=uniform;, score=0.730 total time=   0.0s\n",
      "[CV 5/5] END n_neighbors=6, p=2, weights=uniform;, score=0.792 total time=   0.0s\n",
      "[CV 1/5] END n_neighbors=6, p=2, weights=distance;, score=0.782 total time=   0.0s\n",
      "[CV 2/5] END n_neighbors=6, p=2, weights=distance;, score=0.775 total time=   0.0s\n",
      "[CV 3/5] END n_neighbors=6, p=2, weights=distance;, score=0.764 total time=   0.0s\n",
      "[CV 4/5] END n_neighbors=6, p=2, weights=distance;, score=0.753 total time=   0.0s\n",
      "[CV 5/5] END n_neighbors=6, p=2, weights=distance;, score=0.826 total time=   0.0s\n",
      "[CV 1/5] END n_neighbors=6, p=3, weights=uniform;, score=0.771 total time=   0.0s\n",
      "[CV 2/5] END n_neighbors=6, p=3, weights=uniform;, score=0.730 total time=   0.0s\n",
      "[CV 3/5] END n_neighbors=6, p=3, weights=uniform;, score=0.736 total time=   0.0s\n",
      "[CV 4/5] END n_neighbors=6, p=3, weights=uniform;, score=0.730 total time=   0.0s\n",
      "[CV 5/5] END n_neighbors=6, p=3, weights=uniform;, score=0.809 total time=   0.0s\n",
      "[CV 1/5] END n_neighbors=6, p=3, weights=distance;, score=0.765 total time=   0.0s\n",
      "[CV 2/5] END n_neighbors=6, p=3, weights=distance;, score=0.753 total time=   0.0s\n",
      "[CV 3/5] END n_neighbors=6, p=3, weights=distance;, score=0.764 total time=   0.0s\n",
      "[CV 4/5] END n_neighbors=6, p=3, weights=distance;, score=0.758 total time=   0.0s\n",
      "[CV 5/5] END n_neighbors=6, p=3, weights=distance;, score=0.826 total time=   0.0s\n",
      "[CV 1/5] END n_neighbors=8, p=1, weights=uniform;, score=0.777 total time=   0.0s\n",
      "[CV 2/5] END n_neighbors=8, p=1, weights=uniform;, score=0.753 total time=   0.0s\n",
      "[CV 3/5] END n_neighbors=8, p=1, weights=uniform;, score=0.787 total time=   0.0s\n",
      "[CV 4/5] END n_neighbors=8, p=1, weights=uniform;, score=0.758 total time=   0.0s\n",
      "[CV 5/5] END n_neighbors=8, p=1, weights=uniform;, score=0.826 total time=   0.0s\n",
      "[CV 1/5] END n_neighbors=8, p=1, weights=distance;, score=0.799 total time=   0.0s\n",
      "[CV 2/5] END n_neighbors=8, p=1, weights=distance;, score=0.781 total time=   0.0s\n",
      "[CV 3/5] END n_neighbors=8, p=1, weights=distance;, score=0.792 total time=   0.0s\n",
      "[CV 4/5] END n_neighbors=8, p=1, weights=distance;, score=0.787 total time=   0.0s\n",
      "[CV 5/5] END n_neighbors=8, p=1, weights=distance;, score=0.837 total time=   0.0s\n",
      "[CV 1/5] END n_neighbors=8, p=2, weights=uniform;, score=0.771 total time=   0.0s\n",
      "[CV 2/5] END n_neighbors=8, p=2, weights=uniform;, score=0.725 total time=   0.0s\n",
      "[CV 3/5] END n_neighbors=8, p=2, weights=uniform;, score=0.770 total time=   0.0s\n",
      "[CV 4/5] END n_neighbors=8, p=2, weights=uniform;, score=0.758 total time=   0.0s\n",
      "[CV 5/5] END n_neighbors=8, p=2, weights=uniform;, score=0.815 total time=   0.0s\n",
      "[CV 1/5] END n_neighbors=8, p=2, weights=distance;, score=0.782 total time=   0.0s\n",
      "[CV 2/5] END n_neighbors=8, p=2, weights=distance;, score=0.753 total time=   0.0s\n",
      "[CV 3/5] END n_neighbors=8, p=2, weights=distance;, score=0.770 total time=   0.0s\n",
      "[CV 4/5] END n_neighbors=8, p=2, weights=distance;, score=0.775 total time=   0.0s\n",
      "[CV 5/5] END n_neighbors=8, p=2, weights=distance;, score=0.815 total time=   0.0s\n",
      "[CV 1/5] END n_neighbors=8, p=3, weights=uniform;, score=0.754 total time=   0.0s\n",
      "[CV 2/5] END n_neighbors=8, p=3, weights=uniform;, score=0.719 total time=   0.0s\n"
     ]
    },
    {
     "name": "stdout",
     "output_type": "stream",
     "text": [
      "[CV 3/5] END n_neighbors=8, p=3, weights=uniform;, score=0.775 total time=   0.0s\n",
      "[CV 4/5] END n_neighbors=8, p=3, weights=uniform;, score=0.753 total time=   0.0s\n",
      "[CV 5/5] END n_neighbors=8, p=3, weights=uniform;, score=0.815 total time=   0.0s\n",
      "[CV 1/5] END n_neighbors=8, p=3, weights=distance;, score=0.777 total time=   0.0s\n",
      "[CV 2/5] END n_neighbors=8, p=3, weights=distance;, score=0.758 total time=   0.0s\n",
      "[CV 3/5] END n_neighbors=8, p=3, weights=distance;, score=0.775 total time=   0.0s\n",
      "[CV 4/5] END n_neighbors=8, p=3, weights=distance;, score=0.775 total time=   0.0s\n",
      "[CV 5/5] END n_neighbors=8, p=3, weights=distance;, score=0.815 total time=   0.0s\n",
      "[CV 1/5] END n_neighbors=10, p=1, weights=uniform;, score=0.760 total time=   0.0s\n",
      "[CV 2/5] END n_neighbors=10, p=1, weights=uniform;, score=0.753 total time=   0.0s\n",
      "[CV 3/5] END n_neighbors=10, p=1, weights=uniform;, score=0.781 total time=   0.0s\n",
      "[CV 4/5] END n_neighbors=10, p=1, weights=uniform;, score=0.764 total time=   0.0s\n",
      "[CV 5/5] END n_neighbors=10, p=1, weights=uniform;, score=0.826 total time=   0.0s\n",
      "[CV 1/5] END n_neighbors=10, p=1, weights=distance;, score=0.793 total time=   0.0s\n",
      "[CV 2/5] END n_neighbors=10, p=1, weights=distance;, score=0.775 total time=   0.0s\n",
      "[CV 3/5] END n_neighbors=10, p=1, weights=distance;, score=0.809 total time=   0.0s\n",
      "[CV 4/5] END n_neighbors=10, p=1, weights=distance;, score=0.781 total time=   0.0s\n",
      "[CV 5/5] END n_neighbors=10, p=1, weights=distance;, score=0.831 total time=   0.0s\n",
      "[CV 1/5] END n_neighbors=10, p=2, weights=uniform;, score=0.760 total time=   0.0s\n",
      "[CV 2/5] END n_neighbors=10, p=2, weights=uniform;, score=0.713 total time=   0.0s\n",
      "[CV 3/5] END n_neighbors=10, p=2, weights=uniform;, score=0.758 total time=   0.0s\n",
      "[CV 4/5] END n_neighbors=10, p=2, weights=uniform;, score=0.758 total time=   0.0s\n",
      "[CV 5/5] END n_neighbors=10, p=2, weights=uniform;, score=0.815 total time=   0.0s\n",
      "[CV 1/5] END n_neighbors=10, p=2, weights=distance;, score=0.788 total time=   0.0s\n",
      "[CV 2/5] END n_neighbors=10, p=2, weights=distance;, score=0.764 total time=   0.0s\n",
      "[CV 3/5] END n_neighbors=10, p=2, weights=distance;, score=0.781 total time=   0.0s\n",
      "[CV 4/5] END n_neighbors=10, p=2, weights=distance;, score=0.764 total time=   0.0s\n",
      "[CV 5/5] END n_neighbors=10, p=2, weights=distance;, score=0.826 total time=   0.0s\n",
      "[CV 1/5] END n_neighbors=10, p=3, weights=uniform;, score=0.765 total time=   0.0s\n",
      "[CV 2/5] END n_neighbors=10, p=3, weights=uniform;, score=0.708 total time=   0.0s\n",
      "[CV 3/5] END n_neighbors=10, p=3, weights=uniform;, score=0.770 total time=   0.0s\n",
      "[CV 4/5] END n_neighbors=10, p=3, weights=uniform;, score=0.753 total time=   0.0s\n",
      "[CV 5/5] END n_neighbors=10, p=3, weights=uniform;, score=0.787 total time=   0.0s\n",
      "[CV 1/5] END n_neighbors=10, p=3, weights=distance;, score=0.777 total time=   0.0s\n",
      "[CV 2/5] END n_neighbors=10, p=3, weights=distance;, score=0.747 total time=   0.0s\n",
      "[CV 3/5] END n_neighbors=10, p=3, weights=distance;, score=0.787 total time=   0.0s\n",
      "[CV 4/5] END n_neighbors=10, p=3, weights=distance;, score=0.770 total time=   0.0s\n",
      "[CV 5/5] END n_neighbors=10, p=3, weights=distance;, score=0.809 total time=   0.0s\n",
      "[CV 1/5] END n_neighbors=32, p=1, weights=uniform;, score=0.754 total time=   0.0s\n",
      "[CV 2/5] END n_neighbors=32, p=1, weights=uniform;, score=0.764 total time=   0.0s\n",
      "[CV 3/5] END n_neighbors=32, p=1, weights=uniform;, score=0.770 total time=   0.0s\n",
      "[CV 4/5] END n_neighbors=32, p=1, weights=uniform;, score=0.742 total time=   0.0s\n",
      "[CV 5/5] END n_neighbors=32, p=1, weights=uniform;, score=0.815 total time=   0.0s\n",
      "[CV 1/5] END n_neighbors=32, p=1, weights=distance;, score=0.749 total time=   0.0s\n",
      "[CV 2/5] END n_neighbors=32, p=1, weights=distance;, score=0.758 total time=   0.0s\n",
      "[CV 3/5] END n_neighbors=32, p=1, weights=distance;, score=0.787 total time=   0.0s\n",
      "[CV 4/5] END n_neighbors=32, p=1, weights=distance;, score=0.775 total time=   0.0s\n",
      "[CV 5/5] END n_neighbors=32, p=1, weights=distance;, score=0.820 total time=   0.0s\n",
      "[CV 1/5] END n_neighbors=32, p=2, weights=uniform;, score=0.771 total time=   0.0s\n",
      "[CV 2/5] END n_neighbors=32, p=2, weights=uniform;, score=0.742 total time=   0.0s\n",
      "[CV 3/5] END n_neighbors=32, p=2, weights=uniform;, score=0.775 total time=   0.0s\n",
      "[CV 4/5] END n_neighbors=32, p=2, weights=uniform;, score=0.725 total time=   0.0s\n",
      "[CV 5/5] END n_neighbors=32, p=2, weights=uniform;, score=0.826 total time=   0.0s\n",
      "[CV 1/5] END n_neighbors=32, p=2, weights=distance;, score=0.765 total time=   0.0s\n",
      "[CV 2/5] END n_neighbors=32, p=2, weights=distance;, score=0.753 total time=   0.0s\n",
      "[CV 3/5] END n_neighbors=32, p=2, weights=distance;, score=0.770 total time=   0.0s\n",
      "[CV 4/5] END n_neighbors=32, p=2, weights=distance;, score=0.753 total time=   0.0s\n",
      "[CV 5/5] END n_neighbors=32, p=2, weights=distance;, score=0.815 total time=   0.0s\n",
      "[CV 1/5] END n_neighbors=32, p=3, weights=uniform;, score=0.760 total time=   0.0s\n",
      "[CV 2/5] END n_neighbors=32, p=3, weights=uniform;, score=0.747 total time=   0.0s\n",
      "[CV 3/5] END n_neighbors=32, p=3, weights=uniform;, score=0.775 total time=   0.0s\n",
      "[CV 4/5] END n_neighbors=32, p=3, weights=uniform;, score=0.747 total time=   0.0s\n",
      "[CV 5/5] END n_neighbors=32, p=3, weights=uniform;, score=0.815 total time=   0.0s\n",
      "[CV 1/5] END n_neighbors=32, p=3, weights=distance;, score=0.777 total time=   0.0s\n",
      "[CV 2/5] END n_neighbors=32, p=3, weights=distance;, score=0.747 total time=   0.0s\n",
      "[CV 3/5] END n_neighbors=32, p=3, weights=distance;, score=0.775 total time=   0.0s\n",
      "[CV 4/5] END n_neighbors=32, p=3, weights=distance;, score=0.758 total time=   0.0s\n",
      "[CV 5/5] END n_neighbors=32, p=3, weights=distance;, score=0.815 total time=   0.0s\n",
      "[CV 1/5] END n_neighbors=64, p=1, weights=uniform;, score=0.704 total time=   0.0s\n",
      "[CV 2/5] END n_neighbors=64, p=1, weights=uniform;, score=0.742 total time=   0.0s\n",
      "[CV 3/5] END n_neighbors=64, p=1, weights=uniform;, score=0.758 total time=   0.0s\n",
      "[CV 4/5] END n_neighbors=64, p=1, weights=uniform;, score=0.713 total time=   0.0s\n",
      "[CV 5/5] END n_neighbors=64, p=1, weights=uniform;, score=0.792 total time=   0.0s\n",
      "[CV 1/5] END n_neighbors=64, p=1, weights=distance;, score=0.743 total time=   0.0s\n",
      "[CV 2/5] END n_neighbors=64, p=1, weights=distance;, score=0.758 total time=   0.0s\n",
      "[CV 3/5] END n_neighbors=64, p=1, weights=distance;, score=0.758 total time=   0.0s\n",
      "[CV 4/5] END n_neighbors=64, p=1, weights=distance;, score=0.725 total time=   0.0s\n",
      "[CV 5/5] END n_neighbors=64, p=1, weights=distance;, score=0.792 total time=   0.0s\n",
      "[CV 1/5] END n_neighbors=64, p=2, weights=uniform;, score=0.698 total time=   0.0s\n",
      "[CV 2/5] END n_neighbors=64, p=2, weights=uniform;, score=0.730 total time=   0.0s\n",
      "[CV 3/5] END n_neighbors=64, p=2, weights=uniform;, score=0.730 total time=   0.0s\n",
      "[CV 4/5] END n_neighbors=64, p=2, weights=uniform;, score=0.719 total time=   0.0s\n",
      "[CV 5/5] END n_neighbors=64, p=2, weights=uniform;, score=0.803 total time=   0.0s\n",
      "[CV 1/5] END n_neighbors=64, p=2, weights=distance;, score=0.743 total time=   0.0s\n",
      "[CV 2/5] END n_neighbors=64, p=2, weights=distance;, score=0.747 total time=   0.0s\n",
      "[CV 3/5] END n_neighbors=64, p=2, weights=distance;, score=0.758 total time=   0.0s\n",
      "[CV 4/5] END n_neighbors=64, p=2, weights=distance;, score=0.719 total time=   0.0s\n",
      "[CV 5/5] END n_neighbors=64, p=2, weights=distance;, score=0.781 total time=   0.0s\n",
      "[CV 1/5] END n_neighbors=64, p=3, weights=uniform;, score=0.704 total time=   0.0s\n",
      "[CV 2/5] END n_neighbors=64, p=3, weights=uniform;, score=0.730 total time=   0.0s\n",
      "[CV 3/5] END n_neighbors=64, p=3, weights=uniform;, score=0.708 total time=   0.0s\n",
      "[CV 4/5] END n_neighbors=64, p=3, weights=uniform;, score=0.713 total time=   0.0s\n",
      "[CV 5/5] END n_neighbors=64, p=3, weights=uniform;, score=0.798 total time=   0.0s\n",
      "[CV 1/5] END n_neighbors=64, p=3, weights=distance;, score=0.737 total time=   0.0s\n",
      "[CV 2/5] END n_neighbors=64, p=3, weights=distance;, score=0.742 total time=   0.0s\n",
      "[CV 3/5] END n_neighbors=64, p=3, weights=distance;, score=0.736 total time=   0.0s\n",
      "[CV 4/5] END n_neighbors=64, p=3, weights=distance;, score=0.730 total time=   0.0s\n",
      "[CV 5/5] END n_neighbors=64, p=3, weights=distance;, score=0.787 total time=   0.0s\n"
     ]
    },
    {
     "data": {
      "text/plain": [
       "GridSearchCV(cv=5, estimator=KNeighborsClassifier(),\n",
       "             param_grid={'n_neighbors': [2, 4, 6, 8, 10, 32, 64],\n",
       "                         'p': [1, 2, 3], 'weights': ['uniform', 'distance']},\n",
       "             scoring='accuracy', verbose=3)"
      ]
     },
     "execution_count": 108,
     "metadata": {},
     "output_type": "execute_result"
    }
   ],
   "source": [
    "gridsearch.fit(X_train_ready, y_train)"
   ]
  },
  {
   "cell_type": "code",
   "execution_count": 109,
   "id": "9a24288f",
   "metadata": {},
   "outputs": [
    {
     "data": {
      "text/plain": [
       "{'n_neighbors': 6, 'p': 1, 'weights': 'distance'}"
      ]
     },
     "execution_count": 109,
     "metadata": {},
     "output_type": "execute_result"
    }
   ],
   "source": [
    "gridsearch.best_params_"
   ]
  },
  {
   "cell_type": "code",
   "execution_count": 110,
   "id": "4254bc61",
   "metadata": {},
   "outputs": [
    {
     "data": {
      "text/plain": [
       "0.8013746783001695"
      ]
     },
     "execution_count": 110,
     "metadata": {},
     "output_type": "execute_result"
    }
   ],
   "source": [
    "gridsearch.best_score_"
   ]
  },
  {
   "cell_type": "code",
   "execution_count": 2,
   "id": "4bca95a1",
   "metadata": {},
   "outputs": [],
   "source": [
    "from sklearn.svm import SVC\n",
    "\n",
    "svc = SVC()"
   ]
  },
  {
   "cell_type": "code",
   "execution_count": 58,
   "id": "97a4f549",
   "metadata": {},
   "outputs": [],
   "source": [
    "params = {'C': [1., 3., 9., 27.], 'kernel': ['linear', 'rbf'], 'gamma': ['scale', 'auto']}\n",
    "\n",
    "gridsearch = GridSearchCV(svc, params, cv=5, verbose=3, scoring='accuracy')"
   ]
  },
  {
   "cell_type": "code",
   "execution_count": 59,
   "id": "4b230e56",
   "metadata": {
    "scrolled": false
   },
   "outputs": [
    {
     "name": "stdout",
     "output_type": "stream",
     "text": [
      "Fitting 5 folds for each of 16 candidates, totalling 80 fits\n",
      "[CV 1/5] END .C=1.0, gamma=scale, kernel=linear;, score=0.799 total time=   0.3s\n",
      "[CV 2/5] END .C=1.0, gamma=scale, kernel=linear;, score=0.809 total time=   0.1s\n",
      "[CV 3/5] END .C=1.0, gamma=scale, kernel=linear;, score=0.787 total time=   0.5s\n",
      "[CV 4/5] END .C=1.0, gamma=scale, kernel=linear;, score=0.753 total time=   4.3s\n",
      "[CV 5/5] END .C=1.0, gamma=scale, kernel=linear;, score=0.787 total time=   5.1s\n",
      "[CV 1/5] END ....C=1.0, gamma=scale, kernel=rbf;, score=0.659 total time=   0.0s\n",
      "[CV 2/5] END ....C=1.0, gamma=scale, kernel=rbf;, score=0.674 total time=   0.0s\n",
      "[CV 3/5] END ....C=1.0, gamma=scale, kernel=rbf;, score=0.680 total time=   0.0s\n",
      "[CV 4/5] END ....C=1.0, gamma=scale, kernel=rbf;, score=0.708 total time=   0.0s\n",
      "[CV 5/5] END ....C=1.0, gamma=scale, kernel=rbf;, score=0.742 total time=   0.0s\n",
      "[CV 1/5] END ..C=1.0, gamma=auto, kernel=linear;, score=0.799 total time=   0.2s\n",
      "[CV 2/5] END ..C=1.0, gamma=auto, kernel=linear;, score=0.809 total time=   0.1s\n",
      "[CV 3/5] END ..C=1.0, gamma=auto, kernel=linear;, score=0.787 total time=   0.5s\n",
      "[CV 4/5] END ..C=1.0, gamma=auto, kernel=linear;, score=0.753 total time=   4.4s\n",
      "[CV 5/5] END ..C=1.0, gamma=auto, kernel=linear;, score=0.787 total time=   5.3s\n",
      "[CV 1/5] END .....C=1.0, gamma=auto, kernel=rbf;, score=0.782 total time=   0.0s\n",
      "[CV 2/5] END .....C=1.0, gamma=auto, kernel=rbf;, score=0.781 total time=   0.0s\n",
      "[CV 3/5] END .....C=1.0, gamma=auto, kernel=rbf;, score=0.803 total time=   0.0s\n",
      "[CV 4/5] END .....C=1.0, gamma=auto, kernel=rbf;, score=0.815 total time=   0.0s\n",
      "[CV 5/5] END .....C=1.0, gamma=auto, kernel=rbf;, score=0.826 total time=   0.0s\n",
      "[CV 1/5] END .C=3.0, gamma=scale, kernel=linear;, score=0.799 total time=   0.8s\n",
      "[CV 2/5] END .C=3.0, gamma=scale, kernel=linear;, score=0.809 total time=   0.4s\n",
      "[CV 3/5] END .C=3.0, gamma=scale, kernel=linear;, score=0.787 total time=   1.2s\n",
      "[CV 4/5] END .C=3.0, gamma=scale, kernel=linear;, score=0.753 total time=   8.4s\n",
      "[CV 5/5] END .C=3.0, gamma=scale, kernel=linear;, score=0.787 total time=  13.4s\n",
      "[CV 1/5] END ....C=3.0, gamma=scale, kernel=rbf;, score=0.659 total time=   0.0s\n",
      "[CV 2/5] END ....C=3.0, gamma=scale, kernel=rbf;, score=0.680 total time=   0.0s\n",
      "[CV 3/5] END ....C=3.0, gamma=scale, kernel=rbf;, score=0.685 total time=   0.0s\n",
      "[CV 4/5] END ....C=3.0, gamma=scale, kernel=rbf;, score=0.713 total time=   0.0s\n",
      "[CV 5/5] END ....C=3.0, gamma=scale, kernel=rbf;, score=0.742 total time=   0.0s\n",
      "[CV 1/5] END ..C=3.0, gamma=auto, kernel=linear;, score=0.799 total time=   0.7s\n",
      "[CV 2/5] END ..C=3.0, gamma=auto, kernel=linear;, score=0.809 total time=   0.4s\n",
      "[CV 3/5] END ..C=3.0, gamma=auto, kernel=linear;, score=0.787 total time=   1.1s\n",
      "[CV 4/5] END ..C=3.0, gamma=auto, kernel=linear;, score=0.753 total time=   8.6s\n",
      "[CV 5/5] END ..C=3.0, gamma=auto, kernel=linear;, score=0.787 total time=  13.7s\n",
      "[CV 1/5] END .....C=3.0, gamma=auto, kernel=rbf;, score=0.799 total time=   0.0s\n",
      "[CV 2/5] END .....C=3.0, gamma=auto, kernel=rbf;, score=0.781 total time=   0.0s\n",
      "[CV 3/5] END .....C=3.0, gamma=auto, kernel=rbf;, score=0.820 total time=   0.0s\n",
      "[CV 4/5] END .....C=3.0, gamma=auto, kernel=rbf;, score=0.803 total time=   0.0s\n",
      "[CV 5/5] END .....C=3.0, gamma=auto, kernel=rbf;, score=0.837 total time=   0.0s\n",
      "[CV 1/5] END .C=9.0, gamma=scale, kernel=linear;, score=0.799 total time=   2.1s\n",
      "[CV 2/5] END .C=9.0, gamma=scale, kernel=linear;, score=0.809 total time=   1.6s\n",
      "[CV 3/5] END .C=9.0, gamma=scale, kernel=linear;, score=0.787 total time=   3.5s\n",
      "[CV 4/5] END .C=9.0, gamma=scale, kernel=linear;, score=0.753 total time=  11.9s\n",
      "[CV 5/5] END .C=9.0, gamma=scale, kernel=linear;, score=0.787 total time=  17.4s\n",
      "[CV 1/5] END ....C=9.0, gamma=scale, kernel=rbf;, score=0.704 total time=   0.0s\n",
      "[CV 2/5] END ....C=9.0, gamma=scale, kernel=rbf;, score=0.736 total time=   0.0s\n",
      "[CV 3/5] END ....C=9.0, gamma=scale, kernel=rbf;, score=0.725 total time=   0.0s\n",
      "[CV 4/5] END ....C=9.0, gamma=scale, kernel=rbf;, score=0.719 total time=   0.0s\n",
      "[CV 5/5] END ....C=9.0, gamma=scale, kernel=rbf;, score=0.775 total time=   0.0s\n",
      "[CV 1/5] END ..C=9.0, gamma=auto, kernel=linear;, score=0.799 total time=   2.8s\n",
      "[CV 2/5] END ..C=9.0, gamma=auto, kernel=linear;, score=0.809 total time=   1.9s\n",
      "[CV 3/5] END ..C=9.0, gamma=auto, kernel=linear;, score=0.787 total time=   4.2s\n",
      "[CV 4/5] END ..C=9.0, gamma=auto, kernel=linear;, score=0.753 total time=  13.0s\n",
      "[CV 5/5] END ..C=9.0, gamma=auto, kernel=linear;, score=0.787 total time=  16.1s\n",
      "[CV 1/5] END .....C=9.0, gamma=auto, kernel=rbf;, score=0.821 total time=   0.0s\n",
      "[CV 2/5] END .....C=9.0, gamma=auto, kernel=rbf;, score=0.770 total time=   0.0s\n",
      "[CV 3/5] END .....C=9.0, gamma=auto, kernel=rbf;, score=0.826 total time=   0.0s\n",
      "[CV 4/5] END .....C=9.0, gamma=auto, kernel=rbf;, score=0.792 total time=   0.0s\n",
      "[CV 5/5] END .....C=9.0, gamma=auto, kernel=rbf;, score=0.854 total time=   0.0s\n",
      "[CV 1/5] END C=27.0, gamma=scale, kernel=linear;, score=0.799 total time=   5.6s\n",
      "[CV 2/5] END C=27.0, gamma=scale, kernel=linear;, score=0.809 total time=   4.6s\n",
      "[CV 3/5] END C=27.0, gamma=scale, kernel=linear;, score=0.787 total time=   5.4s\n",
      "[CV 4/5] END C=27.0, gamma=scale, kernel=linear;, score=0.753 total time=  16.8s\n",
      "[CV 5/5] END C=27.0, gamma=scale, kernel=linear;, score=0.787 total time=  25.8s\n",
      "[CV 1/5] END ...C=27.0, gamma=scale, kernel=rbf;, score=0.771 total time=   0.0s\n",
      "[CV 2/5] END ...C=27.0, gamma=scale, kernel=rbf;, score=0.781 total time=   0.0s\n",
      "[CV 3/5] END ...C=27.0, gamma=scale, kernel=rbf;, score=0.787 total time=   0.0s\n",
      "[CV 4/5] END ...C=27.0, gamma=scale, kernel=rbf;, score=0.753 total time=   0.0s\n",
      "[CV 5/5] END ...C=27.0, gamma=scale, kernel=rbf;, score=0.826 total time=   0.0s\n",
      "[CV 1/5] END .C=27.0, gamma=auto, kernel=linear;, score=0.799 total time=   5.0s\n",
      "[CV 2/5] END .C=27.0, gamma=auto, kernel=linear;, score=0.809 total time=   5.1s\n",
      "[CV 3/5] END .C=27.0, gamma=auto, kernel=linear;, score=0.787 total time=   5.6s\n",
      "[CV 4/5] END .C=27.0, gamma=auto, kernel=linear;, score=0.753 total time=  16.8s\n",
      "[CV 5/5] END .C=27.0, gamma=auto, kernel=linear;, score=0.787 total time=  25.7s\n",
      "[CV 1/5] END ....C=27.0, gamma=auto, kernel=rbf;, score=0.810 total time=   0.0s\n",
      "[CV 2/5] END ....C=27.0, gamma=auto, kernel=rbf;, score=0.781 total time=   0.0s\n",
      "[CV 3/5] END ....C=27.0, gamma=auto, kernel=rbf;, score=0.837 total time=   0.0s\n",
      "[CV 4/5] END ....C=27.0, gamma=auto, kernel=rbf;, score=0.775 total time=   0.0s\n",
      "[CV 5/5] END ....C=27.0, gamma=auto, kernel=rbf;, score=0.854 total time=   0.0s\n"
     ]
    },
    {
     "data": {
      "text/plain": [
       "GridSearchCV(cv=5, estimator=SVC(),\n",
       "             param_grid={'C': [1.0, 3.0, 9.0, 27.0], 'gamma': ['scale', 'auto'],\n",
       "                         'kernel': ['linear', 'rbf']},\n",
       "             scoring='accuracy', verbose=3)"
      ]
     },
     "execution_count": 59,
     "metadata": {},
     "output_type": "execute_result"
    }
   ],
   "source": [
    "gridsearch.fit(X_train_ready, y_train)"
   ]
  },
  {
   "cell_type": "code",
   "execution_count": 60,
   "id": "2876d969",
   "metadata": {},
   "outputs": [
    {
     "data": {
      "text/plain": [
       "0.8125604167974391"
      ]
     },
     "execution_count": 60,
     "metadata": {},
     "output_type": "execute_result"
    }
   ],
   "source": [
    "gridsearch.best_score_"
   ]
  },
  {
   "cell_type": "code",
   "execution_count": 117,
   "id": "66ff579a",
   "metadata": {},
   "outputs": [
    {
     "data": {
      "text/plain": [
       "{'C': 9.0, 'gamma': 'auto', 'kernel': 'rbf'}"
      ]
     },
     "execution_count": 117,
     "metadata": {},
     "output_type": "execute_result"
    }
   ],
   "source": [
    "gridsearch.best_params_"
   ]
  },
  {
   "cell_type": "code",
   "execution_count": 61,
   "id": "17d9a64e",
   "metadata": {},
   "outputs": [
    {
     "data": {
      "text/plain": [
       "0.8125604167974391"
      ]
     },
     "execution_count": 61,
     "metadata": {},
     "output_type": "execute_result"
    }
   ],
   "source": [
    "gridsearch.best_score_"
   ]
  },
  {
   "cell_type": "code",
   "execution_count": 62,
   "id": "8b3a7d90",
   "metadata": {},
   "outputs": [
    {
     "data": {
      "text/plain": [
       "{'C': 9.0, 'gamma': 'auto', 'kernel': 'rbf'}"
      ]
     },
     "execution_count": 62,
     "metadata": {},
     "output_type": "execute_result"
    }
   ],
   "source": [
    "gridsearch.best_params_"
   ]
  },
  {
   "cell_type": "code",
   "execution_count": null,
   "id": "da0442e8",
   "metadata": {},
   "outputs": [],
   "source": []
  }
 ],
 "metadata": {
  "kernelspec": {
   "display_name": "Python 3",
   "language": "python",
   "name": "python3"
  },
  "language_info": {
   "codemirror_mode": {
    "name": "ipython",
    "version": 3
   },
   "file_extension": ".py",
   "mimetype": "text/x-python",
   "name": "python",
   "nbconvert_exporter": "python",
   "pygments_lexer": "ipython3",
   "version": "3.6.9"
  }
 },
 "nbformat": 4,
 "nbformat_minor": 5
}
