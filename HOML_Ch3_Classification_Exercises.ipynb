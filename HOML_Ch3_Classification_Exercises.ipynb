{
 "cells": [
  {
   "cell_type": "markdown",
   "id": "5c894757",
   "metadata": {},
   "source": [
    "# Exercise 1"
   ]
  },
  {
   "cell_type": "code",
   "execution_count": 1,
   "id": "13ddf622",
   "metadata": {},
   "outputs": [],
   "source": [
    "import numpy as np\n",
    "import pandas as pd\n",
    "from sklearn.datasets import fetch_openml\n",
    "from sklearn.neighbors import KNeighborsClassifier\n",
    "from sklearn.preprocessing import StandardScaler\n",
    "from sklearn.model_selection import GridSearchCV\n",
    "import matplotlib as mpl\n",
    "import matplotlib.pyplot as plt\n",
    "\n",
    "mnist = fetch_openml('mnist_784', version=1)"
   ]
  },
  {
   "cell_type": "code",
   "execution_count": 2,
   "id": "80a4fdd4",
   "metadata": {
    "scrolled": false
   },
   "outputs": [],
   "source": [
    "X, y = mnist[\"data\"], mnist[\"target\"]"
   ]
  },
  {
   "cell_type": "code",
   "execution_count": 3,
   "id": "56f4e482",
   "metadata": {},
   "outputs": [],
   "source": [
    "def show_digit(index):\n",
    "    digit_array = np.array(X.loc[index])\n",
    "    digit_im = digit_array.reshape(28,28)\n",
    "    plt.imshow(digit_im, cmap=\"binary\")\n",
    "    plt.axis(\"off\")\n",
    "    plt.show()    "
   ]
  },
  {
   "cell_type": "code",
   "execution_count": 4,
   "id": "3957779f",
   "metadata": {},
   "outputs": [],
   "source": [
    "# Define the test set and the training set (already determined previously)\n",
    "\n",
    "X_train, X_test, y_train, y_test = X[:60000], X[60000:], y[:60000], y[60000:]"
   ]
  },
  {
   "cell_type": "code",
   "execution_count": 7,
   "id": "02807018",
   "metadata": {},
   "outputs": [],
   "source": [
    "scaler = StandardScaler()\n",
    "\n",
    "X_train_scaled = scaler.fit_transform(X_train.astype(np.float64))\n",
    "X_test_scaled = scaler.fit_transform(X_test.astype(np.float64))"
   ]
  },
  {
   "cell_type": "code",
   "execution_count": 8,
   "id": "f8d8aced",
   "metadata": {},
   "outputs": [],
   "source": [
    "#First test of KNN\n",
    "\n",
    "knn = KNeighborsClassifier()\n",
    "\n",
    "#knn.fit(X_train_scaled, y_train)"
   ]
  },
  {
   "cell_type": "code",
   "execution_count": 8,
   "id": "7fb03c28",
   "metadata": {},
   "outputs": [
    {
     "data": {
      "text/plain": [
       "0.96425"
      ]
     },
     "execution_count": 8,
     "metadata": {},
     "output_type": "execute_result"
    }
   ],
   "source": [
    "knn.score(X_train_scaled, y_train)"
   ]
  },
  {
   "cell_type": "code",
   "execution_count": 28,
   "id": "4a007838",
   "metadata": {},
   "outputs": [
    {
     "data": {
      "text/plain": [
       "array(['3', '0', '4', ..., '5', '6', '8'], dtype=object)"
      ]
     },
     "execution_count": 28,
     "metadata": {},
     "output_type": "execute_result"
    }
   ],
   "source": [
    "knn.predict(X_train_scaled)"
   ]
  },
  {
   "cell_type": "code",
   "execution_count": 32,
   "id": "5713def9",
   "metadata": {},
   "outputs": [],
   "source": [
    "#from sklearn.model_selection import GridSearchCV\n",
    "\n",
    "params = {'weights':['uniform', 'distance'], 'n_neighbors': [2,4,6,8,10]}\n",
    "\n",
    "gridsearch = GridSearchCV(knn, params, cv=3, verbose=3)"
   ]
  },
  {
   "cell_type": "code",
   "execution_count": 33,
   "id": "7f198640",
   "metadata": {},
   "outputs": [
    {
     "name": "stdout",
     "output_type": "stream",
     "text": [
      "Fitting 3 folds for each of 10 candidates, totalling 30 fits\n",
      "[CV 1/3] END ....n_neighbors=2, weights=uniform;, score=0.926 total time=  38.7s\n",
      "[CV 2/3] END ....n_neighbors=2, weights=uniform;, score=0.929 total time=  39.0s\n",
      "[CV 3/3] END ....n_neighbors=2, weights=uniform;, score=0.929 total time=  40.2s\n",
      "[CV 1/3] END ...n_neighbors=2, weights=distance;, score=0.935 total time=  41.6s\n",
      "[CV 2/3] END ...n_neighbors=2, weights=distance;, score=0.939 total time=  41.6s\n",
      "[CV 3/3] END ...n_neighbors=2, weights=distance;, score=0.941 total time=  42.1s\n",
      "[CV 1/3] END ....n_neighbors=4, weights=uniform;, score=0.935 total time= 1.0min\n",
      "[CV 2/3] END ....n_neighbors=4, weights=uniform;, score=0.939 total time= 1.0min\n",
      "[CV 3/3] END ....n_neighbors=4, weights=uniform;, score=0.938 total time=  57.4s\n",
      "[CV 1/3] END ...n_neighbors=4, weights=distance;, score=0.943 total time=  56.1s\n",
      "[CV 2/3] END ...n_neighbors=4, weights=distance;, score=0.944 total time=  57.0s\n",
      "[CV 3/3] END ...n_neighbors=4, weights=distance;, score=0.944 total time=  53.4s\n",
      "[CV 1/3] END ....n_neighbors=6, weights=uniform;, score=0.936 total time=  52.4s\n",
      "[CV 2/3] END ....n_neighbors=6, weights=uniform;, score=0.939 total time=  53.9s\n",
      "[CV 3/3] END ....n_neighbors=6, weights=uniform;, score=0.940 total time=  55.0s\n",
      "[CV 1/3] END ...n_neighbors=6, weights=distance;, score=0.941 total time=  53.5s\n",
      "[CV 2/3] END ...n_neighbors=6, weights=distance;, score=0.943 total time=  52.9s\n",
      "[CV 3/3] END ...n_neighbors=6, weights=distance;, score=0.944 total time=  52.4s\n",
      "[CV 1/3] END ....n_neighbors=8, weights=uniform;, score=0.933 total time=  53.1s\n",
      "[CV 2/3] END ....n_neighbors=8, weights=uniform;, score=0.937 total time=  55.6s\n",
      "[CV 3/3] END ....n_neighbors=8, weights=uniform;, score=0.939 total time=  54.3s\n",
      "[CV 1/3] END ...n_neighbors=8, weights=distance;, score=0.937 total time=  55.7s\n",
      "[CV 2/3] END ...n_neighbors=8, weights=distance;, score=0.941 total time=  59.3s\n",
      "[CV 3/3] END ...n_neighbors=8, weights=distance;, score=0.943 total time=  59.0s\n",
      "[CV 1/3] END ...n_neighbors=10, weights=uniform;, score=0.932 total time=  58.6s\n",
      "[CV 2/3] END ...n_neighbors=10, weights=uniform;, score=0.936 total time=  57.3s\n",
      "[CV 3/3] END ...n_neighbors=10, weights=uniform;, score=0.937 total time=  57.6s\n",
      "[CV 1/3] END ..n_neighbors=10, weights=distance;, score=0.935 total time=  58.9s\n",
      "[CV 2/3] END ..n_neighbors=10, weights=distance;, score=0.940 total time=  58.4s\n",
      "[CV 3/3] END ..n_neighbors=10, weights=distance;, score=0.941 total time=  54.6s\n"
     ]
    },
    {
     "data": {
      "text/plain": [
       "GridSearchCV(cv=3, estimator=KNeighborsClassifier(),\n",
       "             param_grid={'n_neighbors': [2, 4, 6, 8, 10],\n",
       "                         'weights': ['uniform', 'distance']},\n",
       "             verbose=3)"
      ]
     },
     "execution_count": 33,
     "metadata": {},
     "output_type": "execute_result"
    }
   ],
   "source": [
    "gridsearch.fit(X_train_scaled, y_train)"
   ]
  },
  {
   "cell_type": "code",
   "execution_count": 34,
   "id": "98aedb6e",
   "metadata": {},
   "outputs": [
    {
     "data": {
      "text/plain": [
       "KNeighborsClassifier(n_neighbors=4, weights='distance')"
      ]
     },
     "execution_count": 34,
     "metadata": {},
     "output_type": "execute_result"
    }
   ],
   "source": [
    "gridsearch.best_estimator_"
   ]
  },
  {
   "cell_type": "code",
   "execution_count": 35,
   "id": "531ed88b",
   "metadata": {},
   "outputs": [],
   "source": [
    "params = {'weights':['distance'], 'n_neighbors': [12,18,24,30]}"
   ]
  },
  {
   "cell_type": "code",
   "execution_count": 36,
   "id": "ede4c055",
   "metadata": {},
   "outputs": [
    {
     "name": "stdout",
     "output_type": "stream",
     "text": [
      "Fitting 3 folds for each of 4 candidates, totalling 12 fits\n",
      "[CV 1/3] END ..n_neighbors=12, weights=distance;, score=0.933 total time=  46.2s\n",
      "[CV 2/3] END ..n_neighbors=12, weights=distance;, score=0.937 total time=  49.2s\n",
      "[CV 3/3] END ..n_neighbors=12, weights=distance;, score=0.939 total time=  50.9s\n",
      "[CV 1/3] END ..n_neighbors=18, weights=distance;, score=0.929 total time=  52.5s\n",
      "[CV 2/3] END ..n_neighbors=18, weights=distance;, score=0.931 total time=  52.0s\n",
      "[CV 3/3] END ..n_neighbors=18, weights=distance;, score=0.935 total time=  57.8s\n",
      "[CV 1/3] END ..n_neighbors=24, weights=distance;, score=0.924 total time=  54.3s\n",
      "[CV 2/3] END ..n_neighbors=24, weights=distance;, score=0.926 total time=  58.3s\n",
      "[CV 3/3] END ..n_neighbors=24, weights=distance;, score=0.931 total time=  58.3s\n",
      "[CV 1/3] END ..n_neighbors=30, weights=distance;, score=0.920 total time= 1.0min\n",
      "[CV 2/3] END ..n_neighbors=30, weights=distance;, score=0.923 total time=  56.1s\n",
      "[CV 3/3] END ..n_neighbors=30, weights=distance;, score=0.927 total time= 1.1min\n"
     ]
    },
    {
     "data": {
      "text/plain": [
       "GridSearchCV(cv=3, estimator=KNeighborsClassifier(),\n",
       "             param_grid={'n_neighbors': [12, 18, 24, 30],\n",
       "                         'weights': ['distance']},\n",
       "             scoring='accuracy', verbose=3)"
      ]
     },
     "execution_count": 36,
     "metadata": {},
     "output_type": "execute_result"
    }
   ],
   "source": [
    "gridsearch = GridSearchCV(knn, params, cv=3, verbose=3, scoring='accuracy')\n",
    "gridsearch.fit(X_train_scaled, y_train)"
   ]
  },
  {
   "cell_type": "code",
   "execution_count": 37,
   "id": "17e67687",
   "metadata": {},
   "outputs": [
    {
     "name": "stdout",
     "output_type": "stream",
     "text": [
      "Fitting 3 folds for each of 8 candidates, totalling 24 fits\n",
      "[CV 1/3] END ...n_neighbors=1, weights=distance;, score=0.935 total time=  42.9s\n",
      "[CV 2/3] END ...n_neighbors=1, weights=distance;, score=0.939 total time=  46.1s\n",
      "[CV 3/3] END ...n_neighbors=1, weights=distance;, score=0.941 total time=  48.3s\n",
      "[CV 1/3] END ...n_neighbors=2, weights=distance;, score=0.935 total time=  47.8s\n",
      "[CV 2/3] END ...n_neighbors=2, weights=distance;, score=0.939 total time=  47.5s\n",
      "[CV 3/3] END ...n_neighbors=2, weights=distance;, score=0.941 total time=  50.4s\n",
      "[CV 1/3] END ...n_neighbors=3, weights=distance;, score=0.940 total time=  52.9s\n",
      "[CV 2/3] END ...n_neighbors=3, weights=distance;, score=0.942 total time=  54.5s\n",
      "[CV 3/3] END ...n_neighbors=3, weights=distance;, score=0.943 total time=  49.2s\n",
      "[CV 1/3] END ...n_neighbors=4, weights=distance;, score=0.943 total time= 1.1min\n",
      "[CV 2/3] END ...n_neighbors=4, weights=distance;, score=0.944 total time= 1.0min\n",
      "[CV 3/3] END ...n_neighbors=4, weights=distance;, score=0.944 total time=  56.1s\n",
      "[CV 1/3] END ...n_neighbors=5, weights=distance;, score=0.940 total time=  54.5s\n",
      "[CV 2/3] END ...n_neighbors=5, weights=distance;, score=0.943 total time=  57.7s\n",
      "[CV 3/3] END ...n_neighbors=5, weights=distance;, score=0.944 total time=  57.6s\n",
      "[CV 1/3] END ...n_neighbors=6, weights=distance;, score=0.941 total time= 1.0min\n",
      "[CV 2/3] END ...n_neighbors=6, weights=distance;, score=0.943 total time= 1.1min\n",
      "[CV 3/3] END ...n_neighbors=6, weights=distance;, score=0.944 total time= 1.1min\n",
      "[CV 1/3] END ...n_neighbors=7, weights=distance;, score=0.937 total time= 1.1min\n",
      "[CV 2/3] END ...n_neighbors=7, weights=distance;, score=0.941 total time= 1.1min\n",
      "[CV 3/3] END ...n_neighbors=7, weights=distance;, score=0.943 total time= 1.1min\n",
      "[CV 1/3] END ...n_neighbors=8, weights=distance;, score=0.937 total time= 1.0min\n",
      "[CV 2/3] END ...n_neighbors=8, weights=distance;, score=0.941 total time= 1.1min\n",
      "[CV 3/3] END ...n_neighbors=8, weights=distance;, score=0.943 total time= 1.0min\n"
     ]
    },
    {
     "data": {
      "text/plain": [
       "GridSearchCV(cv=3, estimator=KNeighborsClassifier(),\n",
       "             param_grid={'n_neighbors': [1, 2, 3, 4, 5, 6, 7, 8],\n",
       "                         'weights': ['distance']},\n",
       "             scoring='accuracy', verbose=3)"
      ]
     },
     "execution_count": 37,
     "metadata": {},
     "output_type": "execute_result"
    }
   ],
   "source": [
    "params = {'weights':['distance'], 'n_neighbors': [1,2,3,4,5,6,7,8]}\n",
    "gridsearch = GridSearchCV(knn, params, cv=3, verbose=3, scoring='accuracy')\n",
    "gridsearch.fit(X_train_scaled, y_train)"
   ]
  },
  {
   "cell_type": "code",
   "execution_count": 38,
   "id": "40f58de7",
   "metadata": {},
   "outputs": [
    {
     "data": {
      "text/plain": [
       "KNeighborsClassifier(n_neighbors=4, weights='distance')"
      ]
     },
     "execution_count": 38,
     "metadata": {},
     "output_type": "execute_result"
    }
   ],
   "source": [
    "gridsearch.best_estimator_"
   ]
  },
  {
   "cell_type": "code",
   "execution_count": 39,
   "id": "09d7548c",
   "metadata": {},
   "outputs": [
    {
     "data": {
      "text/plain": [
       "0.9474"
      ]
     },
     "execution_count": 39,
     "metadata": {},
     "output_type": "execute_result"
    }
   ],
   "source": [
    "gridsearch.score(X_test_scaled, y_test) #Best score (for now)"
   ]
  },
  {
   "cell_type": "code",
   "execution_count": 40,
   "id": "bfd825ab",
   "metadata": {},
   "outputs": [],
   "source": [
    "predict = gridsearch.predict(X_test_scaled)"
   ]
  },
  {
   "cell_type": "code",
   "execution_count": 41,
   "id": "acba4db6",
   "metadata": {},
   "outputs": [
    {
     "data": {
      "text/plain": [
       "array(['7', '2', '1', ..., '4', '5', '6'], dtype=object)"
      ]
     },
     "execution_count": 41,
     "metadata": {},
     "output_type": "execute_result"
    }
   ],
   "source": [
    "predict"
   ]
  },
  {
   "cell_type": "code",
   "execution_count": 42,
   "id": "8399d54b",
   "metadata": {},
   "outputs": [
    {
     "data": {
      "text/plain": [
       "10000"
      ]
     },
     "execution_count": 42,
     "metadata": {},
     "output_type": "execute_result"
    }
   ],
   "source": [
    "len(predict)"
   ]
  },
  {
   "cell_type": "code",
   "execution_count": 43,
   "id": "fc7c16ac",
   "metadata": {},
   "outputs": [],
   "source": [
    "test = (predict == y_test)"
   ]
  },
  {
   "cell_type": "code",
   "execution_count": 45,
   "id": "db2ef6c1",
   "metadata": {},
   "outputs": [
    {
     "data": {
      "text/plain": [
       "9474"
      ]
     },
     "execution_count": 45,
     "metadata": {},
     "output_type": "execute_result"
    }
   ],
   "source": [
    "sum(test)"
   ]
  },
  {
   "cell_type": "code",
   "execution_count": 46,
   "id": "c2857d03",
   "metadata": {},
   "outputs": [
    {
     "data": {
      "text/plain": [
       "KNeighborsClassifier(n_neighbors=4, weights='distance')"
      ]
     },
     "execution_count": 46,
     "metadata": {},
     "output_type": "execute_result"
    }
   ],
   "source": [
    "gridsearch.best_estimator_"
   ]
  },
  {
   "cell_type": "code",
   "execution_count": 47,
   "id": "76922b73",
   "metadata": {},
   "outputs": [
    {
     "name": "stdout",
     "output_type": "stream",
     "text": [
      "Fitting 3 folds for each of 3 candidates, totalling 9 fits\n",
      "[CV 1/3] END ..n_neighbors=30, weights=distance;, score=0.920 total time=  44.7s\n",
      "[CV 2/3] END ..n_neighbors=30, weights=distance;, score=0.923 total time=  43.7s\n",
      "[CV 3/3] END ..n_neighbors=30, weights=distance;, score=0.927 total time=  44.4s\n",
      "[CV 1/3] END ..n_neighbors=50, weights=distance;, score=0.911 total time=  47.0s\n",
      "[CV 2/3] END ..n_neighbors=50, weights=distance;, score=0.914 total time=  46.5s\n",
      "[CV 3/3] END ..n_neighbors=50, weights=distance;, score=0.918 total time=  48.1s\n",
      "[CV 1/3] END .n_neighbors=100, weights=distance;, score=0.897 total time=  54.1s\n",
      "[CV 2/3] END .n_neighbors=100, weights=distance;, score=0.899 total time=  53.2s\n",
      "[CV 3/3] END .n_neighbors=100, weights=distance;, score=0.905 total time=  53.9s\n"
     ]
    },
    {
     "data": {
      "text/plain": [
       "GridSearchCV(cv=3, estimator=KNeighborsClassifier(),\n",
       "             param_grid={'n_neighbors': [30, 50, 100], 'weights': ['distance']},\n",
       "             scoring='accuracy', verbose=3)"
      ]
     },
     "execution_count": 47,
     "metadata": {},
     "output_type": "execute_result"
    }
   ],
   "source": [
    "params = {'weights':['distance'], 'n_neighbors': [30,50,100]}\n",
    "gridsearch = GridSearchCV(knn, params, cv=3, verbose=3, scoring='accuracy')\n",
    "gridsearch.fit(X_train_scaled, y_train)"
   ]
  },
  {
   "cell_type": "code",
   "execution_count": 50,
   "id": "e9aa4de9",
   "metadata": {},
   "outputs": [],
   "source": [
    "from sklearn.metrics import confusion_matrix\n",
    "conf_mx = confusion_matrix(y_test, predict)"
   ]
  },
  {
   "cell_type": "code",
   "execution_count": 51,
   "id": "45236cb3",
   "metadata": {},
   "outputs": [
    {
     "data": {
      "image/png": "[encoded data removed]",
      "text/plain": [
       "<Figure size 288x288 with 1 Axes>"
      ]
     },
     "metadata": {
      "needs_background": "light"
     },
     "output_type": "display_data"
    }
   ],
   "source": [
    "plt.matshow(conf_mx, cmap=plt.cm.gray)\n",
    "plt.show()"
   ]
  },
  {
   "cell_type": "code",
   "execution_count": 52,
   "id": "39e1e3ca",
   "metadata": {},
   "outputs": [],
   "source": [
    "row_sums = conf_mx.sum(axis=1, keepdims=True)\n",
    "norm_conf_mx = conf_mx / row_sums"
   ]
  },
  {
   "cell_type": "code",
   "execution_count": 53,
   "id": "1d8324d3",
   "metadata": {},
   "outputs": [
    {
     "data": {
      "image/png": "[encoded data removed]",
      "text/plain": [
       "<Figure size 288x288 with 1 Axes>"
      ]
     },
     "metadata": {
      "needs_background": "light"
     },
     "output_type": "display_data"
    }
   ],
   "source": [
    "np.fill_diagonal(norm_conf_mx, 0)\n",
    "plt.matshow(norm_conf_mx, cmap=plt.cm.gray)\n",
    "plt.show()"
   ]
  },
  {
   "cell_type": "code",
   "execution_count": null,
   "id": "1a390600",
   "metadata": {},
   "outputs": [
    {
     "name": "stdout",
     "output_type": "stream",
     "text": [
      "Fitting 3 folds for each of 6 candidates, totalling 18 fits\n",
      "[CV 1/3] END n_neighbors=3, p=1, weights=distance;, score=0.956 total time= 8.8min\n",
      "[CV 2/3] END n_neighbors=3, p=1, weights=distance;, score=0.956 total time= 8.6min\n",
      "[CV 3/3] END n_neighbors=3, p=1, weights=distance;, score=0.958 total time= 8.4min\n"
     ]
    }
   ],
   "source": [
    "params = {'weights':['distance'], 'n_neighbors': [3,4,5], 'p': [1,3]}\n",
    "gridsearch = GridSearchCV(knn, params, cv=3, verbose=3, scoring='accuracy')\n",
    "gridsearch.fit(X_train_scaled, y_train)"
   ]
  },
  {
   "cell_type": "code",
   "execution_count": 7,
   "id": "31922e85",
   "metadata": {
    "scrolled": true
   },
   "outputs": [
    {
     "name": "stdout",
     "output_type": "stream",
     "text": [
      "Fitting 2 folds for each of 3 candidates, totalling 6 fits\n",
      "[CV 1/2] END .n_neighbors=128, weights=distance;, score=0.884 total time= 1.1min\n",
      "[CV 2/2] END .n_neighbors=128, weights=distance;, score=0.889 total time=  58.5s\n",
      "[CV 1/2] END .n_neighbors=256, weights=distance;, score=0.857 total time=  58.8s\n",
      "[CV 2/2] END .n_neighbors=256, weights=distance;, score=0.865 total time= 1.1min\n",
      "[CV 1/2] END .n_neighbors=512, weights=distance;, score=0.817 total time= 1.2min\n",
      "[CV 2/2] END .n_neighbors=512, weights=distance;, score=0.828 total time=  59.0s\n"
     ]
    },
    {
     "data": {
      "text/plain": [
       "GridSearchCV(cv=2, estimator=KNeighborsClassifier(),\n",
       "             param_grid={'n_neighbors': [128, 256, 512],\n",
       "                         'weights': ['distance']},\n",
       "             scoring='accuracy', verbose=3)"
      ]
     },
     "execution_count": 7,
     "metadata": {},
     "output_type": "execute_result"
    }
   ],
   "source": [
    "params = {'weights':['distance'], 'n_neighbors':[128, 256, 512]}\n",
    "gridsearch = GridSearchCV(knn, params, cv=2, verbose=3, scoring='accuracy')\n",
    "gridsearch.fit(X_train_scaled, y_train)"
   ]
  },
  {
   "cell_type": "code",
   "execution_count": null,
   "id": "719a9320",
   "metadata": {},
   "outputs": [
    {
     "name": "stdout",
     "output_type": "stream",
     "text": [
      "Fitting 2 folds for each of 3 candidates, totalling 6 fits\n",
      "[CV 1/2] END algorithm=brute, n_neighbors=4, p=1, weights=distance;, score=0.954 total time=14.5min\n",
      "[CV 2/2] END algorithm=brute, n_neighbors=4, p=1, weights=distance;, score=0.956 total time= 9.6min\n",
      "[CV 1/2] END algorithm=brute, n_neighbors=4, p=2, weights=distance;, score=0.939 total time=  47.7s\n",
      "[CV 2/2] END algorithm=brute, n_neighbors=4, p=2, weights=distance;, score=0.939 total time=  47.0s\n"
     ]
    }
   ],
   "source": [
    "params = {'weights':['distance'], 'n_neighbors':[4], 'algorithm':['brute'], 'p':[1,2,3]}\n",
    "gridsearch = GridSearchCV(knn, params, cv=2, verbose=3, scoring='accuracy')\n",
    "gridsearch.fit(X_train_scaled, y_train)"
   ]
  },
  {
   "cell_type": "markdown",
   "id": "b31e1c95",
   "metadata": {},
   "source": [
    "# Exercise 2"
   ]
  },
  {
   "cell_type": "code",
   "execution_count": 5,
   "id": "8ade8765",
   "metadata": {},
   "outputs": [],
   "source": [
    "from scipy.ndimage.interpolation import shift\n",
    "\n",
    "def shift_and_print_digit(index, ypixls, xpixls): #y positive: shifts down, x positive: shifts right\n",
    "    digit_array = np.array(X_train.loc[index])\n",
    "    digit_im = digit_array.reshape(28,28)\n",
    "    digit_im_shift = shift(digit_im, [ypixls,xpixls], cval=0)\n",
    "    plt.imshow(digit_im, cmap=\"binary\")\n",
    "    plt.axis(\"off\")\n",
    "    plt.show()\n",
    "    plt.imshow(digit_im_shift, cmap=\"binary\")\n",
    "    plt.axis(\"off\")\n",
    "    plt.show()\n",
    "    \n"
   ]
  },
  {
   "cell_type": "code",
   "execution_count": 6,
   "id": "18d10b83",
   "metadata": {},
   "outputs": [],
   "source": [
    "def shift_and_reshapeback(digit, ypixls, xpixls): #returns back the shifted 1-d (1x784) mnist image\n",
    "    digit_im = digit.reshape(28,28)\n",
    "    digit_im_shift = shift(digit_im, [ypixls,xpixls], cval=0)\n",
    "    return digit_im_shift.reshape(1,784)\n"
   ]
  },
  {
   "cell_type": "code",
   "execution_count": 42,
   "id": "65d0968c",
   "metadata": {},
   "outputs": [],
   "source": [
    "#Example of np.vstack\n",
    "\n",
    "A = np.array([[1,2,3],[4,5,6]])"
   ]
  },
  {
   "cell_type": "code",
   "execution_count": 46,
   "id": "5b41d780",
   "metadata": {},
   "outputs": [],
   "source": [
    "B = np.array([7,8,9])\n",
    "C = np.vstack((A,B))"
   ]
  },
  {
   "cell_type": "code",
   "execution_count": 47,
   "id": "d9583954",
   "metadata": {},
   "outputs": [
    {
     "data": {
      "text/plain": [
       "array([[1, 2, 3],\n",
       "       [4, 5, 6],\n",
       "       [7, 8, 9]])"
      ]
     },
     "execution_count": 47,
     "metadata": {},
     "output_type": "execute_result"
    }
   ],
   "source": [
    "C"
   ]
  },
  {
   "cell_type": "code",
   "execution_count": 7,
   "id": "7bdfff84",
   "metadata": {},
   "outputs": [],
   "source": [
    "X_train_arr = np.array(X_train)\n",
    "X_train_shifted_r = np.copy(X_train_arr)\n",
    "X_train_shifted_l = np.copy(X_train_arr)\n",
    "X_train_shifted_u = np.copy(X_train_arr)\n",
    "X_train_shifted_d = np.copy(X_train_arr)"
   ]
  },
  {
   "cell_type": "code",
   "execution_count": 8,
   "id": "dccc6664",
   "metadata": {},
   "outputs": [],
   "source": [
    "for i in range(len(X_train_arr)):\n",
    "    X_train_shifted_r[i] = shift_and_reshapeback(X_train_arr[i], 0, 1)\n",
    "    X_train_shifted_l[i] = shift_and_reshapeback(X_train_arr[i], 0, -1)\n",
    "    X_train_shifted_d[i] = shift_and_reshapeback(X_train_arr[i], 1, 0)\n",
    "    X_train_shifted_u[i] = shift_and_reshapeback(X_train_arr[i], -1, 0)   \n",
    "    "
   ]
  },
  {
   "cell_type": "code",
   "execution_count": 9,
   "id": "e7a70cf7",
   "metadata": {},
   "outputs": [
    {
     "data": {
      "image/png": "[encoded data removed]",
      "text/plain": [
       "<Figure size 720x720 with 3 Axes>"
      ]
     },
     "metadata": {
      "needs_background": "light"
     },
     "output_type": "display_data"
    }
   ],
   "source": [
    "f, ax = plt.subplots(3,1, figsize=(10,10))\n",
    "ax[0].imshow(X_train_arr[17].reshape(28,28), cmap='binary')\n",
    "ax[1].imshow(X_train_shifted_d[17].reshape(28,28), cmap='binary')\n",
    "ax[2].imshow(X_train_shifted_u[17].reshape(28,28), cmap='binary')\n",
    "ax[0].grid()\n",
    "ax[1].grid()\n",
    "ax[2].grid()\n",
    "# plt.imshow(X_train_arr[27].reshape(28,28), cmap='binary')\n",
    "# plt.grid()\n",
    "# plt.show()"
   ]
  },
  {
   "cell_type": "code",
   "execution_count": 10,
   "id": "ec2e2c9e",
   "metadata": {},
   "outputs": [],
   "source": [
    "X_train_shifted = np.vstack((X_train_arr, X_train_shifted_r, X_train_shifted_l, X_train_shifted_u, X_train_shifted_d))"
   ]
  },
  {
   "cell_type": "code",
   "execution_count": 11,
   "id": "c4aa714c",
   "metadata": {},
   "outputs": [],
   "source": [
    "y_train_arr = np.array(y_train)\n",
    "y_train_shifted = np.hstack((y_train_arr, y_train_arr, y_train_arr, y_train_arr, y_train_arr))"
   ]
  },
  {
   "cell_type": "code",
   "execution_count": 12,
   "id": "e9c466a2",
   "metadata": {},
   "outputs": [
    {
     "data": {
      "text/plain": [
       "300000"
      ]
     },
     "execution_count": 12,
     "metadata": {},
     "output_type": "execute_result"
    }
   ],
   "source": [
    "len(y_train_shifted)"
   ]
  },
  {
   "cell_type": "code",
   "execution_count": 13,
   "id": "3e178aeb",
   "metadata": {},
   "outputs": [
    {
     "data": {
      "text/plain": [
       "300000"
      ]
     },
     "execution_count": 13,
     "metadata": {},
     "output_type": "execute_result"
    }
   ],
   "source": [
    "len(X_train_shifted)"
   ]
  },
  {
   "cell_type": "code",
   "execution_count": 20,
   "id": "6739f9e4",
   "metadata": {},
   "outputs": [],
   "source": [
    "knn = KNeighborsClassifier(n_neighbors=4, weights='distance')"
   ]
  },
  {
   "cell_type": "code",
   "execution_count": 169,
   "id": "125ad9b8",
   "metadata": {},
   "outputs": [],
   "source": [
    "#scaler = StandardScaler()\n",
    "\n",
    "#X_train_shifted_scaled = scaler.fit_transform(X_train_shifted.astype(np.float64))"
   ]
  },
  {
   "cell_type": "code",
   "execution_count": 7,
   "id": "9507c07c",
   "metadata": {},
   "outputs": [
    {
     "name": "stdout",
     "output_type": "stream",
     "text": [
      "Fitting 2 folds for each of 1 candidates, totalling 2 fits\n",
      "[CV 1/2] END ...n_neighbors=4, weights=distance;, score=0.968 total time=  55.2s\n",
      "[CV 2/2] END ...n_neighbors=4, weights=distance;, score=0.966 total time=  58.8s\n"
     ]
    },
    {
     "data": {
      "text/plain": [
       "GridSearchCV(cv=2,\n",
       "             estimator=KNeighborsClassifier(n_neighbors=4, weights='distance'),\n",
       "             param_grid={'n_neighbors': [4], 'weights': ['distance']},\n",
       "             scoring='accuracy', verbose=3)"
      ]
     },
     "execution_count": 7,
     "metadata": {},
     "output_type": "execute_result"
    }
   ],
   "source": [
    "#Testing the best model on the non-scaled, original training set\n",
    "params = {'weights':['distance'], 'n_neighbors': [4]}\n",
    "gridsearch = GridSearchCV(knn, params, cv=2, verbose=3, scoring='accuracy')\n",
    "gridsearch.fit(X_train, y_train)"
   ]
  },
  {
   "cell_type": "code",
   "execution_count": 8,
   "id": "8f9da977",
   "metadata": {},
   "outputs": [
    {
     "data": {
      "text/plain": [
       "0.9714"
      ]
     },
     "execution_count": 8,
     "metadata": {},
     "output_type": "execute_result"
    }
   ],
   "source": [
    "from sklearn.metrics import accuracy_score\n",
    "\n",
    "y_pred = gridsearch.predict(X_test)\n",
    "accuracy_score(y_test, y_pred)"
   ]
  },
  {
   "cell_type": "code",
   "execution_count": 21,
   "id": "d91b0b5c",
   "metadata": {},
   "outputs": [
    {
     "data": {
      "text/plain": [
       "KNeighborsClassifier(n_neighbors=4, weights='distance')"
      ]
     },
     "execution_count": 21,
     "metadata": {},
     "output_type": "execute_result"
    }
   ],
   "source": [
    "knn.fit(X_train_shifted, y_train_shifted)"
   ]
  },
  {
   "cell_type": "code",
   "execution_count": 22,
   "id": "6de9bb00",
   "metadata": {},
   "outputs": [],
   "source": [
    "y_pred = knn.predict(X_test)"
   ]
  },
  {
   "cell_type": "code",
   "execution_count": 23,
   "id": "f206d1fc",
   "metadata": {},
   "outputs": [
    {
     "data": {
      "text/plain": [
       "0.9763"
      ]
     },
     "execution_count": 23,
     "metadata": {},
     "output_type": "execute_result"
    }
   ],
   "source": [
    "accuracy_score(y_test, y_pred)"
   ]
  },
  {
   "cell_type": "code",
   "execution_count": 15,
   "id": "8a1e5a47",
   "metadata": {},
   "outputs": [],
   "source": [
    "#Trying a different distance measure\n",
    "knn = KNeighborsClassifier(n_neighbors=4, weights='distance', p=1)"
   ]
  },
  {
   "cell_type": "code",
   "execution_count": 16,
   "id": "4019e819",
   "metadata": {},
   "outputs": [
    {
     "data": {
      "text/plain": [
       "KNeighborsClassifier(n_neighbors=4, p=1, weights='distance')"
      ]
     },
     "execution_count": 16,
     "metadata": {},
     "output_type": "execute_result"
    }
   ],
   "source": [
    "knn.fit(X_train_shifted, y_train_shifted)"
   ]
  },
  {
   "cell_type": "code",
   "execution_count": 17,
   "id": "01dc45dc",
   "metadata": {},
   "outputs": [],
   "source": [
    "y_pred = knn.predict(X_test)"
   ]
  },
  {
   "cell_type": "code",
   "execution_count": 19,
   "id": "ad43d8fa",
   "metadata": {},
   "outputs": [
    {
     "data": {
      "text/plain": [
       "0.9702"
      ]
     },
     "execution_count": 19,
     "metadata": {},
     "output_type": "execute_result"
    }
   ],
   "source": [
    "from sklearn.metrics import accuracy_score\n",
    "accuracy_score(y_test, y_pred)"
   ]
  },
  {
   "cell_type": "code",
   "execution_count": null,
   "id": "e316dc25",
   "metadata": {},
   "outputs": [],
   "source": []
  }
 ],
 "metadata": {
  "kernelspec": {
   "display_name": "Python 3",
   "language": "python",
   "name": "python3"
  },
  "language_info": {
   "codemirror_mode": {
    "name": "ipython",
    "version": 3
   },
   "file_extension": ".py",
   "mimetype": "text/x-python",
   "name": "python",
   "nbconvert_exporter": "python",
   "pygments_lexer": "ipython3",
   "version": "3.6.9"
  }
 },
 "nbformat": 4,
 "nbformat_minor": 5
}
