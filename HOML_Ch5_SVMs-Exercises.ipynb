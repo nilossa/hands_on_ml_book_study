{
 "cells": [
  {
   "cell_type": "markdown",
   "id": "18e64b22",
   "metadata": {},
   "source": [
    "# Exercises"
   ]
  },
  {
   "cell_type": "markdown",
   "id": "b7e2c381",
   "metadata": {},
   "source": [
    "#### 1. What is the fundamental idea behind Support Vector Machines? \n",
    "\n",
    "A SVM classifier is, in the most basic terms, a method to separate classes of instances by establishing the widest possible margin between classes, assuming those lie close together in the feature space. In the case of a 2-d problem (2 features), that would mean fiding the largest straight \"strip\" or \"street\" that separate the classes. In the regression case the objective is the opposite: it is to find the margin that encompasses the most instances. In both cases it is desirable to limit the margin violations.\n",
    "\n",
    "#### 2. What is a support vector?  \n",
    "\n",
    "Support Vectors are instances that lie in the limit of the margin, which essentially defines the width of the margin.\n",
    "\n",
    "#### 3. Why is it important to scale the inputs when using SVMs?\n",
    "\n",
    "If the scales of the features are too discrepant, the separation of the classes in the feature space might be problematic...\n",
    "\n",
    "#### 4. Can an SVM classifier output a confidence score when it classifies an instance? What about a probability? \n",
    "\n",
    "Although, in the case of Soft Margin classifications, during training you may accept some margin violations, the amount of which are determined by the slack variable, in the end all predictions are made based on the decision function alone, which in the 2-D case it is a straight line. Therefore the classification is binary (which side of the decision function the instance lies) and does not involve any probability estimation.\n",
    "\n",
    "#### Book answer: An SVM classifier can output the distance between the test instance and the decision boundary, and you can use this as a confidence score. However, this score cannot be directly converted into an estimation of the class probability. If you set probability=True when creating an SVM in Scikit-Learn, then after training it will calibrate the probabilities using Logistic Regression on the SVM’s scores (trained by an additional five-fold cross-validation on the training data). This will add the predict_proba() and predict_log_proba() methods to the SVM.\n",
    "\n",
    "#### 5. Should you use the primal or the dual form of the SVM problem to train a model on a training set with millions of instances and hundreds of features?\n",
    "\n",
    "When the number of instances is way larger than the number of features, it is faster to solve the primal problem. This is due to the fact that, when defining the Lagrangian of the problem, the solutions are given by finding m Lagrange multipliers, m being the number of instances. The scikit-learn's SVC class scales with O(m²xn) to O(m³xn).\n",
    "\n",
    "#### 6. Say you’ve trained an SVM classifier with an RBF kernel, but it seems to underfit the training set. Should you increase or decrease γ ( gamma )? What about C ?\n",
    "\n",
    "Gamma and C must be increased to obtain less regularization (more variance). When using Gauss-RBF, gamma is proportional to 1/(sigma²), where sgima is the width of the gaussian kernel. Therefore increasing it is making sigma small, making the borders have more \"wrinkles\" and be less smooth. On the other hand incresing C forces the slack variables be smaller, and accepting less margin violations, forcing the model to overfit.\n",
    "\n",
    "#### 7. How should you set the QP parameters (H, f, A, and b) to solve the soft margin linear SVM classifier problem using an off-the-shelf QP solver?\n"
   ]
  },
  {
   "cell_type": "code",
   "execution_count": 1,
   "id": "e69f01f1",
   "metadata": {},
   "outputs": [],
   "source": [
    "import numpy as np\n",
    "import pandas as pd\n",
    "from sklearn import datasets\n",
    "\n",
    "import matplotlib as mpl\n",
    "import matplotlib.pyplot as plt"
   ]
  },
  {
   "cell_type": "code",
   "execution_count": 2,
   "id": "eec9bce6",
   "metadata": {
    "collapsed": true
   },
   "outputs": [
    {
     "data": {
      "text/plain": [
       "{'data': array([[5.1, 3.5, 1.4, 0.2],\n",
       "        [4.9, 3. , 1.4, 0.2],\n",
       "        [4.7, 3.2, 1.3, 0.2],\n",
       "        [4.6, 3.1, 1.5, 0.2],\n",
       "        [5. , 3.6, 1.4, 0.2],\n",
       "        [5.4, 3.9, 1.7, 0.4],\n",
       "        [4.6, 3.4, 1.4, 0.3],\n",
       "        [5. , 3.4, 1.5, 0.2],\n",
       "        [4.4, 2.9, 1.4, 0.2],\n",
       "        [4.9, 3.1, 1.5, 0.1],\n",
       "        [5.4, 3.7, 1.5, 0.2],\n",
       "        [4.8, 3.4, 1.6, 0.2],\n",
       "        [4.8, 3. , 1.4, 0.1],\n",
       "        [4.3, 3. , 1.1, 0.1],\n",
       "        [5.8, 4. , 1.2, 0.2],\n",
       "        [5.7, 4.4, 1.5, 0.4],\n",
       "        [5.4, 3.9, 1.3, 0.4],\n",
       "        [5.1, 3.5, 1.4, 0.3],\n",
       "        [5.7, 3.8, 1.7, 0.3],\n",
       "        [5.1, 3.8, 1.5, 0.3],\n",
       "        [5.4, 3.4, 1.7, 0.2],\n",
       "        [5.1, 3.7, 1.5, 0.4],\n",
       "        [4.6, 3.6, 1. , 0.2],\n",
       "        [5.1, 3.3, 1.7, 0.5],\n",
       "        [4.8, 3.4, 1.9, 0.2],\n",
       "        [5. , 3. , 1.6, 0.2],\n",
       "        [5. , 3.4, 1.6, 0.4],\n",
       "        [5.2, 3.5, 1.5, 0.2],\n",
       "        [5.2, 3.4, 1.4, 0.2],\n",
       "        [4.7, 3.2, 1.6, 0.2],\n",
       "        [4.8, 3.1, 1.6, 0.2],\n",
       "        [5.4, 3.4, 1.5, 0.4],\n",
       "        [5.2, 4.1, 1.5, 0.1],\n",
       "        [5.5, 4.2, 1.4, 0.2],\n",
       "        [4.9, 3.1, 1.5, 0.2],\n",
       "        [5. , 3.2, 1.2, 0.2],\n",
       "        [5.5, 3.5, 1.3, 0.2],\n",
       "        [4.9, 3.6, 1.4, 0.1],\n",
       "        [4.4, 3. , 1.3, 0.2],\n",
       "        [5.1, 3.4, 1.5, 0.2],\n",
       "        [5. , 3.5, 1.3, 0.3],\n",
       "        [4.5, 2.3, 1.3, 0.3],\n",
       "        [4.4, 3.2, 1.3, 0.2],\n",
       "        [5. , 3.5, 1.6, 0.6],\n",
       "        [5.1, 3.8, 1.9, 0.4],\n",
       "        [4.8, 3. , 1.4, 0.3],\n",
       "        [5.1, 3.8, 1.6, 0.2],\n",
       "        [4.6, 3.2, 1.4, 0.2],\n",
       "        [5.3, 3.7, 1.5, 0.2],\n",
       "        [5. , 3.3, 1.4, 0.2],\n",
       "        [7. , 3.2, 4.7, 1.4],\n",
       "        [6.4, 3.2, 4.5, 1.5],\n",
       "        [6.9, 3.1, 4.9, 1.5],\n",
       "        [5.5, 2.3, 4. , 1.3],\n",
       "        [6.5, 2.8, 4.6, 1.5],\n",
       "        [5.7, 2.8, 4.5, 1.3],\n",
       "        [6.3, 3.3, 4.7, 1.6],\n",
       "        [4.9, 2.4, 3.3, 1. ],\n",
       "        [6.6, 2.9, 4.6, 1.3],\n",
       "        [5.2, 2.7, 3.9, 1.4],\n",
       "        [5. , 2. , 3.5, 1. ],\n",
       "        [5.9, 3. , 4.2, 1.5],\n",
       "        [6. , 2.2, 4. , 1. ],\n",
       "        [6.1, 2.9, 4.7, 1.4],\n",
       "        [5.6, 2.9, 3.6, 1.3],\n",
       "        [6.7, 3.1, 4.4, 1.4],\n",
       "        [5.6, 3. , 4.5, 1.5],\n",
       "        [5.8, 2.7, 4.1, 1. ],\n",
       "        [6.2, 2.2, 4.5, 1.5],\n",
       "        [5.6, 2.5, 3.9, 1.1],\n",
       "        [5.9, 3.2, 4.8, 1.8],\n",
       "        [6.1, 2.8, 4. , 1.3],\n",
       "        [6.3, 2.5, 4.9, 1.5],\n",
       "        [6.1, 2.8, 4.7, 1.2],\n",
       "        [6.4, 2.9, 4.3, 1.3],\n",
       "        [6.6, 3. , 4.4, 1.4],\n",
       "        [6.8, 2.8, 4.8, 1.4],\n",
       "        [6.7, 3. , 5. , 1.7],\n",
       "        [6. , 2.9, 4.5, 1.5],\n",
       "        [5.7, 2.6, 3.5, 1. ],\n",
       "        [5.5, 2.4, 3.8, 1.1],\n",
       "        [5.5, 2.4, 3.7, 1. ],\n",
       "        [5.8, 2.7, 3.9, 1.2],\n",
       "        [6. , 2.7, 5.1, 1.6],\n",
       "        [5.4, 3. , 4.5, 1.5],\n",
       "        [6. , 3.4, 4.5, 1.6],\n",
       "        [6.7, 3.1, 4.7, 1.5],\n",
       "        [6.3, 2.3, 4.4, 1.3],\n",
       "        [5.6, 3. , 4.1, 1.3],\n",
       "        [5.5, 2.5, 4. , 1.3],\n",
       "        [5.5, 2.6, 4.4, 1.2],\n",
       "        [6.1, 3. , 4.6, 1.4],\n",
       "        [5.8, 2.6, 4. , 1.2],\n",
       "        [5. , 2.3, 3.3, 1. ],\n",
       "        [5.6, 2.7, 4.2, 1.3],\n",
       "        [5.7, 3. , 4.2, 1.2],\n",
       "        [5.7, 2.9, 4.2, 1.3],\n",
       "        [6.2, 2.9, 4.3, 1.3],\n",
       "        [5.1, 2.5, 3. , 1.1],\n",
       "        [5.7, 2.8, 4.1, 1.3],\n",
       "        [6.3, 3.3, 6. , 2.5],\n",
       "        [5.8, 2.7, 5.1, 1.9],\n",
       "        [7.1, 3. , 5.9, 2.1],\n",
       "        [6.3, 2.9, 5.6, 1.8],\n",
       "        [6.5, 3. , 5.8, 2.2],\n",
       "        [7.6, 3. , 6.6, 2.1],\n",
       "        [4.9, 2.5, 4.5, 1.7],\n",
       "        [7.3, 2.9, 6.3, 1.8],\n",
       "        [6.7, 2.5, 5.8, 1.8],\n",
       "        [7.2, 3.6, 6.1, 2.5],\n",
       "        [6.5, 3.2, 5.1, 2. ],\n",
       "        [6.4, 2.7, 5.3, 1.9],\n",
       "        [6.8, 3. , 5.5, 2.1],\n",
       "        [5.7, 2.5, 5. , 2. ],\n",
       "        [5.8, 2.8, 5.1, 2.4],\n",
       "        [6.4, 3.2, 5.3, 2.3],\n",
       "        [6.5, 3. , 5.5, 1.8],\n",
       "        [7.7, 3.8, 6.7, 2.2],\n",
       "        [7.7, 2.6, 6.9, 2.3],\n",
       "        [6. , 2.2, 5. , 1.5],\n",
       "        [6.9, 3.2, 5.7, 2.3],\n",
       "        [5.6, 2.8, 4.9, 2. ],\n",
       "        [7.7, 2.8, 6.7, 2. ],\n",
       "        [6.3, 2.7, 4.9, 1.8],\n",
       "        [6.7, 3.3, 5.7, 2.1],\n",
       "        [7.2, 3.2, 6. , 1.8],\n",
       "        [6.2, 2.8, 4.8, 1.8],\n",
       "        [6.1, 3. , 4.9, 1.8],\n",
       "        [6.4, 2.8, 5.6, 2.1],\n",
       "        [7.2, 3. , 5.8, 1.6],\n",
       "        [7.4, 2.8, 6.1, 1.9],\n",
       "        [7.9, 3.8, 6.4, 2. ],\n",
       "        [6.4, 2.8, 5.6, 2.2],\n",
       "        [6.3, 2.8, 5.1, 1.5],\n",
       "        [6.1, 2.6, 5.6, 1.4],\n",
       "        [7.7, 3. , 6.1, 2.3],\n",
       "        [6.3, 3.4, 5.6, 2.4],\n",
       "        [6.4, 3.1, 5.5, 1.8],\n",
       "        [6. , 3. , 4.8, 1.8],\n",
       "        [6.9, 3.1, 5.4, 2.1],\n",
       "        [6.7, 3.1, 5.6, 2.4],\n",
       "        [6.9, 3.1, 5.1, 2.3],\n",
       "        [5.8, 2.7, 5.1, 1.9],\n",
       "        [6.8, 3.2, 5.9, 2.3],\n",
       "        [6.7, 3.3, 5.7, 2.5],\n",
       "        [6.7, 3. , 5.2, 2.3],\n",
       "        [6.3, 2.5, 5. , 1.9],\n",
       "        [6.5, 3. , 5.2, 2. ],\n",
       "        [6.2, 3.4, 5.4, 2.3],\n",
       "        [5.9, 3. , 5.1, 1.8]]),\n",
       " 'target': array([0, 0, 0, 0, 0, 0, 0, 0, 0, 0, 0, 0, 0, 0, 0, 0, 0, 0, 0, 0, 0, 0,\n",
       "        0, 0, 0, 0, 0, 0, 0, 0, 0, 0, 0, 0, 0, 0, 0, 0, 0, 0, 0, 0, 0, 0,\n",
       "        0, 0, 0, 0, 0, 0, 1, 1, 1, 1, 1, 1, 1, 1, 1, 1, 1, 1, 1, 1, 1, 1,\n",
       "        1, 1, 1, 1, 1, 1, 1, 1, 1, 1, 1, 1, 1, 1, 1, 1, 1, 1, 1, 1, 1, 1,\n",
       "        1, 1, 1, 1, 1, 1, 1, 1, 1, 1, 1, 1, 2, 2, 2, 2, 2, 2, 2, 2, 2, 2,\n",
       "        2, 2, 2, 2, 2, 2, 2, 2, 2, 2, 2, 2, 2, 2, 2, 2, 2, 2, 2, 2, 2, 2,\n",
       "        2, 2, 2, 2, 2, 2, 2, 2, 2, 2, 2, 2, 2, 2, 2, 2, 2, 2]),\n",
       " 'frame': None,\n",
       " 'target_names': array(['setosa', 'versicolor', 'virginica'], dtype='<U10'),\n",
       " 'DESCR': '.. _iris_dataset:\\n\\nIris plants dataset\\n--------------------\\n\\n**Data Set Characteristics:**\\n\\n    :Number of Instances: 150 (50 in each of three classes)\\n    :Number of Attributes: 4 numeric, predictive attributes and the class\\n    :Attribute Information:\\n        - sepal length in cm\\n        - sepal width in cm\\n        - petal length in cm\\n        - petal width in cm\\n        - class:\\n                - Iris-Setosa\\n                - Iris-Versicolour\\n                - Iris-Virginica\\n                \\n    :Summary Statistics:\\n\\n    ============== ==== ==== ======= ===== ====================\\n                    Min  Max   Mean    SD   Class Correlation\\n    ============== ==== ==== ======= ===== ====================\\n    sepal length:   4.3  7.9   5.84   0.83    0.7826\\n    sepal width:    2.0  4.4   3.05   0.43   -0.4194\\n    petal length:   1.0  6.9   3.76   1.76    0.9490  (high!)\\n    petal width:    0.1  2.5   1.20   0.76    0.9565  (high!)\\n    ============== ==== ==== ======= ===== ====================\\n\\n    :Missing Attribute Values: None\\n    :Class Distribution: 33.3% for each of 3 classes.\\n    :Creator: R.A. Fisher\\n    :Donor: Michael Marshall (MARSHALL%PLU@io.arc.nasa.gov)\\n    :Date: July, 1988\\n\\nThe famous Iris database, first used by Sir R.A. Fisher. The dataset is taken\\nfrom Fisher\\'s paper. Note that it\\'s the same as in R, but not as in the UCI\\nMachine Learning Repository, which has two wrong data points.\\n\\nThis is perhaps the best known database to be found in the\\npattern recognition literature.  Fisher\\'s paper is a classic in the field and\\nis referenced frequently to this day.  (See Duda & Hart, for example.)  The\\ndata set contains 3 classes of 50 instances each, where each class refers to a\\ntype of iris plant.  One class is linearly separable from the other 2; the\\nlatter are NOT linearly separable from each other.\\n\\n.. topic:: References\\n\\n   - Fisher, R.A. \"The use of multiple measurements in taxonomic problems\"\\n     Annual Eugenics, 7, Part II, 179-188 (1936); also in \"Contributions to\\n     Mathematical Statistics\" (John Wiley, NY, 1950).\\n   - Duda, R.O., & Hart, P.E. (1973) Pattern Classification and Scene Analysis.\\n     (Q327.D83) John Wiley & Sons.  ISBN 0-471-22361-1.  See page 218.\\n   - Dasarathy, B.V. (1980) \"Nosing Around the Neighborhood: A New System\\n     Structure and Classification Rule for Recognition in Partially Exposed\\n     Environments\".  IEEE Transactions on Pattern Analysis and Machine\\n     Intelligence, Vol. PAMI-2, No. 1, 67-71.\\n   - Gates, G.W. (1972) \"The Reduced Nearest Neighbor Rule\".  IEEE Transactions\\n     on Information Theory, May 1972, 431-433.\\n   - See also: 1988 MLC Proceedings, 54-64.  Cheeseman et al\"s AUTOCLASS II\\n     conceptual clustering system finds 3 classes in the data.\\n   - Many, many more ...',\n",
       " 'feature_names': ['sepal length (cm)',\n",
       "  'sepal width (cm)',\n",
       "  'petal length (cm)',\n",
       "  'petal width (cm)'],\n",
       " 'filename': '/home/nilose/Documents/Data-Science/ml/my_env/lib/python3.6/site-packages/sklearn/datasets/data/iris.csv'}"
      ]
     },
     "execution_count": 2,
     "metadata": {},
     "output_type": "execute_result"
    }
   ],
   "source": [
    "iris = datasets.load_iris()\n",
    "iris"
   ]
  },
  {
   "cell_type": "code",
   "execution_count": 3,
   "id": "298f3d5e",
   "metadata": {},
   "outputs": [
    {
     "data": {
      "text/plain": [
       "sklearn.utils.Bunch"
      ]
     },
     "execution_count": 3,
     "metadata": {},
     "output_type": "execute_result"
    }
   ],
   "source": [
    "type(iris)"
   ]
  },
  {
   "cell_type": "code",
   "execution_count": 4,
   "id": "f79a8261",
   "metadata": {
    "collapsed": true
   },
   "outputs": [
    {
     "data": {
      "text/plain": [
       "array([[5.1, 3.5, 1.4, 0.2],\n",
       "       [4.9, 3. , 1.4, 0.2],\n",
       "       [4.7, 3.2, 1.3, 0.2],\n",
       "       [4.6, 3.1, 1.5, 0.2],\n",
       "       [5. , 3.6, 1.4, 0.2],\n",
       "       [5.4, 3.9, 1.7, 0.4],\n",
       "       [4.6, 3.4, 1.4, 0.3],\n",
       "       [5. , 3.4, 1.5, 0.2],\n",
       "       [4.4, 2.9, 1.4, 0.2],\n",
       "       [4.9, 3.1, 1.5, 0.1],\n",
       "       [5.4, 3.7, 1.5, 0.2],\n",
       "       [4.8, 3.4, 1.6, 0.2],\n",
       "       [4.8, 3. , 1.4, 0.1],\n",
       "       [4.3, 3. , 1.1, 0.1],\n",
       "       [5.8, 4. , 1.2, 0.2],\n",
       "       [5.7, 4.4, 1.5, 0.4],\n",
       "       [5.4, 3.9, 1.3, 0.4],\n",
       "       [5.1, 3.5, 1.4, 0.3],\n",
       "       [5.7, 3.8, 1.7, 0.3],\n",
       "       [5.1, 3.8, 1.5, 0.3],\n",
       "       [5.4, 3.4, 1.7, 0.2],\n",
       "       [5.1, 3.7, 1.5, 0.4],\n",
       "       [4.6, 3.6, 1. , 0.2],\n",
       "       [5.1, 3.3, 1.7, 0.5],\n",
       "       [4.8, 3.4, 1.9, 0.2],\n",
       "       [5. , 3. , 1.6, 0.2],\n",
       "       [5. , 3.4, 1.6, 0.4],\n",
       "       [5.2, 3.5, 1.5, 0.2],\n",
       "       [5.2, 3.4, 1.4, 0.2],\n",
       "       [4.7, 3.2, 1.6, 0.2],\n",
       "       [4.8, 3.1, 1.6, 0.2],\n",
       "       [5.4, 3.4, 1.5, 0.4],\n",
       "       [5.2, 4.1, 1.5, 0.1],\n",
       "       [5.5, 4.2, 1.4, 0.2],\n",
       "       [4.9, 3.1, 1.5, 0.2],\n",
       "       [5. , 3.2, 1.2, 0.2],\n",
       "       [5.5, 3.5, 1.3, 0.2],\n",
       "       [4.9, 3.6, 1.4, 0.1],\n",
       "       [4.4, 3. , 1.3, 0.2],\n",
       "       [5.1, 3.4, 1.5, 0.2],\n",
       "       [5. , 3.5, 1.3, 0.3],\n",
       "       [4.5, 2.3, 1.3, 0.3],\n",
       "       [4.4, 3.2, 1.3, 0.2],\n",
       "       [5. , 3.5, 1.6, 0.6],\n",
       "       [5.1, 3.8, 1.9, 0.4],\n",
       "       [4.8, 3. , 1.4, 0.3],\n",
       "       [5.1, 3.8, 1.6, 0.2],\n",
       "       [4.6, 3.2, 1.4, 0.2],\n",
       "       [5.3, 3.7, 1.5, 0.2],\n",
       "       [5. , 3.3, 1.4, 0.2],\n",
       "       [7. , 3.2, 4.7, 1.4],\n",
       "       [6.4, 3.2, 4.5, 1.5],\n",
       "       [6.9, 3.1, 4.9, 1.5],\n",
       "       [5.5, 2.3, 4. , 1.3],\n",
       "       [6.5, 2.8, 4.6, 1.5],\n",
       "       [5.7, 2.8, 4.5, 1.3],\n",
       "       [6.3, 3.3, 4.7, 1.6],\n",
       "       [4.9, 2.4, 3.3, 1. ],\n",
       "       [6.6, 2.9, 4.6, 1.3],\n",
       "       [5.2, 2.7, 3.9, 1.4],\n",
       "       [5. , 2. , 3.5, 1. ],\n",
       "       [5.9, 3. , 4.2, 1.5],\n",
       "       [6. , 2.2, 4. , 1. ],\n",
       "       [6.1, 2.9, 4.7, 1.4],\n",
       "       [5.6, 2.9, 3.6, 1.3],\n",
       "       [6.7, 3.1, 4.4, 1.4],\n",
       "       [5.6, 3. , 4.5, 1.5],\n",
       "       [5.8, 2.7, 4.1, 1. ],\n",
       "       [6.2, 2.2, 4.5, 1.5],\n",
       "       [5.6, 2.5, 3.9, 1.1],\n",
       "       [5.9, 3.2, 4.8, 1.8],\n",
       "       [6.1, 2.8, 4. , 1.3],\n",
       "       [6.3, 2.5, 4.9, 1.5],\n",
       "       [6.1, 2.8, 4.7, 1.2],\n",
       "       [6.4, 2.9, 4.3, 1.3],\n",
       "       [6.6, 3. , 4.4, 1.4],\n",
       "       [6.8, 2.8, 4.8, 1.4],\n",
       "       [6.7, 3. , 5. , 1.7],\n",
       "       [6. , 2.9, 4.5, 1.5],\n",
       "       [5.7, 2.6, 3.5, 1. ],\n",
       "       [5.5, 2.4, 3.8, 1.1],\n",
       "       [5.5, 2.4, 3.7, 1. ],\n",
       "       [5.8, 2.7, 3.9, 1.2],\n",
       "       [6. , 2.7, 5.1, 1.6],\n",
       "       [5.4, 3. , 4.5, 1.5],\n",
       "       [6. , 3.4, 4.5, 1.6],\n",
       "       [6.7, 3.1, 4.7, 1.5],\n",
       "       [6.3, 2.3, 4.4, 1.3],\n",
       "       [5.6, 3. , 4.1, 1.3],\n",
       "       [5.5, 2.5, 4. , 1.3],\n",
       "       [5.5, 2.6, 4.4, 1.2],\n",
       "       [6.1, 3. , 4.6, 1.4],\n",
       "       [5.8, 2.6, 4. , 1.2],\n",
       "       [5. , 2.3, 3.3, 1. ],\n",
       "       [5.6, 2.7, 4.2, 1.3],\n",
       "       [5.7, 3. , 4.2, 1.2],\n",
       "       [5.7, 2.9, 4.2, 1.3],\n",
       "       [6.2, 2.9, 4.3, 1.3],\n",
       "       [5.1, 2.5, 3. , 1.1],\n",
       "       [5.7, 2.8, 4.1, 1.3],\n",
       "       [6.3, 3.3, 6. , 2.5],\n",
       "       [5.8, 2.7, 5.1, 1.9],\n",
       "       [7.1, 3. , 5.9, 2.1],\n",
       "       [6.3, 2.9, 5.6, 1.8],\n",
       "       [6.5, 3. , 5.8, 2.2],\n",
       "       [7.6, 3. , 6.6, 2.1],\n",
       "       [4.9, 2.5, 4.5, 1.7],\n",
       "       [7.3, 2.9, 6.3, 1.8],\n",
       "       [6.7, 2.5, 5.8, 1.8],\n",
       "       [7.2, 3.6, 6.1, 2.5],\n",
       "       [6.5, 3.2, 5.1, 2. ],\n",
       "       [6.4, 2.7, 5.3, 1.9],\n",
       "       [6.8, 3. , 5.5, 2.1],\n",
       "       [5.7, 2.5, 5. , 2. ],\n",
       "       [5.8, 2.8, 5.1, 2.4],\n",
       "       [6.4, 3.2, 5.3, 2.3],\n",
       "       [6.5, 3. , 5.5, 1.8],\n",
       "       [7.7, 3.8, 6.7, 2.2],\n",
       "       [7.7, 2.6, 6.9, 2.3],\n",
       "       [6. , 2.2, 5. , 1.5],\n",
       "       [6.9, 3.2, 5.7, 2.3],\n",
       "       [5.6, 2.8, 4.9, 2. ],\n",
       "       [7.7, 2.8, 6.7, 2. ],\n",
       "       [6.3, 2.7, 4.9, 1.8],\n",
       "       [6.7, 3.3, 5.7, 2.1],\n",
       "       [7.2, 3.2, 6. , 1.8],\n",
       "       [6.2, 2.8, 4.8, 1.8],\n",
       "       [6.1, 3. , 4.9, 1.8],\n",
       "       [6.4, 2.8, 5.6, 2.1],\n",
       "       [7.2, 3. , 5.8, 1.6],\n",
       "       [7.4, 2.8, 6.1, 1.9],\n",
       "       [7.9, 3.8, 6.4, 2. ],\n",
       "       [6.4, 2.8, 5.6, 2.2],\n",
       "       [6.3, 2.8, 5.1, 1.5],\n",
       "       [6.1, 2.6, 5.6, 1.4],\n",
       "       [7.7, 3. , 6.1, 2.3],\n",
       "       [6.3, 3.4, 5.6, 2.4],\n",
       "       [6.4, 3.1, 5.5, 1.8],\n",
       "       [6. , 3. , 4.8, 1.8],\n",
       "       [6.9, 3.1, 5.4, 2.1],\n",
       "       [6.7, 3.1, 5.6, 2.4],\n",
       "       [6.9, 3.1, 5.1, 2.3],\n",
       "       [5.8, 2.7, 5.1, 1.9],\n",
       "       [6.8, 3.2, 5.9, 2.3],\n",
       "       [6.7, 3.3, 5.7, 2.5],\n",
       "       [6.7, 3. , 5.2, 2.3],\n",
       "       [6.3, 2.5, 5. , 1.9],\n",
       "       [6.5, 3. , 5.2, 2. ],\n",
       "       [6.2, 3.4, 5.4, 2.3],\n",
       "       [5.9, 3. , 5.1, 1.8]])"
      ]
     },
     "execution_count": 4,
     "metadata": {},
     "output_type": "execute_result"
    }
   ],
   "source": [
    "iris['data']"
   ]
  },
  {
   "cell_type": "code",
   "execution_count": 5,
   "id": "6d68543f",
   "metadata": {},
   "outputs": [],
   "source": [
    "X = iris['data'][: ,(2,3)] # selects only petal length and width"
   ]
  },
  {
   "cell_type": "code",
   "execution_count": 6,
   "id": "ade0117c",
   "metadata": {
    "collapsed": true
   },
   "outputs": [
    {
     "data": {
      "text/plain": [
       "array([[1.4, 0.2],\n",
       "       [1.4, 0.2],\n",
       "       [1.3, 0.2],\n",
       "       [1.5, 0.2],\n",
       "       [1.4, 0.2],\n",
       "       [1.7, 0.4],\n",
       "       [1.4, 0.3],\n",
       "       [1.5, 0.2],\n",
       "       [1.4, 0.2],\n",
       "       [1.5, 0.1],\n",
       "       [1.5, 0.2],\n",
       "       [1.6, 0.2],\n",
       "       [1.4, 0.1],\n",
       "       [1.1, 0.1],\n",
       "       [1.2, 0.2],\n",
       "       [1.5, 0.4],\n",
       "       [1.3, 0.4],\n",
       "       [1.4, 0.3],\n",
       "       [1.7, 0.3],\n",
       "       [1.5, 0.3],\n",
       "       [1.7, 0.2],\n",
       "       [1.5, 0.4],\n",
       "       [1. , 0.2],\n",
       "       [1.7, 0.5],\n",
       "       [1.9, 0.2],\n",
       "       [1.6, 0.2],\n",
       "       [1.6, 0.4],\n",
       "       [1.5, 0.2],\n",
       "       [1.4, 0.2],\n",
       "       [1.6, 0.2],\n",
       "       [1.6, 0.2],\n",
       "       [1.5, 0.4],\n",
       "       [1.5, 0.1],\n",
       "       [1.4, 0.2],\n",
       "       [1.5, 0.2],\n",
       "       [1.2, 0.2],\n",
       "       [1.3, 0.2],\n",
       "       [1.4, 0.1],\n",
       "       [1.3, 0.2],\n",
       "       [1.5, 0.2],\n",
       "       [1.3, 0.3],\n",
       "       [1.3, 0.3],\n",
       "       [1.3, 0.2],\n",
       "       [1.6, 0.6],\n",
       "       [1.9, 0.4],\n",
       "       [1.4, 0.3],\n",
       "       [1.6, 0.2],\n",
       "       [1.4, 0.2],\n",
       "       [1.5, 0.2],\n",
       "       [1.4, 0.2],\n",
       "       [4.7, 1.4],\n",
       "       [4.5, 1.5],\n",
       "       [4.9, 1.5],\n",
       "       [4. , 1.3],\n",
       "       [4.6, 1.5],\n",
       "       [4.5, 1.3],\n",
       "       [4.7, 1.6],\n",
       "       [3.3, 1. ],\n",
       "       [4.6, 1.3],\n",
       "       [3.9, 1.4],\n",
       "       [3.5, 1. ],\n",
       "       [4.2, 1.5],\n",
       "       [4. , 1. ],\n",
       "       [4.7, 1.4],\n",
       "       [3.6, 1.3],\n",
       "       [4.4, 1.4],\n",
       "       [4.5, 1.5],\n",
       "       [4.1, 1. ],\n",
       "       [4.5, 1.5],\n",
       "       [3.9, 1.1],\n",
       "       [4.8, 1.8],\n",
       "       [4. , 1.3],\n",
       "       [4.9, 1.5],\n",
       "       [4.7, 1.2],\n",
       "       [4.3, 1.3],\n",
       "       [4.4, 1.4],\n",
       "       [4.8, 1.4],\n",
       "       [5. , 1.7],\n",
       "       [4.5, 1.5],\n",
       "       [3.5, 1. ],\n",
       "       [3.8, 1.1],\n",
       "       [3.7, 1. ],\n",
       "       [3.9, 1.2],\n",
       "       [5.1, 1.6],\n",
       "       [4.5, 1.5],\n",
       "       [4.5, 1.6],\n",
       "       [4.7, 1.5],\n",
       "       [4.4, 1.3],\n",
       "       [4.1, 1.3],\n",
       "       [4. , 1.3],\n",
       "       [4.4, 1.2],\n",
       "       [4.6, 1.4],\n",
       "       [4. , 1.2],\n",
       "       [3.3, 1. ],\n",
       "       [4.2, 1.3],\n",
       "       [4.2, 1.2],\n",
       "       [4.2, 1.3],\n",
       "       [4.3, 1.3],\n",
       "       [3. , 1.1],\n",
       "       [4.1, 1.3],\n",
       "       [6. , 2.5],\n",
       "       [5.1, 1.9],\n",
       "       [5.9, 2.1],\n",
       "       [5.6, 1.8],\n",
       "       [5.8, 2.2],\n",
       "       [6.6, 2.1],\n",
       "       [4.5, 1.7],\n",
       "       [6.3, 1.8],\n",
       "       [5.8, 1.8],\n",
       "       [6.1, 2.5],\n",
       "       [5.1, 2. ],\n",
       "       [5.3, 1.9],\n",
       "       [5.5, 2.1],\n",
       "       [5. , 2. ],\n",
       "       [5.1, 2.4],\n",
       "       [5.3, 2.3],\n",
       "       [5.5, 1.8],\n",
       "       [6.7, 2.2],\n",
       "       [6.9, 2.3],\n",
       "       [5. , 1.5],\n",
       "       [5.7, 2.3],\n",
       "       [4.9, 2. ],\n",
       "       [6.7, 2. ],\n",
       "       [4.9, 1.8],\n",
       "       [5.7, 2.1],\n",
       "       [6. , 1.8],\n",
       "       [4.8, 1.8],\n",
       "       [4.9, 1.8],\n",
       "       [5.6, 2.1],\n",
       "       [5.8, 1.6],\n",
       "       [6.1, 1.9],\n",
       "       [6.4, 2. ],\n",
       "       [5.6, 2.2],\n",
       "       [5.1, 1.5],\n",
       "       [5.6, 1.4],\n",
       "       [6.1, 2.3],\n",
       "       [5.6, 2.4],\n",
       "       [5.5, 1.8],\n",
       "       [4.8, 1.8],\n",
       "       [5.4, 2.1],\n",
       "       [5.6, 2.4],\n",
       "       [5.1, 2.3],\n",
       "       [5.1, 1.9],\n",
       "       [5.9, 2.3],\n",
       "       [5.7, 2.5],\n",
       "       [5.2, 2.3],\n",
       "       [5. , 1.9],\n",
       "       [5.2, 2. ],\n",
       "       [5.4, 2.3],\n",
       "       [5.1, 1.8]])"
      ]
     },
     "execution_count": 6,
     "metadata": {},
     "output_type": "execute_result"
    }
   ],
   "source": [
    "X"
   ]
  },
  {
   "cell_type": "code",
   "execution_count": 7,
   "id": "3c0da88c",
   "metadata": {},
   "outputs": [],
   "source": [
    "y = iris['target']"
   ]
  },
  {
   "cell_type": "code",
   "execution_count": 8,
   "id": "d4d5c352",
   "metadata": {},
   "outputs": [],
   "source": [
    "setosa_or_versicolor = (y == 0) | (y == 1) # the third class is not liearly separable\n",
    "X = X[setosa_or_versicolor]\n",
    "y = y[setosa_or_versicolor]"
   ]
  },
  {
   "cell_type": "code",
   "execution_count": 9,
   "id": "80a82cdf",
   "metadata": {
    "collapsed": true
   },
   "outputs": [
    {
     "data": {
      "text/plain": [
       "array([0, 0, 0, 0, 0, 0, 0, 0, 0, 0, 0, 0, 0, 0, 0, 0, 0, 0, 0, 0, 0, 0,\n",
       "       0, 0, 0, 0, 0, 0, 0, 0, 0, 0, 0, 0, 0, 0, 0, 0, 0, 0, 0, 0, 0, 0,\n",
       "       0, 0, 0, 0, 0, 0, 1, 1, 1, 1, 1, 1, 1, 1, 1, 1, 1, 1, 1, 1, 1, 1,\n",
       "       1, 1, 1, 1, 1, 1, 1, 1, 1, 1, 1, 1, 1, 1, 1, 1, 1, 1, 1, 1, 1, 1,\n",
       "       1, 1, 1, 1, 1, 1, 1, 1, 1, 1, 1, 1])"
      ]
     },
     "execution_count": 9,
     "metadata": {},
     "output_type": "execute_result"
    }
   ],
   "source": [
    "y"
   ]
  },
  {
   "cell_type": "code",
   "execution_count": 2,
   "id": "530c4ca0",
   "metadata": {},
   "outputs": [],
   "source": [
    "from sklearn.preprocessing import StandardScaler\n",
    "\n",
    "scaler = StandardScaler()"
   ]
  },
  {
   "cell_type": "code",
   "execution_count": 11,
   "id": "f7eb9e70",
   "metadata": {},
   "outputs": [],
   "source": [
    "X_sc = scaler.fit_transform(X)"
   ]
  },
  {
   "cell_type": "code",
   "execution_count": 12,
   "id": "00d4ba0e",
   "metadata": {
    "collapsed": true
   },
   "outputs": [
    {
     "data": {
      "text/plain": [
       "array([[-1.01297765, -1.04211089],\n",
       "       [-1.01297765, -1.04211089],\n",
       "       [-1.08231219, -1.04211089],\n",
       "       [-0.94364311, -1.04211089],\n",
       "       [-1.01297765, -1.04211089],\n",
       "       [-0.80497402, -0.68644165],\n",
       "       [-1.01297765, -0.86427627],\n",
       "       [-0.94364311, -1.04211089],\n",
       "       [-1.01297765, -1.04211089],\n",
       "       [-0.94364311, -1.21994552],\n",
       "       [-0.94364311, -1.04211089],\n",
       "       [-0.87430856, -1.04211089],\n",
       "       [-1.01297765, -1.21994552],\n",
       "       [-1.22098127, -1.21994552],\n",
       "       [-1.15164673, -1.04211089],\n",
       "       [-0.94364311, -0.68644165],\n",
       "       [-1.08231219, -0.68644165],\n",
       "       [-1.01297765, -0.86427627],\n",
       "       [-0.80497402, -0.86427627],\n",
       "       [-0.94364311, -0.86427627],\n",
       "       [-0.80497402, -1.04211089],\n",
       "       [-0.94364311, -0.68644165],\n",
       "       [-1.29031581, -1.04211089],\n",
       "       [-0.80497402, -0.50860702],\n",
       "       [-0.66630494, -1.04211089],\n",
       "       [-0.87430856, -1.04211089],\n",
       "       [-0.87430856, -0.68644165],\n",
       "       [-0.94364311, -1.04211089],\n",
       "       [-1.01297765, -1.04211089],\n",
       "       [-0.87430856, -1.04211089],\n",
       "       [-0.87430856, -1.04211089],\n",
       "       [-0.94364311, -0.68644165],\n",
       "       [-0.94364311, -1.21994552],\n",
       "       [-1.01297765, -1.04211089],\n",
       "       [-0.94364311, -1.04211089],\n",
       "       [-1.15164673, -1.04211089],\n",
       "       [-1.08231219, -1.04211089],\n",
       "       [-1.01297765, -1.21994552],\n",
       "       [-1.08231219, -1.04211089],\n",
       "       [-0.94364311, -1.04211089],\n",
       "       [-1.08231219, -0.86427627],\n",
       "       [-1.08231219, -0.86427627],\n",
       "       [-1.08231219, -1.04211089],\n",
       "       [-0.87430856, -0.3307724 ],\n",
       "       [-0.66630494, -0.68644165],\n",
       "       [-1.01297765, -0.86427627],\n",
       "       [-0.87430856, -1.04211089],\n",
       "       [-1.01297765, -1.04211089],\n",
       "       [-0.94364311, -1.04211089],\n",
       "       [-1.01297765, -1.04211089],\n",
       "       [ 1.27506221,  1.09190459],\n",
       "       [ 1.13639313,  1.26973921],\n",
       "       [ 1.4137313 ,  1.26973921],\n",
       "       [ 0.78972042,  0.91406997],\n",
       "       [ 1.20572767,  1.26973921],\n",
       "       [ 1.13639313,  0.91406997],\n",
       "       [ 1.27506221,  1.44757384],\n",
       "       [ 0.30437864,  0.38056609],\n",
       "       [ 1.20572767,  0.91406997],\n",
       "       [ 0.72038588,  1.09190459],\n",
       "       [ 0.44304772,  0.38056609],\n",
       "       [ 0.92838951,  1.26973921],\n",
       "       [ 0.78972042,  0.38056609],\n",
       "       [ 1.27506221,  1.09190459],\n",
       "       [ 0.51238226,  0.91406997],\n",
       "       [ 1.06705859,  1.09190459],\n",
       "       [ 1.13639313,  1.26973921],\n",
       "       [ 0.85905497,  0.38056609],\n",
       "       [ 1.13639313,  1.26973921],\n",
       "       [ 0.72038588,  0.55840072],\n",
       "       [ 1.34439675,  1.80324308],\n",
       "       [ 0.78972042,  0.91406997],\n",
       "       [ 1.4137313 ,  1.26973921],\n",
       "       [ 1.27506221,  0.73623534],\n",
       "       [ 0.99772405,  0.91406997],\n",
       "       [ 1.06705859,  1.09190459],\n",
       "       [ 1.34439675,  1.09190459],\n",
       "       [ 1.48306584,  1.62540846],\n",
       "       [ 1.13639313,  1.26973921],\n",
       "       [ 0.44304772,  0.38056609],\n",
       "       [ 0.65105134,  0.55840072],\n",
       "       [ 0.5817168 ,  0.38056609],\n",
       "       [ 0.72038588,  0.73623534],\n",
       "       [ 1.55240038,  1.44757384],\n",
       "       [ 1.13639313,  1.26973921],\n",
       "       [ 1.13639313,  1.44757384],\n",
       "       [ 1.27506221,  1.26973921],\n",
       "       [ 1.06705859,  0.91406997],\n",
       "       [ 0.85905497,  0.91406997],\n",
       "       [ 0.78972042,  0.91406997],\n",
       "       [ 1.06705859,  0.73623534],\n",
       "       [ 1.20572767,  1.09190459],\n",
       "       [ 0.78972042,  0.73623534],\n",
       "       [ 0.30437864,  0.38056609],\n",
       "       [ 0.92838951,  0.91406997],\n",
       "       [ 0.92838951,  0.73623534],\n",
       "       [ 0.92838951,  0.91406997],\n",
       "       [ 0.99772405,  0.91406997],\n",
       "       [ 0.09637501,  0.55840072],\n",
       "       [ 0.85905497,  0.91406997]])"
      ]
     },
     "execution_count": 12,
     "metadata": {},
     "output_type": "execute_result"
    }
   ],
   "source": [
    "X_sc"
   ]
  },
  {
   "cell_type": "code",
   "execution_count": 13,
   "id": "867138de",
   "metadata": {},
   "outputs": [
    {
     "data": {
      "text/plain": [
       "100"
      ]
     },
     "execution_count": 13,
     "metadata": {},
     "output_type": "execute_result"
    }
   ],
   "source": [
    "len(X_sc)"
   ]
  },
  {
   "cell_type": "code",
   "execution_count": 14,
   "id": "b2bde72e",
   "metadata": {},
   "outputs": [
    {
     "data": {
      "text/plain": [
       "(array([37., 13.,  0.,  1.,  4., 11., 20., 14.]),\n",
       " array([1.    , 1.5125, 2.025 , 2.5375, 3.05  , 3.5625, 4.075 , 4.5875,\n",
       "        5.1   ]),\n",
       " <BarContainer object of 8 artists>)"
      ]
     },
     "execution_count": 14,
     "metadata": {},
     "output_type": "execute_result"
    },
    {
     "data": {
      "image/png": "[encoded data removed]",
      "text/plain": [
       "<Figure size 432x288 with 1 Axes>"
      ]
     },
     "metadata": {
      "needs_background": "light"
     },
     "output_type": "display_data"
    }
   ],
   "source": [
    "plt.hist(X[:,0], bins='auto')"
   ]
  },
  {
   "cell_type": "code",
   "execution_count": 15,
   "id": "ae54ea26",
   "metadata": {},
   "outputs": [
    {
     "data": {
      "text/plain": [
       "(array([41.,  8.,  1.,  0., 10., 18., 17.,  5.]),\n",
       " array([0.1   , 0.3125, 0.525 , 0.7375, 0.95  , 1.1625, 1.375 , 1.5875,\n",
       "        1.8   ]),\n",
       " <BarContainer object of 8 artists>)"
      ]
     },
     "execution_count": 15,
     "metadata": {},
     "output_type": "execute_result"
    },
    {
     "data": {
      "image/png": "[encoded data removed]",
      "text/plain": [
       "<Figure size 432x288 with 1 Axes>"
      ]
     },
     "metadata": {
      "needs_background": "light"
     },
     "output_type": "display_data"
    }
   ],
   "source": [
    "plt.hist(X[:,1], bins='auto')"
   ]
  },
  {
   "cell_type": "code",
   "execution_count": 16,
   "id": "649f8283",
   "metadata": {},
   "outputs": [
    {
     "data": {
      "text/plain": [
       "[<matplotlib.lines.Line2D at 0x7ff046f88ac8>]"
      ]
     },
     "execution_count": 16,
     "metadata": {},
     "output_type": "execute_result"
    },
    {
     "data": {
      "image/png": "[encoded data removed]",
      "text/plain": [
       "<Figure size 432x288 with 1 Axes>"
      ]
     },
     "metadata": {
      "needs_background": "light"
     },
     "output_type": "display_data"
    }
   ],
   "source": [
    "plt.plot(X_sc[:,0], X_sc[:,1], 'b.')"
   ]
  },
  {
   "cell_type": "code",
   "execution_count": 17,
   "id": "7594dc55",
   "metadata": {},
   "outputs": [],
   "source": [
    "from sklearn.svm import LinearSVC\n",
    "\n",
    "lin_svc = LinearSVC(loss='hinge', verbose=3, C=10)"
   ]
  },
  {
   "cell_type": "code",
   "execution_count": 18,
   "id": "1864ad6c",
   "metadata": {},
   "outputs": [
    {
     "name": "stdout",
     "output_type": "stream",
     "text": [
      "[LibLinear]"
     ]
    },
    {
     "data": {
      "text/plain": [
       "LinearSVC(C=10, loss='hinge', verbose=3)"
      ]
     },
     "execution_count": 18,
     "metadata": {},
     "output_type": "execute_result"
    }
   ],
   "source": [
    "lin_svc.fit(X,y)"
   ]
  },
  {
   "cell_type": "code",
   "execution_count": 19,
   "id": "c30c2d49",
   "metadata": {},
   "outputs": [
    {
     "data": {
      "text/plain": [
       "<bound method BaseEstimator.get_params of LinearSVC(C=10, loss='hinge', verbose=3)>"
      ]
     },
     "execution_count": 19,
     "metadata": {},
     "output_type": "execute_result"
    }
   ],
   "source": [
    "lin_svc.get_params"
   ]
  },
  {
   "cell_type": "code",
   "execution_count": 20,
   "id": "7287c4f9",
   "metadata": {},
   "outputs": [
    {
     "data": {
      "text/plain": [
       "array([[0.9301428 , 1.39555551]])"
      ]
     },
     "execution_count": 20,
     "metadata": {},
     "output_type": "execute_result"
    }
   ],
   "source": [
    "lin_svc.coef_"
   ]
  },
  {
   "cell_type": "code",
   "execution_count": 21,
   "id": "a0f379ee",
   "metadata": {},
   "outputs": [
    {
     "data": {
      "text/plain": [
       "array([-3.32553947])"
      ]
     },
     "execution_count": 21,
     "metadata": {},
     "output_type": "execute_result"
    }
   ],
   "source": [
    "lin_svc.intercept_"
   ]
  },
  {
   "cell_type": "code",
   "execution_count": 22,
   "id": "06ecd352",
   "metadata": {},
   "outputs": [],
   "source": [
    "w = lin_svc.coef_\n",
    "b = lin_svc.intercept_"
   ]
  },
  {
   "cell_type": "code",
   "execution_count": 23,
   "id": "b77b59d3",
   "metadata": {},
   "outputs": [
    {
     "data": {
      "text/plain": [
       "array([0.9301428 , 1.39555551])"
      ]
     },
     "execution_count": 23,
     "metadata": {},
     "output_type": "execute_result"
    }
   ],
   "source": [
    "w[0]"
   ]
  },
  {
   "cell_type": "code",
   "execution_count": 24,
   "id": "835f6038",
   "metadata": {},
   "outputs": [
    {
     "data": {
      "text/plain": [
       "0.9301428041495631"
      ]
     },
     "execution_count": 24,
     "metadata": {},
     "output_type": "execute_result"
    }
   ],
   "source": [
    "w[0,0]"
   ]
  },
  {
   "cell_type": "code",
   "execution_count": 25,
   "id": "ce3bb014",
   "metadata": {},
   "outputs": [
    {
     "data": {
      "text/plain": [
       "1.3955555083443298"
      ]
     },
     "execution_count": 25,
     "metadata": {},
     "output_type": "execute_result"
    }
   ],
   "source": [
    "w[0,1]"
   ]
  },
  {
   "cell_type": "code",
   "execution_count": 26,
   "id": "09f9c704",
   "metadata": {},
   "outputs": [],
   "source": [
    "xmin = 0\n",
    "xmax = 5.5\n",
    "\n",
    "# At the decision boundary, w0*x0 + w1*x1 + b = 0\n",
    "# => x1 = -w0/w1 * x0 - b/w1\n",
    "x0 = np.linspace(xmin, xmax, 200)\n",
    "decision_boundary = -w[0,0]/w[0,1] * x0 - b[0]/w[0,1]\n",
    "\n",
    "margin = 1/w[0,1]\n",
    "gutter_up = decision_boundary + margin\n",
    "gutter_down = decision_boundary - margin"
   ]
  },
  {
   "cell_type": "code",
   "execution_count": 27,
   "id": "c3059812",
   "metadata": {},
   "outputs": [
    {
     "data": {
      "text/plain": [
       "<matplotlib.legend.Legend at 0x7ff0452212e8>"
      ]
     },
     "execution_count": 27,
     "metadata": {},
     "output_type": "execute_result"
    },
    {
     "data": {
      "image/png": "[encoded data removed]",
      "text/plain": [
       "<Figure size 432x288 with 1 Axes>"
      ]
     },
     "metadata": {
      "needs_background": "light"
     },
     "output_type": "display_data"
    }
   ],
   "source": [
    "plt.axis([0,5.5,0,2])\n",
    "plt.plot(X[:,0][y==0],X[:,1][y==0], 'rx', label='Iris setosa')\n",
    "plt.plot(X[:,0][y==1],X[:,1][y==1], 'bo', label='Iris versicolor')\n",
    "plt.plot(x0, decision_boundary, \"k-\", linewidth=2)\n",
    "plt.plot(x0, gutter_up, \"k--\", linewidth=2)\n",
    "plt.plot(x0, gutter_down, \"k--\", linewidth=2)\n",
    "plt.xlabel('Petal length', fontsize=14)\n",
    "plt.ylabel('Petal width', fontsize=14)\n",
    "plt.legend(loc=\"upper left\", fontsize=14)"
   ]
  },
  {
   "cell_type": "code",
   "execution_count": 57,
   "id": "2d93268c",
   "metadata": {},
   "outputs": [
    {
     "data": {
      "text/plain": [
       "SVC(C=20, kernel='linear')"
      ]
     },
     "execution_count": 57,
     "metadata": {},
     "output_type": "execute_result"
    }
   ],
   "source": [
    "from sklearn.svm import SVC\n",
    "\n",
    "svc = SVC(C=20, kernel='linear')\n",
    "svc.fit(X,y)"
   ]
  },
  {
   "cell_type": "code",
   "execution_count": 58,
   "id": "c44aa523",
   "metadata": {},
   "outputs": [
    {
     "data": {
      "text/plain": [
       "array([[1.29411744, 0.82352928]])"
      ]
     },
     "execution_count": 58,
     "metadata": {},
     "output_type": "execute_result"
    }
   ],
   "source": [
    "svc.coef_"
   ]
  },
  {
   "cell_type": "code",
   "execution_count": 59,
   "id": "eeac8ef0",
   "metadata": {},
   "outputs": [],
   "source": [
    "w = svc.coef_\n",
    "b = svc.intercept_"
   ]
  },
  {
   "cell_type": "code",
   "execution_count": 60,
   "id": "7247fe12",
   "metadata": {},
   "outputs": [
    {
     "data": {
      "text/plain": [
       "array([[1.29411744, 0.82352928]])"
      ]
     },
     "execution_count": 60,
     "metadata": {},
     "output_type": "execute_result"
    }
   ],
   "source": [
    "w"
   ]
  },
  {
   "cell_type": "code",
   "execution_count": 61,
   "id": "0ea2a50d",
   "metadata": {},
   "outputs": [
    {
     "data": {
      "text/plain": [
       "array([-3.78823471])"
      ]
     },
     "execution_count": 61,
     "metadata": {},
     "output_type": "execute_result"
    }
   ],
   "source": [
    "b"
   ]
  },
  {
   "cell_type": "code",
   "execution_count": 62,
   "id": "a4680fb5",
   "metadata": {},
   "outputs": [],
   "source": [
    "x0 = np.linspace(xmin, xmax, 200)\n",
    "decision_boundary = -w[0,0]/w[0,1] * x0 - b[0]/w[0,1]\n",
    "\n",
    "margin = 1/w[0,1]\n",
    "gutter_up = decision_boundary + margin\n",
    "gutter_down = decision_boundary - margin"
   ]
  },
  {
   "cell_type": "code",
   "execution_count": 63,
   "id": "dc640051",
   "metadata": {},
   "outputs": [
    {
     "data": {
      "text/plain": [
       "<matplotlib.legend.Legend at 0x7ff044fa8358>"
      ]
     },
     "execution_count": 63,
     "metadata": {},
     "output_type": "execute_result"
    },
    {
     "data": {
      "image/png": "[encoded data removed]",
      "text/plain": [
       "<Figure size 432x288 with 1 Axes>"
      ]
     },
     "metadata": {
      "needs_background": "light"
     },
     "output_type": "display_data"
    }
   ],
   "source": [
    "plt.axis([0,5.5,0,2])\n",
    "plt.plot(X[:,0][y==0],X[:,1][y==0], 'rx', label='Iris setosa')\n",
    "plt.plot(X[:,0][y==1],X[:,1][y==1], 'bo', label='Iris versicolor')\n",
    "plt.plot(x0, decision_boundary, \"k-\", linewidth=2)\n",
    "plt.plot(x0, gutter_up, \"k--\", linewidth=2)\n",
    "plt.plot(x0, gutter_down, \"k--\", linewidth=2)\n",
    "plt.xlabel('Petal length', fontsize=14)\n",
    "plt.ylabel('Petal width', fontsize=14)\n",
    "plt.legend(loc=\"upper left\", fontsize=14)"
   ]
  },
  {
   "cell_type": "code",
   "execution_count": 65,
   "id": "c55a713f",
   "metadata": {},
   "outputs": [
    {
     "data": {
      "text/plain": [
       "SGDClassifier()"
      ]
     },
     "execution_count": 65,
     "metadata": {},
     "output_type": "execute_result"
    }
   ],
   "source": [
    "from sklearn.linear_model import SGDClassifier\n",
    "\n",
    "sgd = SGDClassifier(loss='hinge')\n",
    "sgd.fit(X,y)"
   ]
  },
  {
   "cell_type": "code",
   "execution_count": 66,
   "id": "92bc390a",
   "metadata": {},
   "outputs": [
    {
     "data": {
      "text/plain": [
       "array([[7.06297822, 7.65155974]])"
      ]
     },
     "execution_count": 66,
     "metadata": {},
     "output_type": "execute_result"
    }
   ],
   "source": [
    "w = sgd.coef_\n",
    "b = sgd.intercept_\n",
    "\n",
    "w"
   ]
  },
  {
   "cell_type": "code",
   "execution_count": 67,
   "id": "dffeea36",
   "metadata": {},
   "outputs": [
    {
     "data": {
      "text/plain": [
       "array([-29.82103303])"
      ]
     },
     "execution_count": 67,
     "metadata": {},
     "output_type": "execute_result"
    }
   ],
   "source": [
    "b"
   ]
  },
  {
   "cell_type": "code",
   "execution_count": 68,
   "id": "fbf34f24",
   "metadata": {},
   "outputs": [],
   "source": [
    "x0 = np.linspace(xmin, xmax, 200)\n",
    "decision_boundary = -w[0,0]/w[0,1] * x0 - b[0]/w[0,1]\n",
    "\n",
    "margin = 1/w[0,1]\n",
    "gutter_up = decision_boundary + margin\n",
    "gutter_down = decision_boundary - margin"
   ]
  },
  {
   "cell_type": "code",
   "execution_count": 69,
   "id": "79b3f8c6",
   "metadata": {},
   "outputs": [
    {
     "data": {
      "text/plain": [
       "<matplotlib.legend.Legend at 0x7ff043e95a20>"
      ]
     },
     "execution_count": 69,
     "metadata": {},
     "output_type": "execute_result"
    },
    {
     "data": {
      "image/png": "[encoded data removed]",
      "text/plain": [
       "<Figure size 432x288 with 1 Axes>"
      ]
     },
     "metadata": {
      "needs_background": "light"
     },
     "output_type": "display_data"
    }
   ],
   "source": [
    "plt.axis([0,5.5,0,2])\n",
    "plt.plot(X[:,0][y==0],X[:,1][y==0], 'rx', label='Iris setosa')\n",
    "plt.plot(X[:,0][y==1],X[:,1][y==1], 'bo', label='Iris versicolor')\n",
    "plt.plot(x0, decision_boundary, \"k-\", linewidth=2)\n",
    "plt.plot(x0, gutter_up, \"k--\", linewidth=2)\n",
    "plt.plot(x0, gutter_down, \"k--\", linewidth=2)\n",
    "plt.xlabel('Petal length', fontsize=14)\n",
    "plt.ylabel('Petal width', fontsize=14)\n",
    "plt.legend(loc=\"upper left\", fontsize=14)"
   ]
  },
  {
   "cell_type": "markdown",
   "id": "5fe78989",
   "metadata": {},
   "source": [
    "# Exercise 9"
   ]
  },
  {
   "cell_type": "code",
   "execution_count": 3,
   "id": "247505ab",
   "metadata": {},
   "outputs": [],
   "source": [
    "from sklearn.datasets import fetch_openml\n",
    "mnist = fetch_openml('mnist_784', version=1, cache=True, as_frame=False)\n",
    "\n",
    "X = mnist[\"data\"]\n",
    "y = mnist[\"target\"].astype(np.uint8)\n",
    "\n",
    "X_train = X[:60000]\n",
    "y_train = y[:60000]\n",
    "X_test = X[60000:]\n",
    "y_test = y[60000:]"
   ]
  },
  {
   "cell_type": "code",
   "execution_count": 4,
   "id": "c6d54810",
   "metadata": {},
   "outputs": [
    {
     "data": {
      "text/plain": [
       "numpy.ndarray"
      ]
     },
     "execution_count": 4,
     "metadata": {},
     "output_type": "execute_result"
    }
   ],
   "source": [
    "type(X_train)"
   ]
  },
  {
   "cell_type": "code",
   "execution_count": 6,
   "id": "4fddd4d2",
   "metadata": {},
   "outputs": [
    {
     "data": {
      "text/plain": [
       "array([5, 0, 4, 1, 9, 2, 1, 3, 1, 4], dtype=uint8)"
      ]
     },
     "execution_count": 6,
     "metadata": {},
     "output_type": "execute_result"
    }
   ],
   "source": [
    "y_train[:10]"
   ]
  },
  {
   "cell_type": "code",
   "execution_count": 7,
   "id": "7200305a",
   "metadata": {
    "collapsed": true
   },
   "outputs": [
    {
     "data": {
      "text/plain": [
       "array([  0.,   0.,   0.,   0.,   0.,   0.,   0.,   0.,   0.,   0.,   0.,\n",
       "         0.,   0.,   0.,   0.,   0.,   0.,   0.,   0.,   0.,   0.,   0.,\n",
       "         0.,   0.,   0.,   0.,   0.,   0.,   0.,   0.,   0.,   0.,   0.,\n",
       "         0.,   0.,   0.,   0.,   0.,   0.,   0.,   0.,   0.,   0.,   0.,\n",
       "         0.,   0.,   0.,   0.,   0.,   0.,   0.,   0.,   0.,   0.,   0.,\n",
       "         0.,   0.,   0.,   0.,   0.,   0.,   0.,   0.,   0.,   0.,   0.,\n",
       "         0.,   0.,   0.,   0.,   0.,   0.,   0.,   0.,   0.,   0.,   0.,\n",
       "         0.,   0.,   0.,   0.,   0.,   0.,   0.,   0.,   0.,   0.,   0.,\n",
       "         0.,   0.,   0.,   0.,   0.,   0.,   0.,   0.,   0.,   0.,   0.,\n",
       "         0.,   0.,   0.,   0.,   0.,   0.,   0.,   0.,   0.,   0.,   0.,\n",
       "         0.,   0.,   0.,   0.,   0.,   0.,   0.,   0.,   0.,   0.,   0.,\n",
       "         0.,   0.,   0.,   0.,   0.,   0.,   0.,   0.,   0.,   0.,   0.,\n",
       "         0.,   0.,   0.,   0.,   0.,   0.,   0.,   0.,   0.,   0.,   0.,\n",
       "         0.,   0.,   0.,   0.,   0.,   0.,   0.,   0.,   0.,   3.,  18.,\n",
       "        18.,  18., 126., 136., 175.,  26., 166., 255., 247., 127.,   0.,\n",
       "         0.,   0.,   0.,   0.,   0.,   0.,   0.,   0.,   0.,   0.,   0.,\n",
       "        30.,  36.,  94., 154., 170., 253., 253., 253., 253., 253., 225.,\n",
       "       172., 253., 242., 195.,  64.,   0.,   0.,   0.,   0.,   0.,   0.,\n",
       "         0.,   0.,   0.,   0.,   0.,  49., 238., 253., 253., 253., 253.,\n",
       "       253., 253., 253., 253., 251.,  93.,  82.,  82.,  56.,  39.,   0.,\n",
       "         0.,   0.,   0.,   0.,   0.,   0.,   0.,   0.,   0.,   0.,   0.,\n",
       "        18., 219., 253., 253., 253., 253., 253., 198., 182., 247., 241.,\n",
       "         0.,   0.,   0.,   0.,   0.,   0.,   0.,   0.,   0.,   0.,   0.,\n",
       "         0.,   0.,   0.,   0.,   0.,   0.,   0.,  80., 156., 107., 253.,\n",
       "       253., 205.,  11.,   0.,  43., 154.,   0.,   0.,   0.,   0.,   0.,\n",
       "         0.,   0.,   0.,   0.,   0.,   0.,   0.,   0.,   0.,   0.,   0.,\n",
       "         0.,   0.,   0.,  14.,   1., 154., 253.,  90.,   0.,   0.,   0.,\n",
       "         0.,   0.,   0.,   0.,   0.,   0.,   0.,   0.,   0.,   0.,   0.,\n",
       "         0.,   0.,   0.,   0.,   0.,   0.,   0.,   0.,   0.,   0.,   0.,\n",
       "       139., 253., 190.,   2.,   0.,   0.,   0.,   0.,   0.,   0.,   0.,\n",
       "         0.,   0.,   0.,   0.,   0.,   0.,   0.,   0.,   0.,   0.,   0.,\n",
       "         0.,   0.,   0.,   0.,   0.,   0.,  11., 190., 253.,  70.,   0.,\n",
       "         0.,   0.,   0.,   0.,   0.,   0.,   0.,   0.,   0.,   0.,   0.,\n",
       "         0.,   0.,   0.,   0.,   0.,   0.,   0.,   0.,   0.,   0.,   0.,\n",
       "         0.,   0.,  35., 241., 225., 160., 108.,   1.,   0.,   0.,   0.,\n",
       "         0.,   0.,   0.,   0.,   0.,   0.,   0.,   0.,   0.,   0.,   0.,\n",
       "         0.,   0.,   0.,   0.,   0.,   0.,   0.,   0.,   0.,  81., 240.,\n",
       "       253., 253., 119.,  25.,   0.,   0.,   0.,   0.,   0.,   0.,   0.,\n",
       "         0.,   0.,   0.,   0.,   0.,   0.,   0.,   0.,   0.,   0.,   0.,\n",
       "         0.,   0.,   0.,   0.,   0.,  45., 186., 253., 253., 150.,  27.,\n",
       "         0.,   0.,   0.,   0.,   0.,   0.,   0.,   0.,   0.,   0.,   0.,\n",
       "         0.,   0.,   0.,   0.,   0.,   0.,   0.,   0.,   0.,   0.,   0.,\n",
       "         0.,  16.,  93., 252., 253., 187.,   0.,   0.,   0.,   0.,   0.,\n",
       "         0.,   0.,   0.,   0.,   0.,   0.,   0.,   0.,   0.,   0.,   0.,\n",
       "         0.,   0.,   0.,   0.,   0.,   0.,   0.,   0.,   0., 249., 253.,\n",
       "       249.,  64.,   0.,   0.,   0.,   0.,   0.,   0.,   0.,   0.,   0.,\n",
       "         0.,   0.,   0.,   0.,   0.,   0.,   0.,   0.,   0.,   0.,   0.,\n",
       "         0.,  46., 130., 183., 253., 253., 207.,   2.,   0.,   0.,   0.,\n",
       "         0.,   0.,   0.,   0.,   0.,   0.,   0.,   0.,   0.,   0.,   0.,\n",
       "         0.,   0.,   0.,   0.,   0.,  39., 148., 229., 253., 253., 253.,\n",
       "       250., 182.,   0.,   0.,   0.,   0.,   0.,   0.,   0.,   0.,   0.,\n",
       "         0.,   0.,   0.,   0.,   0.,   0.,   0.,   0.,   0.,  24., 114.,\n",
       "       221., 253., 253., 253., 253., 201.,  78.,   0.,   0.,   0.,   0.,\n",
       "         0.,   0.,   0.,   0.,   0.,   0.,   0.,   0.,   0.,   0.,   0.,\n",
       "         0.,   0.,  23.,  66., 213., 253., 253., 253., 253., 198.,  81.,\n",
       "         2.,   0.,   0.,   0.,   0.,   0.,   0.,   0.,   0.,   0.,   0.,\n",
       "         0.,   0.,   0.,   0.,   0.,   0.,  18., 171., 219., 253., 253.,\n",
       "       253., 253., 195.,  80.,   9.,   0.,   0.,   0.,   0.,   0.,   0.,\n",
       "         0.,   0.,   0.,   0.,   0.,   0.,   0.,   0.,   0.,   0.,  55.,\n",
       "       172., 226., 253., 253., 253., 253., 244., 133.,  11.,   0.,   0.,\n",
       "         0.,   0.,   0.,   0.,   0.,   0.,   0.,   0.,   0.,   0.,   0.,\n",
       "         0.,   0.,   0.,   0.,   0., 136., 253., 253., 253., 212., 135.,\n",
       "       132.,  16.,   0.,   0.,   0.,   0.,   0.,   0.,   0.,   0.,   0.,\n",
       "         0.,   0.,   0.,   0.,   0.,   0.,   0.,   0.,   0.,   0.,   0.,\n",
       "         0.,   0.,   0.,   0.,   0.,   0.,   0.,   0.,   0.,   0.,   0.,\n",
       "         0.,   0.,   0.,   0.,   0.,   0.,   0.,   0.,   0.,   0.,   0.,\n",
       "         0.,   0.,   0.,   0.,   0.,   0.,   0.,   0.,   0.,   0.,   0.,\n",
       "         0.,   0.,   0.,   0.,   0.,   0.,   0.,   0.,   0.,   0.,   0.,\n",
       "         0.,   0.,   0.,   0.,   0.,   0.,   0.,   0.,   0.,   0.,   0.,\n",
       "         0.,   0.,   0.,   0.,   0.,   0.,   0.,   0.,   0.,   0.,   0.,\n",
       "         0.,   0.,   0.,   0.,   0.,   0.,   0.,   0.,   0.,   0.,   0.,\n",
       "         0.,   0.,   0.])"
      ]
     },
     "execution_count": 7,
     "metadata": {},
     "output_type": "execute_result"
    }
   ],
   "source": [
    "X_train[0]"
   ]
  },
  {
   "cell_type": "code",
   "execution_count": 75,
   "id": "cfdd10e7",
   "metadata": {},
   "outputs": [
    {
     "data": {
      "text/plain": [
       "sklearn.utils.Bunch"
      ]
     },
     "execution_count": 75,
     "metadata": {},
     "output_type": "execute_result"
    }
   ],
   "source": [
    "type(mnist)"
   ]
  },
  {
   "cell_type": "code",
   "execution_count": 5,
   "id": "402e685a",
   "metadata": {},
   "outputs": [],
   "source": [
    "# Scaling the data\n",
    "X_train_sc = scaler.fit_transform(X_train)\n",
    "X_test_sc = scaler.fit_transform(X_test)"
   ]
  },
  {
   "cell_type": "code",
   "execution_count": 6,
   "id": "cf02ffb3",
   "metadata": {},
   "outputs": [],
   "source": [
    "#Picking a smaller set to test hyperparams\n",
    "X_little = X_train_sc[:1000]\n",
    "y_little = y_train[:1000]"
   ]
  },
  {
   "cell_type": "code",
   "execution_count": 79,
   "id": "ce56b0fa",
   "metadata": {},
   "outputs": [],
   "source": [
    "svc = SVC(C=1.0, kernel='rbf')"
   ]
  },
  {
   "cell_type": "code",
   "execution_count": 7,
   "id": "000a1ee8",
   "metadata": {},
   "outputs": [],
   "source": [
    "from sklearn.model_selection import cross_val_score"
   ]
  },
  {
   "cell_type": "code",
   "execution_count": 81,
   "id": "51be38bb",
   "metadata": {},
   "outputs": [
    {
     "data": {
      "text/plain": [
       "array([0.85329341, 0.82282282, 0.84684685])"
      ]
     },
     "execution_count": 81,
     "metadata": {},
     "output_type": "execute_result"
    }
   ],
   "source": [
    "cross_val_score(svc, X_little, y_little, cv=3, scoring=\"accuracy\")"
   ]
  },
  {
   "cell_type": "code",
   "execution_count": 82,
   "id": "0414df4b",
   "metadata": {},
   "outputs": [],
   "source": [
    "from sklearn.model_selection import GridSearchCV\n",
    "\n",
    "params = {'C':[0.33, 1.0, 3.0, 9.0], 'kernel':['linear', 'rbf','poly'], 'degree':[2, 3, 4], 'gamma':['scale', 'auto']}\n"
   ]
  },
  {
   "cell_type": "code",
   "execution_count": 86,
   "id": "6d3bbb8b",
   "metadata": {},
   "outputs": [],
   "source": [
    "svc = SVC()\n",
    "gridsrch = GridSearchCV(svc, params, cv=3, verbose=3)"
   ]
  },
  {
   "cell_type": "code",
   "execution_count": 87,
   "id": "65affab5",
   "metadata": {
    "collapsed": true
   },
   "outputs": [
    {
     "name": "stdout",
     "output_type": "stream",
     "text": [
      "Fitting 3 folds for each of 72 candidates, totalling 216 fits\n",
      "[CV 1/3] END C=0.33, degree=2, gamma=scale, kernel=linear;, score=0.868 total time=   0.1s\n",
      "[CV 2/3] END C=0.33, degree=2, gamma=scale, kernel=linear;, score=0.865 total time=   0.1s\n",
      "[CV 3/3] END C=0.33, degree=2, gamma=scale, kernel=linear;, score=0.832 total time=   0.1s\n",
      "[CV 1/3] END C=0.33, degree=2, gamma=scale, kernel=rbf;, score=0.805 total time=   0.3s\n",
      "[CV 2/3] END C=0.33, degree=2, gamma=scale, kernel=rbf;, score=0.781 total time=   0.3s\n",
      "[CV 3/3] END C=0.33, degree=2, gamma=scale, kernel=rbf;, score=0.775 total time=   0.3s\n",
      "[CV 1/3] END C=0.33, degree=2, gamma=scale, kernel=poly;, score=0.371 total time=   0.2s\n",
      "[CV 2/3] END C=0.33, degree=2, gamma=scale, kernel=poly;, score=0.628 total time=   0.2s\n",
      "[CV 3/3] END C=0.33, degree=2, gamma=scale, kernel=poly;, score=0.315 total time=   0.2s\n",
      "[CV 1/3] END C=0.33, degree=2, gamma=auto, kernel=linear;, score=0.868 total time=   0.1s\n",
      "[CV 2/3] END C=0.33, degree=2, gamma=auto, kernel=linear;, score=0.865 total time=   0.1s\n",
      "[CV 3/3] END C=0.33, degree=2, gamma=auto, kernel=linear;, score=0.832 total time=   0.1s\n",
      "[CV 1/3] END C=0.33, degree=2, gamma=auto, kernel=rbf;, score=0.805 total time=   0.3s\n",
      "[CV 2/3] END C=0.33, degree=2, gamma=auto, kernel=rbf;, score=0.790 total time=   0.3s\n",
      "[CV 3/3] END C=0.33, degree=2, gamma=auto, kernel=rbf;, score=0.778 total time=   0.3s\n",
      "[CV 1/3] END C=0.33, degree=2, gamma=auto, kernel=poly;, score=0.392 total time=   0.2s\n",
      "[CV 2/3] END C=0.33, degree=2, gamma=auto, kernel=poly;, score=0.423 total time=   0.3s\n",
      "[CV 3/3] END C=0.33, degree=2, gamma=auto, kernel=poly;, score=0.330 total time=   0.3s\n",
      "[CV 1/3] END C=0.33, degree=3, gamma=scale, kernel=linear;, score=0.868 total time=   0.1s\n",
      "[CV 2/3] END C=0.33, degree=3, gamma=scale, kernel=linear;, score=0.865 total time=   0.1s\n",
      "[CV 3/3] END C=0.33, degree=3, gamma=scale, kernel=linear;, score=0.832 total time=   0.1s\n",
      "[CV 1/3] END C=0.33, degree=3, gamma=scale, kernel=rbf;, score=0.805 total time=   0.3s\n",
      "[CV 2/3] END C=0.33, degree=3, gamma=scale, kernel=rbf;, score=0.781 total time=   0.3s\n",
      "[CV 3/3] END C=0.33, degree=3, gamma=scale, kernel=rbf;, score=0.775 total time=   0.3s\n",
      "[CV 1/3] END C=0.33, degree=3, gamma=scale, kernel=poly;, score=0.180 total time=   0.2s\n",
      "[CV 2/3] END C=0.33, degree=3, gamma=scale, kernel=poly;, score=0.294 total time=   0.2s\n",
      "[CV 3/3] END C=0.33, degree=3, gamma=scale, kernel=poly;, score=0.171 total time=   0.2s\n",
      "[CV 1/3] END C=0.33, degree=3, gamma=auto, kernel=linear;, score=0.868 total time=   0.1s\n",
      "[CV 2/3] END C=0.33, degree=3, gamma=auto, kernel=linear;, score=0.865 total time=   0.1s\n",
      "[CV 3/3] END C=0.33, degree=3, gamma=auto, kernel=linear;, score=0.832 total time=   0.1s\n",
      "[CV 1/3] END C=0.33, degree=3, gamma=auto, kernel=rbf;, score=0.805 total time=   0.3s\n",
      "[CV 2/3] END C=0.33, degree=3, gamma=auto, kernel=rbf;, score=0.790 total time=   0.3s\n",
      "[CV 3/3] END C=0.33, degree=3, gamma=auto, kernel=rbf;, score=0.778 total time=   0.3s\n",
      "[CV 1/3] END C=0.33, degree=3, gamma=auto, kernel=poly;, score=0.183 total time=   0.2s\n",
      "[CV 2/3] END C=0.33, degree=3, gamma=auto, kernel=poly;, score=0.234 total time=   0.2s\n",
      "[CV 3/3] END C=0.33, degree=3, gamma=auto, kernel=poly;, score=0.177 total time=   0.2s\n",
      "[CV 1/3] END C=0.33, degree=4, gamma=scale, kernel=linear;, score=0.868 total time=   0.1s\n",
      "[CV 2/3] END C=0.33, degree=4, gamma=scale, kernel=linear;, score=0.865 total time=   0.1s\n",
      "[CV 3/3] END C=0.33, degree=4, gamma=scale, kernel=linear;, score=0.832 total time=   0.1s\n",
      "[CV 1/3] END C=0.33, degree=4, gamma=scale, kernel=rbf;, score=0.805 total time=   0.3s\n",
      "[CV 2/3] END C=0.33, degree=4, gamma=scale, kernel=rbf;, score=0.781 total time=   0.3s\n",
      "[CV 3/3] END C=0.33, degree=4, gamma=scale, kernel=rbf;, score=0.775 total time=   0.3s\n",
      "[CV 1/3] END C=0.33, degree=4, gamma=scale, kernel=poly;, score=0.147 total time=   0.2s\n",
      "[CV 2/3] END C=0.33, degree=4, gamma=scale, kernel=poly;, score=0.228 total time=   0.2s\n",
      "[CV 3/3] END C=0.33, degree=4, gamma=scale, kernel=poly;, score=0.144 total time=   0.2s\n",
      "[CV 1/3] END C=0.33, degree=4, gamma=auto, kernel=linear;, score=0.868 total time=   0.1s\n",
      "[CV 2/3] END C=0.33, degree=4, gamma=auto, kernel=linear;, score=0.865 total time=   0.1s\n",
      "[CV 3/3] END C=0.33, degree=4, gamma=auto, kernel=linear;, score=0.832 total time=   0.1s\n",
      "[CV 1/3] END C=0.33, degree=4, gamma=auto, kernel=rbf;, score=0.805 total time=   0.4s\n",
      "[CV 2/3] END C=0.33, degree=4, gamma=auto, kernel=rbf;, score=0.790 total time=   0.3s\n",
      "[CV 3/3] END C=0.33, degree=4, gamma=auto, kernel=rbf;, score=0.778 total time=   0.3s\n",
      "[CV 1/3] END C=0.33, degree=4, gamma=auto, kernel=poly;, score=0.153 total time=   0.2s\n",
      "[CV 2/3] END C=0.33, degree=4, gamma=auto, kernel=poly;, score=0.168 total time=   0.2s\n",
      "[CV 3/3] END C=0.33, degree=4, gamma=auto, kernel=poly;, score=0.150 total time=   0.2s\n",
      "[CV 1/3] END C=1.0, degree=2, gamma=scale, kernel=linear;, score=0.868 total time=   0.1s\n",
      "[CV 2/3] END C=1.0, degree=2, gamma=scale, kernel=linear;, score=0.865 total time=   0.1s\n",
      "[CV 3/3] END C=1.0, degree=2, gamma=scale, kernel=linear;, score=0.832 total time=   0.1s\n",
      "[CV 1/3] END C=1.0, degree=2, gamma=scale, kernel=rbf;, score=0.853 total time=   0.3s\n",
      "[CV 2/3] END C=1.0, degree=2, gamma=scale, kernel=rbf;, score=0.823 total time=   0.3s\n",
      "[CV 3/3] END C=1.0, degree=2, gamma=scale, kernel=rbf;, score=0.847 total time=   0.2s\n",
      "[CV 1/3] END C=1.0, degree=2, gamma=scale, kernel=poly;, score=0.731 total time=   0.2s\n",
      "[CV 2/3] END C=1.0, degree=2, gamma=scale, kernel=poly;, score=0.778 total time=   0.2s\n",
      "[CV 3/3] END C=1.0, degree=2, gamma=scale, kernel=poly;, score=0.682 total time=   0.2s\n",
      "[CV 1/3] END C=1.0, degree=2, gamma=auto, kernel=linear;, score=0.868 total time=   0.1s\n",
      "[CV 2/3] END C=1.0, degree=2, gamma=auto, kernel=linear;, score=0.865 total time=   0.1s\n",
      "[CV 3/3] END C=1.0, degree=2, gamma=auto, kernel=linear;, score=0.832 total time=   0.1s\n",
      "[CV 1/3] END C=1.0, degree=2, gamma=auto, kernel=rbf;, score=0.853 total time=   0.3s\n",
      "[CV 2/3] END C=1.0, degree=2, gamma=auto, kernel=rbf;, score=0.835 total time=   0.3s\n",
      "[CV 3/3] END C=1.0, degree=2, gamma=auto, kernel=rbf;, score=0.847 total time=   0.3s\n",
      "[CV 1/3] END C=1.0, degree=2, gamma=auto, kernel=poly;, score=0.743 total time=   0.2s\n",
      "[CV 2/3] END C=1.0, degree=2, gamma=auto, kernel=poly;, score=0.745 total time=   0.2s\n",
      "[CV 3/3] END C=1.0, degree=2, gamma=auto, kernel=poly;, score=0.688 total time=   0.2s\n",
      "[CV 1/3] END C=1.0, degree=3, gamma=scale, kernel=linear;, score=0.868 total time=   0.1s\n",
      "[CV 2/3] END C=1.0, degree=3, gamma=scale, kernel=linear;, score=0.865 total time=   0.1s\n",
      "[CV 3/3] END C=1.0, degree=3, gamma=scale, kernel=linear;, score=0.832 total time=   0.1s\n",
      "[CV 1/3] END C=1.0, degree=3, gamma=scale, kernel=rbf;, score=0.853 total time=   0.3s\n",
      "[CV 2/3] END C=1.0, degree=3, gamma=scale, kernel=rbf;, score=0.823 total time=   0.4s\n",
      "[CV 3/3] END C=1.0, degree=3, gamma=scale, kernel=rbf;, score=0.847 total time=   0.3s\n",
      "[CV 1/3] END C=1.0, degree=3, gamma=scale, kernel=poly;, score=0.308 total time=   0.3s\n",
      "[CV 2/3] END C=1.0, degree=3, gamma=scale, kernel=poly;, score=0.498 total time=   0.3s\n",
      "[CV 3/3] END C=1.0, degree=3, gamma=scale, kernel=poly;, score=0.273 total time=   0.3s\n",
      "[CV 1/3] END C=1.0, degree=3, gamma=auto, kernel=linear;, score=0.868 total time=   0.1s\n",
      "[CV 2/3] END C=1.0, degree=3, gamma=auto, kernel=linear;, score=0.865 total time=   0.1s\n",
      "[CV 3/3] END C=1.0, degree=3, gamma=auto, kernel=linear;, score=0.832 total time=   0.1s\n",
      "[CV 1/3] END C=1.0, degree=3, gamma=auto, kernel=rbf;, score=0.853 total time=   0.3s\n",
      "[CV 2/3] END C=1.0, degree=3, gamma=auto, kernel=rbf;, score=0.835 total time=   0.3s\n",
      "[CV 3/3] END C=1.0, degree=3, gamma=auto, kernel=rbf;, score=0.847 total time=   0.2s\n",
      "[CV 1/3] END C=1.0, degree=3, gamma=auto, kernel=poly;, score=0.317 total time=   0.2s\n",
      "[CV 2/3] END C=1.0, degree=3, gamma=auto, kernel=poly;, score=0.357 total time=   0.2s\n",
      "[CV 3/3] END C=1.0, degree=3, gamma=auto, kernel=poly;, score=0.285 total time=   0.2s\n",
      "[CV 1/3] END C=1.0, degree=4, gamma=scale, kernel=linear;, score=0.868 total time=   0.1s\n",
      "[CV 2/3] END C=1.0, degree=4, gamma=scale, kernel=linear;, score=0.865 total time=   0.1s\n",
      "[CV 3/3] END C=1.0, degree=4, gamma=scale, kernel=linear;, score=0.832 total time=   0.1s\n"
     ]
    },
    {
     "name": "stdout",
     "output_type": "stream",
     "text": [
      "[CV 1/3] END C=1.0, degree=4, gamma=scale, kernel=rbf;, score=0.853 total time=   0.2s\n",
      "[CV 2/3] END C=1.0, degree=4, gamma=scale, kernel=rbf;, score=0.823 total time=   0.3s\n",
      "[CV 3/3] END C=1.0, degree=4, gamma=scale, kernel=rbf;, score=0.847 total time=   0.3s\n",
      "[CV 1/3] END C=1.0, degree=4, gamma=scale, kernel=poly;, score=0.186 total time=   0.2s\n",
      "[CV 2/3] END C=1.0, degree=4, gamma=scale, kernel=poly;, score=0.300 total time=   0.2s\n",
      "[CV 3/3] END C=1.0, degree=4, gamma=scale, kernel=poly;, score=0.186 total time=   0.2s\n",
      "[CV 1/3] END C=1.0, degree=4, gamma=auto, kernel=linear;, score=0.868 total time=   0.1s\n",
      "[CV 2/3] END C=1.0, degree=4, gamma=auto, kernel=linear;, score=0.865 total time=   0.1s\n",
      "[CV 3/3] END C=1.0, degree=4, gamma=auto, kernel=linear;, score=0.832 total time=   0.1s\n",
      "[CV 1/3] END C=1.0, degree=4, gamma=auto, kernel=rbf;, score=0.853 total time=   0.3s\n",
      "[CV 2/3] END C=1.0, degree=4, gamma=auto, kernel=rbf;, score=0.835 total time=   0.3s\n",
      "[CV 3/3] END C=1.0, degree=4, gamma=auto, kernel=rbf;, score=0.847 total time=   0.2s\n",
      "[CV 1/3] END C=1.0, degree=4, gamma=auto, kernel=poly;, score=0.195 total time=   0.2s\n",
      "[CV 2/3] END C=1.0, degree=4, gamma=auto, kernel=poly;, score=0.237 total time=   0.2s\n",
      "[CV 3/3] END C=1.0, degree=4, gamma=auto, kernel=poly;, score=0.198 total time=   0.2s\n",
      "[CV 1/3] END C=3.0, degree=2, gamma=scale, kernel=linear;, score=0.868 total time=   0.1s\n",
      "[CV 2/3] END C=3.0, degree=2, gamma=scale, kernel=linear;, score=0.865 total time=   0.1s\n",
      "[CV 3/3] END C=3.0, degree=2, gamma=scale, kernel=linear;, score=0.832 total time=   0.1s\n",
      "[CV 1/3] END C=3.0, degree=2, gamma=scale, kernel=rbf;, score=0.862 total time=   0.3s\n",
      "[CV 2/3] END C=3.0, degree=2, gamma=scale, kernel=rbf;, score=0.850 total time=   0.3s\n",
      "[CV 3/3] END C=3.0, degree=2, gamma=scale, kernel=rbf;, score=0.859 total time=   0.3s\n",
      "[CV 1/3] END C=3.0, degree=2, gamma=scale, kernel=poly;, score=0.820 total time=   0.2s\n",
      "[CV 2/3] END C=3.0, degree=2, gamma=scale, kernel=poly;, score=0.850 total time=   0.2s\n",
      "[CV 3/3] END C=3.0, degree=2, gamma=scale, kernel=poly;, score=0.808 total time=   0.2s\n",
      "[CV 1/3] END C=3.0, degree=2, gamma=auto, kernel=linear;, score=0.868 total time=   0.1s\n",
      "[CV 2/3] END C=3.0, degree=2, gamma=auto, kernel=linear;, score=0.865 total time=   0.1s\n",
      "[CV 3/3] END C=3.0, degree=2, gamma=auto, kernel=linear;, score=0.832 total time=   0.1s\n",
      "[CV 1/3] END C=3.0, degree=2, gamma=auto, kernel=rbf;, score=0.862 total time=   0.3s\n",
      "[CV 2/3] END C=3.0, degree=2, gamma=auto, kernel=rbf;, score=0.850 total time=   0.3s\n",
      "[CV 3/3] END C=3.0, degree=2, gamma=auto, kernel=rbf;, score=0.859 total time=   0.3s\n",
      "[CV 1/3] END C=3.0, degree=2, gamma=auto, kernel=poly;, score=0.820 total time=   0.2s\n",
      "[CV 2/3] END C=3.0, degree=2, gamma=auto, kernel=poly;, score=0.832 total time=   0.2s\n",
      "[CV 3/3] END C=3.0, degree=2, gamma=auto, kernel=poly;, score=0.814 total time=   0.2s\n",
      "[CV 1/3] END C=3.0, degree=3, gamma=scale, kernel=linear;, score=0.868 total time=   0.1s\n",
      "[CV 2/3] END C=3.0, degree=3, gamma=scale, kernel=linear;, score=0.865 total time=   0.1s\n",
      "[CV 3/3] END C=3.0, degree=3, gamma=scale, kernel=linear;, score=0.832 total time=   0.1s\n",
      "[CV 1/3] END C=3.0, degree=3, gamma=scale, kernel=rbf;, score=0.862 total time=   0.3s\n",
      "[CV 2/3] END C=3.0, degree=3, gamma=scale, kernel=rbf;, score=0.850 total time=   0.3s\n",
      "[CV 3/3] END C=3.0, degree=3, gamma=scale, kernel=rbf;, score=0.859 total time=   0.3s\n",
      "[CV 1/3] END C=3.0, degree=3, gamma=scale, kernel=poly;, score=0.572 total time=   0.2s\n",
      "[CV 2/3] END C=3.0, degree=3, gamma=scale, kernel=poly;, score=0.703 total time=   0.2s\n",
      "[CV 3/3] END C=3.0, degree=3, gamma=scale, kernel=poly;, score=0.529 total time=   0.2s\n",
      "[CV 1/3] END C=3.0, degree=3, gamma=auto, kernel=linear;, score=0.868 total time=   0.1s\n",
      "[CV 2/3] END C=3.0, degree=3, gamma=auto, kernel=linear;, score=0.865 total time=   0.1s\n",
      "[CV 3/3] END C=3.0, degree=3, gamma=auto, kernel=linear;, score=0.832 total time=   0.1s\n",
      "[CV 1/3] END C=3.0, degree=3, gamma=auto, kernel=rbf;, score=0.862 total time=   0.3s\n",
      "[CV 2/3] END C=3.0, degree=3, gamma=auto, kernel=rbf;, score=0.850 total time=   0.3s\n",
      "[CV 3/3] END C=3.0, degree=3, gamma=auto, kernel=rbf;, score=0.859 total time=   0.3s\n",
      "[CV 1/3] END C=3.0, degree=3, gamma=auto, kernel=poly;, score=0.593 total time=   0.2s\n",
      "[CV 2/3] END C=3.0, degree=3, gamma=auto, kernel=poly;, score=0.604 total time=   0.2s\n",
      "[CV 3/3] END C=3.0, degree=3, gamma=auto, kernel=poly;, score=0.562 total time=   0.2s\n",
      "[CV 1/3] END C=3.0, degree=4, gamma=scale, kernel=linear;, score=0.868 total time=   0.1s\n",
      "[CV 2/3] END C=3.0, degree=4, gamma=scale, kernel=linear;, score=0.865 total time=   0.1s\n",
      "[CV 3/3] END C=3.0, degree=4, gamma=scale, kernel=linear;, score=0.832 total time=   0.1s\n",
      "[CV 1/3] END C=3.0, degree=4, gamma=scale, kernel=rbf;, score=0.862 total time=   0.3s\n",
      "[CV 2/3] END C=3.0, degree=4, gamma=scale, kernel=rbf;, score=0.850 total time=   0.3s\n",
      "[CV 3/3] END C=3.0, degree=4, gamma=scale, kernel=rbf;, score=0.859 total time=   0.3s\n",
      "[CV 1/3] END C=3.0, degree=4, gamma=scale, kernel=poly;, score=0.266 total time=   0.2s\n",
      "[CV 2/3] END C=3.0, degree=4, gamma=scale, kernel=poly;, score=0.384 total time=   0.2s\n",
      "[CV 3/3] END C=3.0, degree=4, gamma=scale, kernel=poly;, score=0.246 total time=   0.2s\n",
      "[CV 1/3] END C=3.0, degree=4, gamma=auto, kernel=linear;, score=0.868 total time=   0.1s\n",
      "[CV 2/3] END C=3.0, degree=4, gamma=auto, kernel=linear;, score=0.865 total time=   0.1s\n",
      "[CV 3/3] END C=3.0, degree=4, gamma=auto, kernel=linear;, score=0.832 total time=   0.1s\n",
      "[CV 1/3] END C=3.0, degree=4, gamma=auto, kernel=rbf;, score=0.862 total time=   0.3s\n",
      "[CV 2/3] END C=3.0, degree=4, gamma=auto, kernel=rbf;, score=0.850 total time=   0.2s\n",
      "[CV 3/3] END C=3.0, degree=4, gamma=auto, kernel=rbf;, score=0.859 total time=   0.3s\n",
      "[CV 1/3] END C=3.0, degree=4, gamma=auto, kernel=poly;, score=0.275 total time=   0.2s\n",
      "[CV 2/3] END C=3.0, degree=4, gamma=auto, kernel=poly;, score=0.321 total time=   0.2s\n",
      "[CV 3/3] END C=3.0, degree=4, gamma=auto, kernel=poly;, score=0.252 total time=   0.2s\n",
      "[CV 1/3] END C=9.0, degree=2, gamma=scale, kernel=linear;, score=0.868 total time=   0.1s\n",
      "[CV 2/3] END C=9.0, degree=2, gamma=scale, kernel=linear;, score=0.865 total time=   0.1s\n",
      "[CV 3/3] END C=9.0, degree=2, gamma=scale, kernel=linear;, score=0.832 total time=   0.1s\n",
      "[CV 1/3] END C=9.0, degree=2, gamma=scale, kernel=rbf;, score=0.868 total time=   0.3s\n",
      "[CV 2/3] END C=9.0, degree=2, gamma=scale, kernel=rbf;, score=0.856 total time=   0.3s\n",
      "[CV 3/3] END C=9.0, degree=2, gamma=scale, kernel=rbf;, score=0.856 total time=   0.3s\n",
      "[CV 1/3] END C=9.0, degree=2, gamma=scale, kernel=poly;, score=0.832 total time=   0.2s\n",
      "[CV 2/3] END C=9.0, degree=2, gamma=scale, kernel=poly;, score=0.862 total time=   0.2s\n",
      "[CV 3/3] END C=9.0, degree=2, gamma=scale, kernel=poly;, score=0.835 total time=   0.2s\n",
      "[CV 1/3] END C=9.0, degree=2, gamma=auto, kernel=linear;, score=0.868 total time=   0.1s\n",
      "[CV 2/3] END C=9.0, degree=2, gamma=auto, kernel=linear;, score=0.865 total time=   0.1s\n",
      "[CV 3/3] END C=9.0, degree=2, gamma=auto, kernel=linear;, score=0.832 total time=   0.1s\n",
      "[CV 1/3] END C=9.0, degree=2, gamma=auto, kernel=rbf;, score=0.868 total time=   0.3s\n",
      "[CV 2/3] END C=9.0, degree=2, gamma=auto, kernel=rbf;, score=0.862 total time=   0.3s\n",
      "[CV 3/3] END C=9.0, degree=2, gamma=auto, kernel=rbf;, score=0.856 total time=   0.3s\n",
      "[CV 1/3] END C=9.0, degree=2, gamma=auto, kernel=poly;, score=0.832 total time=   0.2s\n",
      "[CV 2/3] END C=9.0, degree=2, gamma=auto, kernel=poly;, score=0.859 total time=   0.2s\n",
      "[CV 3/3] END C=9.0, degree=2, gamma=auto, kernel=poly;, score=0.835 total time=   0.2s\n",
      "[CV 1/3] END C=9.0, degree=3, gamma=scale, kernel=linear;, score=0.868 total time=   0.1s\n",
      "[CV 2/3] END C=9.0, degree=3, gamma=scale, kernel=linear;, score=0.865 total time=   0.1s\n",
      "[CV 3/3] END C=9.0, degree=3, gamma=scale, kernel=linear;, score=0.832 total time=   0.1s\n",
      "[CV 1/3] END C=9.0, degree=3, gamma=scale, kernel=rbf;, score=0.868 total time=   0.3s\n",
      "[CV 2/3] END C=9.0, degree=3, gamma=scale, kernel=rbf;, score=0.856 total time=   0.3s\n",
      "[CV 3/3] END C=9.0, degree=3, gamma=scale, kernel=rbf;, score=0.856 total time=   0.3s\n",
      "[CV 1/3] END C=9.0, degree=3, gamma=scale, kernel=poly;, score=0.743 total time=   0.2s\n"
     ]
    },
    {
     "name": "stdout",
     "output_type": "stream",
     "text": [
      "[CV 2/3] END C=9.0, degree=3, gamma=scale, kernel=poly;, score=0.781 total time=   0.2s\n",
      "[CV 3/3] END C=9.0, degree=3, gamma=scale, kernel=poly;, score=0.721 total time=   0.2s\n",
      "[CV 1/3] END C=9.0, degree=3, gamma=auto, kernel=linear;, score=0.868 total time=   0.1s\n",
      "[CV 2/3] END C=9.0, degree=3, gamma=auto, kernel=linear;, score=0.865 total time=   0.1s\n",
      "[CV 3/3] END C=9.0, degree=3, gamma=auto, kernel=linear;, score=0.832 total time=   0.1s\n",
      "[CV 1/3] END C=9.0, degree=3, gamma=auto, kernel=rbf;, score=0.868 total time=   0.3s\n",
      "[CV 2/3] END C=9.0, degree=3, gamma=auto, kernel=rbf;, score=0.862 total time=   0.3s\n",
      "[CV 3/3] END C=9.0, degree=3, gamma=auto, kernel=rbf;, score=0.856 total time=   0.3s\n",
      "[CV 1/3] END C=9.0, degree=3, gamma=auto, kernel=poly;, score=0.749 total time=   0.2s\n",
      "[CV 2/3] END C=9.0, degree=3, gamma=auto, kernel=poly;, score=0.733 total time=   0.2s\n",
      "[CV 3/3] END C=9.0, degree=3, gamma=auto, kernel=poly;, score=0.730 total time=   0.2s\n",
      "[CV 1/3] END C=9.0, degree=4, gamma=scale, kernel=linear;, score=0.868 total time=   0.1s\n",
      "[CV 2/3] END C=9.0, degree=4, gamma=scale, kernel=linear;, score=0.865 total time=   0.1s\n",
      "[CV 3/3] END C=9.0, degree=4, gamma=scale, kernel=linear;, score=0.832 total time=   0.2s\n",
      "[CV 1/3] END C=9.0, degree=4, gamma=scale, kernel=rbf;, score=0.868 total time=   0.3s\n",
      "[CV 2/3] END C=9.0, degree=4, gamma=scale, kernel=rbf;, score=0.856 total time=   0.3s\n",
      "[CV 3/3] END C=9.0, degree=4, gamma=scale, kernel=rbf;, score=0.856 total time=   0.3s\n",
      "[CV 1/3] END C=9.0, degree=4, gamma=scale, kernel=poly;, score=0.395 total time=   0.3s\n",
      "[CV 2/3] END C=9.0, degree=4, gamma=scale, kernel=poly;, score=0.601 total time=   0.3s\n",
      "[CV 3/3] END C=9.0, degree=4, gamma=scale, kernel=poly;, score=0.354 total time=   0.3s\n",
      "[CV 1/3] END C=9.0, degree=4, gamma=auto, kernel=linear;, score=0.868 total time=   0.1s\n",
      "[CV 2/3] END C=9.0, degree=4, gamma=auto, kernel=linear;, score=0.865 total time=   0.1s\n",
      "[CV 3/3] END C=9.0, degree=4, gamma=auto, kernel=linear;, score=0.832 total time=   0.1s\n",
      "[CV 1/3] END C=9.0, degree=4, gamma=auto, kernel=rbf;, score=0.868 total time=   0.3s\n",
      "[CV 2/3] END C=9.0, degree=4, gamma=auto, kernel=rbf;, score=0.862 total time=   0.3s\n",
      "[CV 3/3] END C=9.0, degree=4, gamma=auto, kernel=rbf;, score=0.856 total time=   0.3s\n",
      "[CV 1/3] END C=9.0, degree=4, gamma=auto, kernel=poly;, score=0.419 total time=   0.3s\n",
      "[CV 2/3] END C=9.0, degree=4, gamma=auto, kernel=poly;, score=0.387 total time=   0.3s\n",
      "[CV 3/3] END C=9.0, degree=4, gamma=auto, kernel=poly;, score=0.372 total time=   0.3s\n"
     ]
    },
    {
     "data": {
      "text/plain": [
       "GridSearchCV(cv=3, estimator=SVC(),\n",
       "             param_grid={'C': [0.33, 1.0, 3.0, 9.0], 'degree': [2, 3, 4],\n",
       "                         'gamma': ['scale', 'auto'],\n",
       "                         'kernel': ['linear', 'rbf', 'poly']},\n",
       "             verbose=3)"
      ]
     },
     "execution_count": 87,
     "metadata": {},
     "output_type": "execute_result"
    }
   ],
   "source": [
    "gridsrch.fit(X_little, y_little)"
   ]
  },
  {
   "cell_type": "code",
   "execution_count": 90,
   "id": "cd517fd7",
   "metadata": {},
   "outputs": [
    {
     "data": {
      "text/plain": [
       "{'C': 9.0, 'degree': 2, 'gamma': 'auto', 'kernel': 'rbf'}"
      ]
     },
     "execution_count": 90,
     "metadata": {},
     "output_type": "execute_result"
    }
   ],
   "source": [
    "gridsrch.best_params_"
   ]
  },
  {
   "cell_type": "code",
   "execution_count": 91,
   "id": "da41c378",
   "metadata": {},
   "outputs": [
    {
     "data": {
      "text/plain": [
       "0.8619937302572033"
      ]
     },
     "execution_count": 91,
     "metadata": {},
     "output_type": "execute_result"
    }
   ],
   "source": [
    "gridsrch.best_score_"
   ]
  },
  {
   "cell_type": "code",
   "execution_count": 92,
   "id": "72981f3c",
   "metadata": {
    "collapsed": true
   },
   "outputs": [
    {
     "name": "stdout",
     "output_type": "stream",
     "text": [
      "Fitting 3 folds for each of 22 candidates, totalling 66 fits\n",
      "[CV 1/3] END ....C=0.1, gamma=scale, kernel=rbf;, score=0.497 total time=   0.3s\n",
      "[CV 2/3] END ....C=0.1, gamma=scale, kernel=rbf;, score=0.529 total time=   0.3s\n",
      "[CV 3/3] END ....C=0.1, gamma=scale, kernel=rbf;, score=0.492 total time=   0.3s\n",
      "[CV 1/3] END .....C=0.1, gamma=auto, kernel=rbf;, score=0.500 total time=   0.3s\n",
      "[CV 2/3] END .....C=0.1, gamma=auto, kernel=rbf;, score=0.535 total time=   0.3s\n",
      "[CV 3/3] END .....C=0.1, gamma=auto, kernel=rbf;, score=0.498 total time=   0.3s\n",
      "[CV 1/3] END ...C=0.33, gamma=scale, kernel=rbf;, score=0.805 total time=   0.3s\n",
      "[CV 2/3] END ...C=0.33, gamma=scale, kernel=rbf;, score=0.781 total time=   0.3s\n",
      "[CV 3/3] END ...C=0.33, gamma=scale, kernel=rbf;, score=0.775 total time=   0.3s\n",
      "[CV 1/3] END ....C=0.33, gamma=auto, kernel=rbf;, score=0.805 total time=   0.3s\n",
      "[CV 2/3] END ....C=0.33, gamma=auto, kernel=rbf;, score=0.790 total time=   0.3s\n",
      "[CV 3/3] END ....C=0.33, gamma=auto, kernel=rbf;, score=0.778 total time=   0.3s\n",
      "[CV 1/3] END ...C=0.66, gamma=scale, kernel=rbf;, score=0.850 total time=   0.2s\n",
      "[CV 2/3] END ...C=0.66, gamma=scale, kernel=rbf;, score=0.814 total time=   0.2s\n",
      "[CV 3/3] END ...C=0.66, gamma=scale, kernel=rbf;, score=0.841 total time=   0.2s\n",
      "[CV 1/3] END ....C=0.66, gamma=auto, kernel=rbf;, score=0.850 total time=   0.2s\n",
      "[CV 2/3] END ....C=0.66, gamma=auto, kernel=rbf;, score=0.817 total time=   0.2s\n",
      "[CV 3/3] END ....C=0.66, gamma=auto, kernel=rbf;, score=0.832 total time=   0.2s\n",
      "[CV 1/3] END ....C=1.0, gamma=scale, kernel=rbf;, score=0.853 total time=   0.2s\n",
      "[CV 2/3] END ....C=1.0, gamma=scale, kernel=rbf;, score=0.823 total time=   0.2s\n",
      "[CV 3/3] END ....C=1.0, gamma=scale, kernel=rbf;, score=0.847 total time=   0.2s\n",
      "[CV 1/3] END .....C=1.0, gamma=auto, kernel=rbf;, score=0.853 total time=   0.2s\n",
      "[CV 2/3] END .....C=1.0, gamma=auto, kernel=rbf;, score=0.835 total time=   0.2s\n",
      "[CV 3/3] END .....C=1.0, gamma=auto, kernel=rbf;, score=0.847 total time=   0.2s\n",
      "[CV 1/3] END ....C=3.0, gamma=scale, kernel=rbf;, score=0.862 total time=   0.3s\n",
      "[CV 2/3] END ....C=3.0, gamma=scale, kernel=rbf;, score=0.850 total time=   0.3s\n",
      "[CV 3/3] END ....C=3.0, gamma=scale, kernel=rbf;, score=0.859 total time=   0.2s\n",
      "[CV 1/3] END .....C=3.0, gamma=auto, kernel=rbf;, score=0.862 total time=   0.3s\n",
      "[CV 2/3] END .....C=3.0, gamma=auto, kernel=rbf;, score=0.850 total time=   0.2s\n",
      "[CV 3/3] END .....C=3.0, gamma=auto, kernel=rbf;, score=0.859 total time=   0.3s\n",
      "[CV 1/3] END ....C=5.0, gamma=scale, kernel=rbf;, score=0.871 total time=   0.3s\n",
      "[CV 2/3] END ....C=5.0, gamma=scale, kernel=rbf;, score=0.856 total time=   0.3s\n",
      "[CV 3/3] END ....C=5.0, gamma=scale, kernel=rbf;, score=0.862 total time=   0.2s\n",
      "[CV 1/3] END .....C=5.0, gamma=auto, kernel=rbf;, score=0.871 total time=   0.3s\n",
      "[CV 2/3] END .....C=5.0, gamma=auto, kernel=rbf;, score=0.859 total time=   0.2s\n",
      "[CV 3/3] END .....C=5.0, gamma=auto, kernel=rbf;, score=0.862 total time=   0.3s\n",
      "[CV 1/3] END ....C=7.0, gamma=scale, kernel=rbf;, score=0.868 total time=   0.3s\n",
      "[CV 2/3] END ....C=7.0, gamma=scale, kernel=rbf;, score=0.856 total time=   0.3s\n",
      "[CV 3/3] END ....C=7.0, gamma=scale, kernel=rbf;, score=0.856 total time=   0.2s\n",
      "[CV 1/3] END .....C=7.0, gamma=auto, kernel=rbf;, score=0.868 total time=   0.2s\n",
      "[CV 2/3] END .....C=7.0, gamma=auto, kernel=rbf;, score=0.859 total time=   0.3s\n",
      "[CV 3/3] END .....C=7.0, gamma=auto, kernel=rbf;, score=0.856 total time=   0.2s\n",
      "[CV 1/3] END ....C=9.0, gamma=scale, kernel=rbf;, score=0.868 total time=   0.3s\n",
      "[CV 2/3] END ....C=9.0, gamma=scale, kernel=rbf;, score=0.856 total time=   0.3s\n",
      "[CV 3/3] END ....C=9.0, gamma=scale, kernel=rbf;, score=0.856 total time=   0.3s\n",
      "[CV 1/3] END .....C=9.0, gamma=auto, kernel=rbf;, score=0.868 total time=   0.3s\n",
      "[CV 2/3] END .....C=9.0, gamma=auto, kernel=rbf;, score=0.862 total time=   0.3s\n",
      "[CV 3/3] END .....C=9.0, gamma=auto, kernel=rbf;, score=0.856 total time=   0.2s\n",
      "[CV 1/3] END ...C=11.0, gamma=scale, kernel=rbf;, score=0.868 total time=   0.3s\n",
      "[CV 2/3] END ...C=11.0, gamma=scale, kernel=rbf;, score=0.856 total time=   0.3s\n",
      "[CV 3/3] END ...C=11.0, gamma=scale, kernel=rbf;, score=0.856 total time=   0.3s\n",
      "[CV 1/3] END ....C=11.0, gamma=auto, kernel=rbf;, score=0.868 total time=   0.3s\n",
      "[CV 2/3] END ....C=11.0, gamma=auto, kernel=rbf;, score=0.862 total time=   0.3s\n",
      "[CV 3/3] END ....C=11.0, gamma=auto, kernel=rbf;, score=0.856 total time=   0.2s\n",
      "[CV 1/3] END ...C=15.0, gamma=scale, kernel=rbf;, score=0.868 total time=   0.3s\n",
      "[CV 2/3] END ...C=15.0, gamma=scale, kernel=rbf;, score=0.856 total time=   0.3s\n",
      "[CV 3/3] END ...C=15.0, gamma=scale, kernel=rbf;, score=0.856 total time=   0.3s\n",
      "[CV 1/3] END ....C=15.0, gamma=auto, kernel=rbf;, score=0.868 total time=   0.3s\n",
      "[CV 2/3] END ....C=15.0, gamma=auto, kernel=rbf;, score=0.862 total time=   0.2s\n",
      "[CV 3/3] END ....C=15.0, gamma=auto, kernel=rbf;, score=0.856 total time=   0.2s\n",
      "[CV 1/3] END ...C=20.0, gamma=scale, kernel=rbf;, score=0.868 total time=   0.3s\n",
      "[CV 2/3] END ...C=20.0, gamma=scale, kernel=rbf;, score=0.856 total time=   0.3s\n",
      "[CV 3/3] END ...C=20.0, gamma=scale, kernel=rbf;, score=0.856 total time=   0.3s\n",
      "[CV 1/3] END ....C=20.0, gamma=auto, kernel=rbf;, score=0.868 total time=   0.2s\n",
      "[CV 2/3] END ....C=20.0, gamma=auto, kernel=rbf;, score=0.862 total time=   0.3s\n",
      "[CV 3/3] END ....C=20.0, gamma=auto, kernel=rbf;, score=0.856 total time=   0.3s\n"
     ]
    },
    {
     "data": {
      "text/plain": [
       "GridSearchCV(cv=3, estimator=SVC(),\n",
       "             param_grid={'C': [0.1, 0.33, 0.66, 1.0, 3.0, 5.0, 7.0, 9.0, 11.0,\n",
       "                               15.0, 20.0],\n",
       "                         'gamma': ['scale', 'auto'], 'kernel': ['rbf']},\n",
       "             verbose=3)"
      ]
     },
     "execution_count": 92,
     "metadata": {},
     "output_type": "execute_result"
    }
   ],
   "source": [
    "params2 = {'C':[0.1, 0.33, 0.66, 1.0, 3.0, 5.0, 7.0, 9.0, 11.0, 15.0, 20.0], 'kernel':['rbf'], 'gamma':['scale', 'auto']}\n",
    "gridsrch = GridSearchCV(svc, params2, cv=3, verbose=3)\n",
    "gridsrch.fit(X_little, y_little)"
   ]
  },
  {
   "cell_type": "code",
   "execution_count": 93,
   "id": "14c06bfd",
   "metadata": {},
   "outputs": [
    {
     "data": {
      "text/plain": [
       "{'C': 5.0, 'gamma': 'auto', 'kernel': 'rbf'}"
      ]
     },
     "execution_count": 93,
     "metadata": {},
     "output_type": "execute_result"
    }
   ],
   "source": [
    "gridsrch.best_params_"
   ]
  },
  {
   "cell_type": "code",
   "execution_count": 94,
   "id": "475526e7",
   "metadata": {},
   "outputs": [
    {
     "data": {
      "text/plain": [
       "0.8639927352502204"
      ]
     },
     "execution_count": 94,
     "metadata": {},
     "output_type": "execute_result"
    }
   ],
   "source": [
    "gridsrch.best_score_"
   ]
  },
  {
   "cell_type": "code",
   "execution_count": 95,
   "id": "920e5b0b",
   "metadata": {},
   "outputs": [
    {
     "data": {
      "text/plain": [
       "SVC(C=5.0, gamma='auto')"
      ]
     },
     "execution_count": 95,
     "metadata": {},
     "output_type": "execute_result"
    }
   ],
   "source": [
    "gridsrch.best_estimator_"
   ]
  },
  {
   "cell_type": "code",
   "execution_count": 96,
   "id": "a8c6be3e",
   "metadata": {},
   "outputs": [],
   "source": [
    "svc = gridsrch.best_estimator_"
   ]
  },
  {
   "cell_type": "code",
   "execution_count": 8,
   "id": "e5e088f0",
   "metadata": {},
   "outputs": [],
   "source": [
    "from sklearn.svm import SVC\n",
    "\n",
    "svc = SVC(C=5.0, gamma='auto')"
   ]
  },
  {
   "cell_type": "code",
   "execution_count": 9,
   "id": "85e87ba2",
   "metadata": {
    "scrolled": true
   },
   "outputs": [
    {
     "name": "stderr",
     "output_type": "stream",
     "text": [
      "[Parallel(n_jobs=1)]: Using backend SequentialBackend with 1 concurrent workers.\n"
     ]
    },
    {
     "name": "stdout",
     "output_type": "stream",
     "text": [
      "[CV] END ................................ score: (test=0.968) total time= 6.6min\n"
     ]
    },
    {
     "name": "stderr",
     "output_type": "stream",
     "text": [
      "[Parallel(n_jobs=1)]: Done   1 out of   1 | elapsed:  6.6min remaining:    0.0s\n"
     ]
    },
    {
     "name": "stdout",
     "output_type": "stream",
     "text": [
      "[CV] END ................................ score: (test=0.966) total time= 6.6min\n"
     ]
    },
    {
     "name": "stderr",
     "output_type": "stream",
     "text": [
      "[Parallel(n_jobs=1)]: Done   2 out of   2 | elapsed: 13.3min remaining:    0.0s\n"
     ]
    },
    {
     "name": "stdout",
     "output_type": "stream",
     "text": [
      "[CV] END ................................ score: (test=0.967) total time= 6.5min\n"
     ]
    },
    {
     "name": "stderr",
     "output_type": "stream",
     "text": [
      "[Parallel(n_jobs=1)]: Done   3 out of   3 | elapsed: 19.8min finished\n"
     ]
    },
    {
     "data": {
      "text/plain": [
       "array([0.9682 , 0.96645, 0.967  ])"
      ]
     },
     "execution_count": 9,
     "metadata": {},
     "output_type": "execute_result"
    }
   ],
   "source": [
    "cross_val_score(svc, X_train_sc, y_train, cv=3, scoring=\"accuracy\", verbose=3)"
   ]
  },
  {
   "cell_type": "markdown",
   "id": "23ead67c",
   "metadata": {},
   "source": [
    "# Exercise 10"
   ]
  },
  {
   "cell_type": "code",
   "execution_count": 3,
   "id": "6e341c0a",
   "metadata": {},
   "outputs": [],
   "source": [
    "from sklearn.datasets import fetch_california_housing\n",
    "\n",
    "housing = fetch_california_housing(as_frame=True)\n",
    "X = housing[\"data\"]\n",
    "y = housing[\"target\"]"
   ]
  },
  {
   "cell_type": "code",
   "execution_count": 14,
   "id": "f888ab44",
   "metadata": {},
   "outputs": [
    {
     "data": {
      "text/plain": [
       "'.. _california_housing_dataset:\\n\\nCalifornia Housing dataset\\n--------------------------\\n\\n**Data Set Characteristics:**\\n\\n    :Number of Instances: 20640\\n\\n    :Number of Attributes: 8 numeric, predictive attributes and the target\\n\\n    :Attribute Information:\\n        - MedInc        median income in block\\n        - HouseAge      median house age in block\\n        - AveRooms      average number of rooms\\n        - AveBedrms     average number of bedrooms\\n        - Population    block population\\n        - AveOccup      average house occupancy\\n        - Latitude      house block latitude\\n        - Longitude     house block longitude\\n\\n    :Missing Attribute Values: None\\n\\nThis dataset was obtained from the StatLib repository.\\nhttp://lib.stat.cmu.edu/datasets/\\n\\nThe target variable is the median house value for California districts.\\n\\nThis dataset was derived from the 1990 U.S. census, using one row per census\\nblock group. A block group is the smallest geographical unit for which the U.S.\\nCensus Bureau publishes sample data (a block group typically has a population\\nof 600 to 3,000 people).\\n\\nIt can be downloaded/loaded using the\\n:func:`sklearn.datasets.fetch_california_housing` function.\\n\\n.. topic:: References\\n\\n    - Pace, R. Kelley and Ronald Barry, Sparse Spatial Autoregressions,\\n      Statistics and Probability Letters, 33 (1997) 291-297\\n'"
      ]
     },
     "execution_count": 14,
     "metadata": {},
     "output_type": "execute_result"
    }
   ],
   "source": [
    "housing['DESCR']"
   ]
  },
  {
   "cell_type": "code",
   "execution_count": 6,
   "id": "53ca2149",
   "metadata": {},
   "outputs": [
    {
     "data": {
      "text/html": [
       "<div>\n",
       "<style scoped>\n",
       "    .dataframe tbody tr th:only-of-type {\n",
       "        vertical-align: middle;\n",
       "    }\n",
       "\n",
       "    .dataframe tbody tr th {\n",
       "        vertical-align: top;\n",
       "    }\n",
       "\n",
       "    .dataframe thead th {\n",
       "        text-align: right;\n",
       "    }\n",
       "</style>\n",
       "<table border=\"1\" class=\"dataframe\">\n",
       "  <thead>\n",
       "    <tr style=\"text-align: right;\">\n",
       "      <th></th>\n",
       "      <th>MedInc</th>\n",
       "      <th>HouseAge</th>\n",
       "      <th>AveRooms</th>\n",
       "      <th>AveBedrms</th>\n",
       "      <th>Population</th>\n",
       "      <th>AveOccup</th>\n",
       "      <th>Latitude</th>\n",
       "      <th>Longitude</th>\n",
       "    </tr>\n",
       "  </thead>\n",
       "  <tbody>\n",
       "    <tr>\n",
       "      <th>0</th>\n",
       "      <td>8.3252</td>\n",
       "      <td>41.0</td>\n",
       "      <td>6.984127</td>\n",
       "      <td>1.023810</td>\n",
       "      <td>322.0</td>\n",
       "      <td>2.555556</td>\n",
       "      <td>37.88</td>\n",
       "      <td>-122.23</td>\n",
       "    </tr>\n",
       "    <tr>\n",
       "      <th>1</th>\n",
       "      <td>8.3014</td>\n",
       "      <td>21.0</td>\n",
       "      <td>6.238137</td>\n",
       "      <td>0.971880</td>\n",
       "      <td>2401.0</td>\n",
       "      <td>2.109842</td>\n",
       "      <td>37.86</td>\n",
       "      <td>-122.22</td>\n",
       "    </tr>\n",
       "    <tr>\n",
       "      <th>2</th>\n",
       "      <td>7.2574</td>\n",
       "      <td>52.0</td>\n",
       "      <td>8.288136</td>\n",
       "      <td>1.073446</td>\n",
       "      <td>496.0</td>\n",
       "      <td>2.802260</td>\n",
       "      <td>37.85</td>\n",
       "      <td>-122.24</td>\n",
       "    </tr>\n",
       "    <tr>\n",
       "      <th>3</th>\n",
       "      <td>5.6431</td>\n",
       "      <td>52.0</td>\n",
       "      <td>5.817352</td>\n",
       "      <td>1.073059</td>\n",
       "      <td>558.0</td>\n",
       "      <td>2.547945</td>\n",
       "      <td>37.85</td>\n",
       "      <td>-122.25</td>\n",
       "    </tr>\n",
       "    <tr>\n",
       "      <th>4</th>\n",
       "      <td>3.8462</td>\n",
       "      <td>52.0</td>\n",
       "      <td>6.281853</td>\n",
       "      <td>1.081081</td>\n",
       "      <td>565.0</td>\n",
       "      <td>2.181467</td>\n",
       "      <td>37.85</td>\n",
       "      <td>-122.25</td>\n",
       "    </tr>\n",
       "    <tr>\n",
       "      <th>5</th>\n",
       "      <td>4.0368</td>\n",
       "      <td>52.0</td>\n",
       "      <td>4.761658</td>\n",
       "      <td>1.103627</td>\n",
       "      <td>413.0</td>\n",
       "      <td>2.139896</td>\n",
       "      <td>37.85</td>\n",
       "      <td>-122.25</td>\n",
       "    </tr>\n",
       "    <tr>\n",
       "      <th>6</th>\n",
       "      <td>3.6591</td>\n",
       "      <td>52.0</td>\n",
       "      <td>4.931907</td>\n",
       "      <td>0.951362</td>\n",
       "      <td>1094.0</td>\n",
       "      <td>2.128405</td>\n",
       "      <td>37.84</td>\n",
       "      <td>-122.25</td>\n",
       "    </tr>\n",
       "    <tr>\n",
       "      <th>7</th>\n",
       "      <td>3.1200</td>\n",
       "      <td>52.0</td>\n",
       "      <td>4.797527</td>\n",
       "      <td>1.061824</td>\n",
       "      <td>1157.0</td>\n",
       "      <td>1.788253</td>\n",
       "      <td>37.84</td>\n",
       "      <td>-122.25</td>\n",
       "    </tr>\n",
       "    <tr>\n",
       "      <th>8</th>\n",
       "      <td>2.0804</td>\n",
       "      <td>42.0</td>\n",
       "      <td>4.294118</td>\n",
       "      <td>1.117647</td>\n",
       "      <td>1206.0</td>\n",
       "      <td>2.026891</td>\n",
       "      <td>37.84</td>\n",
       "      <td>-122.26</td>\n",
       "    </tr>\n",
       "    <tr>\n",
       "      <th>9</th>\n",
       "      <td>3.6912</td>\n",
       "      <td>52.0</td>\n",
       "      <td>4.970588</td>\n",
       "      <td>0.990196</td>\n",
       "      <td>1551.0</td>\n",
       "      <td>2.172269</td>\n",
       "      <td>37.84</td>\n",
       "      <td>-122.25</td>\n",
       "    </tr>\n",
       "  </tbody>\n",
       "</table>\n",
       "</div>"
      ],
      "text/plain": [
       "   MedInc  HouseAge  AveRooms  AveBedrms  Population  AveOccup  Latitude  \\\n",
       "0  8.3252      41.0  6.984127   1.023810       322.0  2.555556     37.88   \n",
       "1  8.3014      21.0  6.238137   0.971880      2401.0  2.109842     37.86   \n",
       "2  7.2574      52.0  8.288136   1.073446       496.0  2.802260     37.85   \n",
       "3  5.6431      52.0  5.817352   1.073059       558.0  2.547945     37.85   \n",
       "4  3.8462      52.0  6.281853   1.081081       565.0  2.181467     37.85   \n",
       "5  4.0368      52.0  4.761658   1.103627       413.0  2.139896     37.85   \n",
       "6  3.6591      52.0  4.931907   0.951362      1094.0  2.128405     37.84   \n",
       "7  3.1200      52.0  4.797527   1.061824      1157.0  1.788253     37.84   \n",
       "8  2.0804      42.0  4.294118   1.117647      1206.0  2.026891     37.84   \n",
       "9  3.6912      52.0  4.970588   0.990196      1551.0  2.172269     37.84   \n",
       "\n",
       "   Longitude  \n",
       "0    -122.23  \n",
       "1    -122.22  \n",
       "2    -122.24  \n",
       "3    -122.25  \n",
       "4    -122.25  \n",
       "5    -122.25  \n",
       "6    -122.25  \n",
       "7    -122.25  \n",
       "8    -122.26  \n",
       "9    -122.25  "
      ]
     },
     "execution_count": 6,
     "metadata": {},
     "output_type": "execute_result"
    }
   ],
   "source": [
    "X.head(10)"
   ]
  },
  {
   "cell_type": "code",
   "execution_count": 7,
   "id": "6aaa845c",
   "metadata": {},
   "outputs": [
    {
     "name": "stdout",
     "output_type": "stream",
     "text": [
      "<class 'pandas.core.frame.DataFrame'>\n",
      "RangeIndex: 20640 entries, 0 to 20639\n",
      "Data columns (total 8 columns):\n",
      " #   Column      Non-Null Count  Dtype  \n",
      "---  ------      --------------  -----  \n",
      " 0   MedInc      20640 non-null  float64\n",
      " 1   HouseAge    20640 non-null  float64\n",
      " 2   AveRooms    20640 non-null  float64\n",
      " 3   AveBedrms   20640 non-null  float64\n",
      " 4   Population  20640 non-null  float64\n",
      " 5   AveOccup    20640 non-null  float64\n",
      " 6   Latitude    20640 non-null  float64\n",
      " 7   Longitude   20640 non-null  float64\n",
      "dtypes: float64(8)\n",
      "memory usage: 1.3 MB\n"
     ]
    }
   ],
   "source": [
    "X.info()"
   ]
  },
  {
   "cell_type": "code",
   "execution_count": 9,
   "id": "b2498aca",
   "metadata": {
    "scrolled": true
   },
   "outputs": [
    {
     "data": {
      "text/plain": [
       "pandas.core.series.Series"
      ]
     },
     "execution_count": 9,
     "metadata": {},
     "output_type": "execute_result"
    }
   ],
   "source": [
    "type(y)"
   ]
  },
  {
   "cell_type": "code",
   "execution_count": 12,
   "id": "5ba14fea",
   "metadata": {},
   "outputs": [
    {
     "data": {
      "text/plain": [
       "0        4.526\n",
       "1        3.585\n",
       "2        3.521\n",
       "3        3.413\n",
       "4        3.422\n",
       "         ...  \n",
       "20635    0.781\n",
       "20636    0.771\n",
       "20637    0.923\n",
       "20638    0.847\n",
       "20639    0.894\n",
       "Name: MedHouseVal, Length: 20640, dtype: float64"
      ]
     },
     "execution_count": 12,
     "metadata": {},
     "output_type": "execute_result"
    }
   ],
   "source": [
    "y"
   ]
  },
  {
   "cell_type": "code",
   "execution_count": 23,
   "id": "989d612f",
   "metadata": {},
   "outputs": [
    {
     "data": {
      "text/plain": [
       "array([[<AxesSubplot:title={'center':'MedInc'}>,\n",
       "        <AxesSubplot:title={'center':'HouseAge'}>,\n",
       "        <AxesSubplot:title={'center':'AveRooms'}>],\n",
       "       [<AxesSubplot:title={'center':'AveBedrms'}>,\n",
       "        <AxesSubplot:title={'center':'Population'}>,\n",
       "        <AxesSubplot:title={'center':'AveOccup'}>],\n",
       "       [<AxesSubplot:title={'center':'Latitude'}>,\n",
       "        <AxesSubplot:title={'center':'Longitude'}>, <AxesSubplot:>]],\n",
       "      dtype=object)"
      ]
     },
     "execution_count": 23,
     "metadata": {},
     "output_type": "execute_result"
    },
    {
     "data": {
      "image/png": "[encoded data removed]",
      "text/plain": [
       "<Figure size 1440x1080 with 9 Axes>"
      ]
     },
     "metadata": {
      "needs_background": "light"
     },
     "output_type": "display_data"
    }
   ],
   "source": [
    "X.hist(bins=30, figsize=(20,15), grid=True)"
   ]
  },
  {
   "cell_type": "code",
   "execution_count": 35,
   "id": "57696489",
   "metadata": {},
   "outputs": [
    {
     "data": {
      "text/plain": [
       "array([[<AxesSubplot:title={'center':'AveRooms'}>,\n",
       "        <AxesSubplot:title={'center':'AveBedrms'}>],\n",
       "       [<AxesSubplot:title={'center':'Population'}>,\n",
       "        <AxesSubplot:title={'center':'AveOccup'}>]], dtype=object)"
      ]
     },
     "execution_count": 35,
     "metadata": {},
     "output_type": "execute_result"
    },
    {
     "data": {
      "image/png": "[encoded data removed]",
      "text/plain": [
       "<Figure size 1440x1080 with 4 Axes>"
      ]
     },
     "metadata": {
      "needs_background": "light"
     },
     "output_type": "display_data"
    }
   ],
   "source": [
    "X[['AveRooms','AveBedrms','Population','AveOccup' ]].hist(bins=50, figsize=(20,15), grid=True)"
   ]
  },
  {
   "cell_type": "code",
   "execution_count": 39,
   "id": "02bdd429",
   "metadata": {},
   "outputs": [],
   "source": [
    "X_sc = scaler.fit_transform(X)"
   ]
  },
  {
   "cell_type": "code",
   "execution_count": 40,
   "id": "6fa29675",
   "metadata": {},
   "outputs": [
    {
     "data": {
      "text/plain": [
       "array([[ 2.34476576,  0.98214266,  0.62855945, ..., -0.04959654,\n",
       "         1.05254828, -1.32783522],\n",
       "       [ 2.33223796, -0.60701891,  0.32704136, ..., -0.09251223,\n",
       "         1.04318455, -1.32284391],\n",
       "       [ 1.7826994 ,  1.85618152,  1.15562047, ..., -0.02584253,\n",
       "         1.03850269, -1.33282653],\n",
       "       ...,\n",
       "       [-1.14259331, -0.92485123, -0.09031802, ..., -0.0717345 ,\n",
       "         1.77823747, -0.8237132 ],\n",
       "       [-1.05458292, -0.84539315, -0.04021111, ..., -0.09122515,\n",
       "         1.77823747, -0.87362627],\n",
       "       [-0.78012947, -1.00430931, -0.07044252, ..., -0.04368215,\n",
       "         1.75014627, -0.83369581]])"
      ]
     },
     "execution_count": 40,
     "metadata": {},
     "output_type": "execute_result"
    }
   ],
   "source": [
    "X_sc"
   ]
  },
  {
   "cell_type": "code",
   "execution_count": 41,
   "id": "ede7d0fd",
   "metadata": {},
   "outputs": [],
   "source": [
    "from sklearn.model_selection import train_test_split\n",
    "\n",
    "X_train, X_test, y_train, y_test = train_test_split(X_sc, y, test_size=0.2)"
   ]
  },
  {
   "cell_type": "code",
   "execution_count": 46,
   "id": "e8fe049e",
   "metadata": {},
   "outputs": [],
   "source": [
    "from sklearn.svm import SVR\n",
    "\n",
    "svr = SVR()"
   ]
  },
  {
   "cell_type": "code",
   "execution_count": 62,
   "id": "ebc05a0d",
   "metadata": {},
   "outputs": [],
   "source": [
    "y_train_arr = np.array(y_train).astype(float)"
   ]
  },
  {
   "cell_type": "code",
   "execution_count": 65,
   "id": "f5623f49",
   "metadata": {},
   "outputs": [
    {
     "name": "stdout",
     "output_type": "stream",
     "text": [
      "[CV] END ................................ score: (test=0.639) total time=   0.0s\n",
      "[CV] END ................................ score: (test=0.618) total time=   0.0s\n",
      "[CV] END ................................ score: (test=0.688) total time=   0.0s\n"
     ]
    },
    {
     "name": "stderr",
     "output_type": "stream",
     "text": [
      "[Parallel(n_jobs=1)]: Using backend SequentialBackend with 1 concurrent workers.\n",
      "[Parallel(n_jobs=1)]: Done   1 out of   1 | elapsed:    0.0s remaining:    0.0s\n",
      "[Parallel(n_jobs=1)]: Done   2 out of   2 | elapsed:    0.1s remaining:    0.0s\n",
      "[Parallel(n_jobs=1)]: Done   3 out of   3 | elapsed:    0.1s remaining:    0.0s\n",
      "[Parallel(n_jobs=1)]: Done   3 out of   3 | elapsed:    0.1s finished\n"
     ]
    },
    {
     "data": {
      "text/plain": [
       "array([0.63942859, 0.61849738, 0.68797617])"
      ]
     },
     "execution_count": 65,
     "metadata": {},
     "output_type": "execute_result"
    }
   ],
   "source": [
    "from sklearn.model_selection import cross_val_score\n",
    "\n",
    "cross_val_score(svr, X_train[:1000], y_train[:1000], cv=3, verbose=5)"
   ]
  },
  {
   "cell_type": "code",
   "execution_count": 61,
   "id": "b2bd66dd",
   "metadata": {},
   "outputs": [
    {
     "data": {
      "text/plain": [
       "array([1.582, 4.5  , 1.25 , ..., 1.25 , 3.088, 4.636])"
      ]
     },
     "execution_count": 61,
     "metadata": {},
     "output_type": "execute_result"
    }
   ],
   "source": [
    "np.array(y_train).astype(float)"
   ]
  },
  {
   "cell_type": "code",
   "execution_count": 72,
   "id": "69fb21de",
   "metadata": {},
   "outputs": [
    {
     "name": "stdout",
     "output_type": "stream",
     "text": [
      "Fitting 3 folds for each of 10 candidates, totalling 30 fits\n",
      "[CV 1/3] END C=4.745401188473625, gamma=0.07969454818643928;, score=0.720 total time=   1.3s\n",
      "[CV 2/3] END C=4.745401188473625, gamma=0.07969454818643928;, score=0.748 total time=   1.4s\n",
      "[CV 3/3] END C=4.745401188473625, gamma=0.07969454818643928;, score=0.721 total time=   1.5s\n",
      "[CV 1/3] END C=8.31993941811405, gamma=0.015751320499779724;, score=0.684 total time=   1.3s\n",
      "[CV 2/3] END C=8.31993941811405, gamma=0.015751320499779724;, score=0.708 total time=   1.4s\n",
      "[CV 3/3] END C=8.31993941811405, gamma=0.015751320499779724;, score=0.687 total time=   1.5s\n",
      "[CV 1/3] END C=2.560186404424365, gamma=0.002051110418843397;, score=0.590 total time=   1.4s\n",
      "[CV 2/3] END C=2.560186404424365, gamma=0.002051110418843397;, score=0.632 total time=   1.3s\n",
      "[CV 3/3] END C=2.560186404424365, gamma=0.002051110418843397;, score=0.590 total time=   1.3s\n",
      "[CV 1/3] END C=1.5808361216819946, gamma=0.05399484409787431;, score=0.691 total time=   1.3s\n",
      "[CV 2/3] END C=1.5808361216819946, gamma=0.05399484409787431;, score=0.727 total time=   1.3s\n",
      "[CV 3/3] END C=1.5808361216819946, gamma=0.05399484409787431;, score=0.697 total time=   1.3s\n",
      "[CV 1/3] END C=7.011150117432088, gamma=0.026070247583707663;, score=0.695 total time=   1.4s\n",
      "[CV 2/3] END C=7.011150117432088, gamma=0.026070247583707663;, score=0.720 total time=   1.4s\n",
      "[CV 3/3] END C=7.011150117432088, gamma=0.026070247583707663;, score=0.697 total time=   1.4s\n",
      "[CV 1/3] END C=1.2058449429580245, gamma=0.0870602087830485;, score=0.699 total time=   1.4s\n",
      "[CV 2/3] END C=1.2058449429580245, gamma=0.0870602087830485;, score=0.736 total time=   1.4s\n",
      "[CV 3/3] END C=1.2058449429580245, gamma=0.0870602087830485;, score=0.703 total time=   1.5s\n",
      "[CV 1/3] END C=9.324426408004218, gamma=0.0026587543983272693;, score=0.618 total time=   1.6s\n",
      "[CV 2/3] END C=9.324426408004218, gamma=0.0026587543983272693;, score=0.656 total time=   1.3s\n",
      "[CV 3/3] END C=9.324426408004218, gamma=0.0026587543983272693;, score=0.612 total time=   1.3s\n",
      "[CV 1/3] END C=2.818249672071006, gamma=0.0023270677083837795;, score=0.596 total time=   1.3s\n",
      "[CV 2/3] END C=2.818249672071006, gamma=0.0023270677083837795;, score=0.637 total time=   1.3s\n",
      "[CV 3/3] END C=2.818249672071006, gamma=0.0023270677083837795;, score=0.596 total time=   1.3s\n",
      "[CV 1/3] END C=4.042422429595377, gamma=0.011207606211860567;, score=0.660 total time=   1.3s\n",
      "[CV 2/3] END C=4.042422429595377, gamma=0.011207606211860567;, score=0.695 total time=   1.3s\n",
      "[CV 3/3] END C=4.042422429595377, gamma=0.011207606211860567;, score=0.669 total time=   1.3s\n",
      "[CV 1/3] END C=5.319450186421157, gamma=0.003823475224675185;, score=0.620 total time=   1.4s\n",
      "[CV 2/3] END C=5.319450186421157, gamma=0.003823475224675185;, score=0.658 total time=   1.3s\n",
      "[CV 3/3] END C=5.319450186421157, gamma=0.003823475224675185;, score=0.626 total time=   1.3s\n"
     ]
    },
    {
     "data": {
      "text/plain": [
       "RandomizedSearchCV(cv=3, estimator=SVR(),\n",
       "                   param_distributions={'C': <scipy.stats._distn_infrastructure.rv_frozen object at 0x7fdb61aa0b00>,\n",
       "                                        'gamma': <scipy.stats._distn_infrastructure.rv_frozen object at 0x7fdb61aa06a0>},\n",
       "                   random_state=42, verbose=3)"
      ]
     },
     "execution_count": 72,
     "metadata": {},
     "output_type": "execute_result"
    }
   ],
   "source": [
    "from sklearn.model_selection import RandomizedSearchCV\n",
    "from scipy.stats import reciprocal, uniform\n",
    "\n",
    "param_distributions = {\"gamma\": reciprocal(0.001, 0.1), \"C\": uniform(1, 10)}\n",
    "rnd_search_cv = RandomizedSearchCV(svr, param_distributions, n_iter=10, verbose=3, cv=3, random_state=42)\n",
    "rnd_search_cv.fit(X_train[:6000], y_train[:6000])"
   ]
  },
  {
   "cell_type": "code",
   "execution_count": 74,
   "id": "37cff7e7",
   "metadata": {},
   "outputs": [
    {
     "data": {
      "text/plain": [
       "SVR(C=4.745401188473625, gamma=0.07969454818643928)"
      ]
     },
     "execution_count": 74,
     "metadata": {},
     "output_type": "execute_result"
    }
   ],
   "source": [
    "rnd_search_cv.best_estimator_"
   ]
  },
  {
   "cell_type": "code",
   "execution_count": 75,
   "id": "6ae2f991",
   "metadata": {},
   "outputs": [],
   "source": [
    "y_pred = rnd_search_cv.best_estimator_.predict(X_test)"
   ]
  },
  {
   "cell_type": "code",
   "execution_count": 76,
   "id": "4d9cddc3",
   "metadata": {},
   "outputs": [
    {
     "data": {
      "text/plain": [
       "0.5990924757047532"
      ]
     },
     "execution_count": 76,
     "metadata": {},
     "output_type": "execute_result"
    }
   ],
   "source": [
    "from sklearn.metrics import mean_squared_error\n",
    "\n",
    "mse = mean_squared_error(y_test, y_pred)\n",
    "rmse = np.sqrt(mse)\n",
    "rmse"
   ]
  },
  {
   "cell_type": "code",
   "execution_count": null,
   "id": "ced10fca",
   "metadata": {},
   "outputs": [],
   "source": []
  }
 ],
 "metadata": {
  "kernelspec": {
   "display_name": "Python 3",
   "language": "python",
   "name": "python3"
  },
  "language_info": {
   "codemirror_mode": {
    "name": "ipython",
    "version": 3
   },
   "file_extension": ".py",
   "mimetype": "text/x-python",
   "name": "python",
   "nbconvert_exporter": "python",
   "pygments_lexer": "ipython3",
   "version": "3.6.9"
  }
 },
 "nbformat": 4,
 "nbformat_minor": 5
}
